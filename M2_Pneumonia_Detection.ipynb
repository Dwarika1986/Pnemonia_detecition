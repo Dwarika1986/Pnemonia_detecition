{
  "cells": [
    {
      "cell_type": "markdown",
      "metadata": {
        "id": "view-in-github",
        "colab_type": "text"
      },
      "source": [
        "<a href=\"https://colab.research.google.com/github/Dwarika1986/Pnemonia_detecition/blob/main/M2_Pneumonia_Detection.ipynb\" target=\"_parent\"><img src=\"https://colab.research.google.com/assets/colab-badge.svg\" alt=\"Open In Colab\"/></a>"
      ]
    },
    {
      "cell_type": "markdown",
      "metadata": {
        "id": "lJsx8A0A8Jqf"
      },
      "source": [
        "# CAPSTONE PROJECT - PNEUMONIA DETECTION CHALLENGE\n",
        "## Milestone 2"
      ]
    },
    {
      "cell_type": "markdown",
      "metadata": {
        "id": "XefNx_aP8O8F"
      },
      "source": [
        "**Course:** PGP-AIML, Great Learning"
      ]
    },
    {
      "cell_type": "code",
      "execution_count": null,
      "metadata": {
        "id": "MpMmHZb1mTlx"
      },
      "outputs": [],
      "source": [
        "path = '/content/drive/MyDrive/GL_Pneumonia_Detection/file/'"
      ]
    },
    {
      "cell_type": "markdown",
      "metadata": {
        "id": "WKn2XnKdDf8m"
      },
      "source": [
        "## Getting started"
      ]
    },
    {
      "cell_type": "markdown",
      "metadata": {
        "id": "1cdkBP1MPNd9"
      },
      "source": [
        "**Importing required libraries**"
      ]
    },
    {
      "cell_type": "code",
      "execution_count": null,
      "metadata": {
        "id": "AtXTPFcLDoqo"
      },
      "outputs": [],
      "source": [
        "# import libraries\n",
        "import pandas as pd\n",
        "import numpy as np\n",
        "import matplotlib.pyplot as plt\n",
        "import seaborn as sns\n",
        "import pickle\n",
        "import cv2\n",
        "import random"
      ]
    },
    {
      "cell_type": "code",
      "execution_count": null,
      "metadata": {
        "colab": {
          "base_uri": "https://localhost:8080/"
        },
        "id": "cK6zWul8l39M",
        "outputId": "745816f5-9b38-4f8e-a212-af96b4be84b6"
      },
      "outputs": [
        {
          "output_type": "stream",
          "name": "stdout",
          "text": [
            "Mounted at /content/drive\n"
          ]
        }
      ],
      "source": [
        "from google.colab import drive\n",
        "drive.mount('/content/drive')"
      ]
    },
    {
      "cell_type": "markdown",
      "metadata": {
        "id": "hMUDy2BbPJwM"
      },
      "source": [
        "**Importing Deep learning libraries**"
      ]
    },
    {
      "cell_type": "code",
      "execution_count": null,
      "metadata": {
        "id": "v-pfnam91cDB"
      },
      "outputs": [],
      "source": [
        "# Importing required deep learning libraries\n",
        "import tensorflow as tf\n",
        "from tensorflow import keras\n",
        "from tensorflow.keras import layers, models\n",
        "from tensorflow.keras import metrics"
      ]
    },
    {
      "cell_type": "markdown",
      "source": [],
      "metadata": {
        "id": "E4CsY2AIpppf"
      }
    },
    {
      "cell_type": "markdown",
      "metadata": {
        "id": "YeOAuWctSXhr"
      },
      "source": [
        "**Setting up the GPU**"
      ]
    },
    {
      "cell_type": "code",
      "execution_count": null,
      "metadata": {
        "colab": {
          "base_uri": "https://localhost:8080/"
        },
        "id": "mLnWEDZPSW63",
        "outputId": "ec35c417-183b-4f4e-ea23-2882da29ed1d"
      },
      "outputs": [
        {
          "output_type": "stream",
          "name": "stdout",
          "text": [
            "2.18.0\n",
            "Num GPUs Available:  1\n"
          ]
        }
      ],
      "source": [
        "# Getting info on GPU\n",
        "print(tf.__version__)\n",
        "print(\"Num GPUs Available: \", len(tf.config.list_physical_devices('GPU')))"
      ]
    },
    {
      "cell_type": "markdown",
      "metadata": {
        "id": "aiqCLvba8P3E"
      },
      "source": [
        "## Importing the Preprocessed Datasets"
      ]
    },
    {
      "cell_type": "markdown",
      "metadata": {
        "id": "DWHhdXTNrbZN"
      },
      "source": [
        "**Extracting the processed images**"
      ]
    },
    {
      "cell_type": "code",
      "execution_count": null,
      "metadata": {
        "id": "ddP2zb52rMcG"
      },
      "outputs": [],
      "source": [
        "!unzip /content/drive/MyDrive/GL_Pneumonia_Detection/file/processed_images.zip\n",
        "!mv /content/content/processed_images /content/processed_images/"
      ]
    },
    {
      "cell_type": "markdown",
      "metadata": {
        "id": "_rI0uR8j52Z4"
      },
      "source": [
        "**Importing required files**"
      ]
    },
    {
      "cell_type": "code",
      "execution_count": null,
      "metadata": {
        "id": "JbMhILUj4pus"
      },
      "outputs": [],
      "source": [
        "path = '/content/drive/MyDrive/GL_Pneumonia_Detection/file/'\n",
        "\n",
        "# importing pickle\n",
        "with open(path + 'processed_data.pkl', 'rb') as f:\n",
        "    data = pickle.load(f)\n",
        "\n",
        "# Importing essential data\n",
        "X_train_ids, X_val_ids, X_test_ids = data['X_train_ids'], data['X_val_ids'], data['X_test_ids']\n",
        "binary_target, multiclass_target = data['binary_target'], data['multiclass_target']\n",
        "resized_bbox = data['resized_mask']\n",
        "\n",
        "# importing Training, testing and validation sets\n",
        "data_label = pd.read_csv(path + 'data_labels_xywh.csv')"
      ]
    },
    {
      "cell_type": "markdown",
      "source": [
        "**Custom Dataset Loader with Data Augmentation**"
      ],
      "metadata": {
        "id": "1mG8Nhima1-H"
      }
    },
    {
      "cell_type": "code",
      "source": [
        "import tensorflow as tf\n",
        "\n",
        "new_dir = '/content/processed_images/'\n",
        "\n",
        "# Data augmentation for training dataset only\n",
        "data_augmentation = tf.keras.Sequential([\n",
        "\n",
        "    # Adding augmentation other than roation is reducing model performance\n",
        "    tf.keras.layers.RandomRotation(0.2),\n",
        "\n",
        "])\n",
        "\n",
        "def load_image_and_labels(filename, augment=False):\n",
        "    \"\"\"Load and preprocess an image, bounding box, and binary label, with optional augmentation.\"\"\"\n",
        "\n",
        "    def process_filename(filename):\n",
        "        \"\"\"Helper function to process filename and fetch labels.\"\"\"\n",
        "        filename_str = filename.numpy().decode(\"utf-8\")  # Convert from bytes to string\n",
        "        img_path = f\"{new_dir}{filename_str}.jpg\"\n",
        "\n",
        "        # Read and decode image\n",
        "        image = tf.io.read_file(img_path)\n",
        "        image = tf.image.decode_jpeg(image, channels=1)\n",
        "        image = tf.cast(image, tf.float32) #/ 255.0  # Normalize\n",
        "\n",
        "        # Get binary label\n",
        "        binary_label = binary_target[filename_str]  # Ensure binary_target is a dictionary\n",
        "        binary_label = tf.convert_to_tensor(binary_label, dtype=tf.float32)\n",
        "\n",
        "        return image, binary_label\n",
        "\n",
        "    # Use tf.py_function to handle numpy() calls inside tf.data pipeline\n",
        "    image, binary_label = tf.py_function(func=process_filename, inp=[filename], Tout=[tf.float32, tf.float32])\n",
        "\n",
        "    # Fix Tensor shapes after tf.py_function\n",
        "    image.set_shape((None, None, 1))  # Assuming grayscale image\n",
        "    binary_label.set_shape(())\n",
        "\n",
        "    if augment:\n",
        "        image = data_augmentation(tf.expand_dims(image, 0))  # Add batch dimension\n",
        "        image = tf.squeeze(image, axis=0)  # Remove batch dimension\n",
        "\n",
        "    return image, binary_label\n",
        "\n",
        "def create_dataset(file_ids, batch_size=32, shuffle=False, augment=False):\n",
        "    \"\"\"Create a TensorFlow dataset with optional augmentation.\"\"\"\n",
        "    dataset = tf.data.Dataset.from_tensor_slices(file_ids)\n",
        "\n",
        "    # Load images and labels\n",
        "    dataset = dataset.map(lambda x: load_image_and_labels(x, augment=augment), num_parallel_calls=tf.data.AUTOTUNE)\n",
        "\n",
        "    if shuffle:\n",
        "        dataset = dataset.shuffle(buffer_size=len(file_ids))\n",
        "\n",
        "    dataset = dataset.batch(batch_size).prefetch(tf.data.AUTOTUNE)\n",
        "    return dataset\n",
        "\n",
        "# Create training, validation, and test datasets\n",
        "train_dataset = create_dataset(X_train_ids, batch_size=32, augment=True)\n",
        "val_dataset = create_dataset(X_val_ids, batch_size=32)\n",
        "test_dataset = create_dataset(X_test_ids, batch_size=32)\n",
        "\n",
        "# collecting target variable\n",
        "y_train = X_train_ids.apply(lambda x: binary_target[x])\n",
        "y_test = X_test_ids.apply(lambda x: binary_target[x])\n",
        "\n",
        "print('Dataset generated..')"
      ],
      "metadata": {
        "id": "P6vCOhp88MFg",
        "colab": {
          "base_uri": "https://localhost:8080/"
        },
        "outputId": "64f2a17e-5e7c-42d2-96de-d3623f413815"
      },
      "execution_count": null,
      "outputs": [
        {
          "output_type": "stream",
          "name": "stdout",
          "text": [
            "Dataset generated..\n"
          ]
        }
      ]
    },
    {
      "cell_type": "markdown",
      "source": [
        "**Functions for model Evaluation**"
      ],
      "metadata": {
        "id": "OQwQLz81-61Z"
      }
    },
    {
      "cell_type": "code",
      "source": [
        "from sklearn.metrics import accuracy_score, precision_score, recall_score, f1_score\n",
        "\n",
        "# Evaluating model - Traing Vs Test dataset\n",
        "def model_eval(y_train, y_pred_train, y_test, y_pred_test, average = 'binary'):\n",
        "  \"\"\" A function for evaluating model against Training and Testing scores \"\"\"\n",
        "\n",
        "  df_type = ['Train', 'Test']\n",
        "\n",
        "  # calculating the scores\n",
        "  col_acc = [accuracy_score(y_train, y_pred_train), accuracy_score(y_test, y_pred_test)]\n",
        "  col_pre = [precision_score(y_train, y_pred_train, average = average), precision_score(y_test, y_pred_test, average = average)]\n",
        "  col_rec = [recall_score(y_train, y_pred_train, average = average), recall_score(y_test, y_pred_test, average = average)]\n",
        "  col_f1s = [f1_score(y_train, y_pred_train, average = average), f1_score(y_test, y_pred_test, average = average)]\n",
        "\n",
        "  # building the dataframe\n",
        "  per_dict = {'Accuracy' : col_acc, 'Precision': col_pre, 'Recall': col_rec, 'F-score': col_f1s}\n",
        "  per_df = pd.DataFrame(per_dict, index = df_type)\n",
        "\n",
        "  return per_df\n"
      ],
      "metadata": {
        "id": "AQJWCM7r-8AH"
      },
      "execution_count": null,
      "outputs": []
    },
    {
      "cell_type": "code",
      "source": [
        "from sklearn.metrics import confusion_matrix\n",
        "from sklearn.metrics import classification_report\n",
        "from sklearn.metrics import roc_curve, auc, roc_auc_score\n",
        "\n",
        "def conf_roc_info(y_train, y_prob_train, y_test, y_prob_test, figsize = (12,8)):\n",
        "  \"\"\"# A fucntion for plotting confusion matrix\"\"\"\n",
        "\n",
        "  col = ['Predicted 0', 'Predicted 1']\n",
        "  ind= ['Actual 0', 'Actual 1']\n",
        "\n",
        "  # Training set\n",
        "  y_pred_train = (y_prob_train > 0.5).astype(int)\n",
        "  c_matrix_train = pd.DataFrame(confusion_matrix(y_train, y_pred_train), col, ind)\n",
        "  fpr_train, tpr_train, threshold_train = roc_curve(y_train, y_prob_train)\n",
        "  roc_auc_train = auc(fpr_train, tpr_train)\n",
        "\n",
        "  # Test set\n",
        "  y_pred_test = (y_prob_test > 0.5).astype(int)\n",
        "  c_matrix_test = pd.DataFrame(confusion_matrix(y_test, y_pred_test), col, ind)\n",
        "  fpr_test, tpr_test, threshold_test = roc_curve(y_test, y_prob_test)\n",
        "  roc_auc_test = auc(fpr_test, tpr_test)\n",
        "\n",
        "  # AUC Score\n",
        "  auc_score_train = roc_auc_score(y_train, y_prob_train)\n",
        "  auc_score_test = roc_auc_score(y_test, y_prob_test)\n",
        "\n",
        "  fig, ax = plt.subplots(2,2, figsize = figsize)\n",
        "\n",
        "  # plotting heatmap and roc curve for training set\n",
        "  sns.heatmap(c_matrix_train, annot=True, fmt = 'g', ax = ax[0][0], cmap = 'Blues');\n",
        "  ax[0][1].plot(fpr_train, tpr_train, 'r', label = 'AUC')\n",
        "  ax[0][1].plot([0, 1], [0, 1],'r--')\n",
        "  ax[0][0].set_title('Confusion Matrix: Training set')\n",
        "  ax[0][1].set_title('Training set - AUC score: %.3f' % auc_score_train)\n",
        "\n",
        "  # plotting heatmap and roc curve for test set\n",
        "  sns.heatmap(c_matrix_test, annot=True, fmt = 'g', ax = ax[1][0], cmap = 'viridis');\n",
        "  ax[1][1].plot(fpr_test, tpr_test, 'b', label = 'AUC')\n",
        "  ax[1][1].plot([0, 1], [0, 1],'b--')\n",
        "  ax[1][0].set_title('Confusion Matrix: Test set')\n",
        "  ax[1][1].set_title('Test set - AUC score: %.3f' % auc_score_test)\n",
        "\n",
        "  plt.show()"
      ],
      "metadata": {
        "id": "EqOZTNO0_D0R"
      },
      "execution_count": null,
      "outputs": []
    },
    {
      "cell_type": "code",
      "source": [
        "# classification report\n",
        "from sklearn.metrics import classification_report\n",
        "def plot_classification_report(y, y_pred, color = 'Purples'):\n",
        "  return pd.DataFrame(classification_report(y, y_pred, output_dict=True)).T.style.background_gradient(cmap=color)"
      ],
      "metadata": {
        "id": "H152UAy-_LX-"
      },
      "execution_count": null,
      "outputs": []
    },
    {
      "cell_type": "markdown",
      "metadata": {
        "id": "vnOo07_crV7L"
      },
      "source": [
        "##**Transfer Learning**"
      ]
    },
    {
      "cell_type": "code",
      "source": [
        "#import EfficientNetB0\n",
        "from tensorflow.keras.applications import EfficientNetB0\n",
        "import tensorflow.keras.optimizers as optimizers\n",
        "\n",
        "base_model = EfficientNetB0(weights='imagenet', include_top=False, input_shape=(224, 224, 3))\n",
        "\n",
        "# Freeze the base model initially\n",
        "base_model.trainable = False\n",
        "\n",
        "# Add custom layers\n",
        "model = models.Sequential([\n",
        "    base_model,\n",
        "    layers.GlobalAveragePooling2D(),\n",
        "    layers.Dense(256, activation='relu'),\n",
        "    layers.Dropout(0.3),\n",
        "    layers.Dense(1, activation='sigmoid')  # Binary classification\n",
        "])\n",
        "\n",
        "# Compile the model\n",
        "model.compile(\n",
        "    optimizer=optimizers.Adam(learning_rate=1e-4),\n",
        "    loss='binary_crossentropy',\n",
        "    metrics=[metrics.Recall(name='Recall'),\n",
        "             \"accuracy\",\n",
        "             metrics.Precision(name='Precision'),\n",
        "             metrics.AUC(name='AUC')]\n",
        ")\n",
        "\n",
        "model.summary()"
      ],
      "metadata": {
        "id": "noS4Z8155YIt",
        "colab": {
          "base_uri": "https://localhost:8080/",
          "height": 305
        },
        "outputId": "dcde243e-8b11-40ad-b9b8-e3be20e4450f"
      },
      "execution_count": null,
      "outputs": [
        {
          "output_type": "display_data",
          "data": {
            "text/plain": [
              "\u001b[1mModel: \"sequential_3\"\u001b[0m\n"
            ],
            "text/html": [
              "<pre style=\"white-space:pre;overflow-x:auto;line-height:normal;font-family:Menlo,'DejaVu Sans Mono',consolas,'Courier New',monospace\"><span style=\"font-weight: bold\">Model: \"sequential_3\"</span>\n",
              "</pre>\n"
            ]
          },
          "metadata": {}
        },
        {
          "output_type": "display_data",
          "data": {
            "text/plain": [
              "┏━━━━━━━━━━━━━━━━━━━━━━━━━━━━━━━━━━━━━━┳━━━━━━━━━━━━━━━━━━━━━━━━━━━━━┳━━━━━━━━━━━━━━━━━┓\n",
              "┃\u001b[1m \u001b[0m\u001b[1mLayer (type)                        \u001b[0m\u001b[1m \u001b[0m┃\u001b[1m \u001b[0m\u001b[1mOutput Shape               \u001b[0m\u001b[1m \u001b[0m┃\u001b[1m \u001b[0m\u001b[1m        Param #\u001b[0m\u001b[1m \u001b[0m┃\n",
              "┡━━━━━━━━━━━━━━━━━━━━━━━━━━━━━━━━━━━━━━╇━━━━━━━━━━━━━━━━━━━━━━━━━━━━━╇━━━━━━━━━━━━━━━━━┩\n",
              "│ efficientnetb0 (\u001b[38;5;33mFunctional\u001b[0m)          │ (\u001b[38;5;45mNone\u001b[0m, \u001b[38;5;34m7\u001b[0m, \u001b[38;5;34m7\u001b[0m, \u001b[38;5;34m1280\u001b[0m)          │       \u001b[38;5;34m4,049,571\u001b[0m │\n",
              "├──────────────────────────────────────┼─────────────────────────────┼─────────────────┤\n",
              "│ global_average_pooling2d_1           │ (\u001b[38;5;45mNone\u001b[0m, \u001b[38;5;34m1280\u001b[0m)                │               \u001b[38;5;34m0\u001b[0m │\n",
              "│ (\u001b[38;5;33mGlobalAveragePooling2D\u001b[0m)             │                             │                 │\n",
              "├──────────────────────────────────────┼─────────────────────────────┼─────────────────┤\n",
              "│ dense_2 (\u001b[38;5;33mDense\u001b[0m)                      │ (\u001b[38;5;45mNone\u001b[0m, \u001b[38;5;34m256\u001b[0m)                 │         \u001b[38;5;34m327,936\u001b[0m │\n",
              "├──────────────────────────────────────┼─────────────────────────────┼─────────────────┤\n",
              "│ dropout_1 (\u001b[38;5;33mDropout\u001b[0m)                  │ (\u001b[38;5;45mNone\u001b[0m, \u001b[38;5;34m256\u001b[0m)                 │               \u001b[38;5;34m0\u001b[0m │\n",
              "├──────────────────────────────────────┼─────────────────────────────┼─────────────────┤\n",
              "│ dense_3 (\u001b[38;5;33mDense\u001b[0m)                      │ (\u001b[38;5;45mNone\u001b[0m, \u001b[38;5;34m1\u001b[0m)                   │             \u001b[38;5;34m257\u001b[0m │\n",
              "└──────────────────────────────────────┴─────────────────────────────┴─────────────────┘\n"
            ],
            "text/html": [
              "<pre style=\"white-space:pre;overflow-x:auto;line-height:normal;font-family:Menlo,'DejaVu Sans Mono',consolas,'Courier New',monospace\">┏━━━━━━━━━━━━━━━━━━━━━━━━━━━━━━━━━━━━━━┳━━━━━━━━━━━━━━━━━━━━━━━━━━━━━┳━━━━━━━━━━━━━━━━━┓\n",
              "┃<span style=\"font-weight: bold\"> Layer (type)                         </span>┃<span style=\"font-weight: bold\"> Output Shape                </span>┃<span style=\"font-weight: bold\">         Param # </span>┃\n",
              "┡━━━━━━━━━━━━━━━━━━━━━━━━━━━━━━━━━━━━━━╇━━━━━━━━━━━━━━━━━━━━━━━━━━━━━╇━━━━━━━━━━━━━━━━━┩\n",
              "│ efficientnetb0 (<span style=\"color: #0087ff; text-decoration-color: #0087ff\">Functional</span>)          │ (<span style=\"color: #00d7ff; text-decoration-color: #00d7ff\">None</span>, <span style=\"color: #00af00; text-decoration-color: #00af00\">7</span>, <span style=\"color: #00af00; text-decoration-color: #00af00\">7</span>, <span style=\"color: #00af00; text-decoration-color: #00af00\">1280</span>)          │       <span style=\"color: #00af00; text-decoration-color: #00af00\">4,049,571</span> │\n",
              "├──────────────────────────────────────┼─────────────────────────────┼─────────────────┤\n",
              "│ global_average_pooling2d_1           │ (<span style=\"color: #00d7ff; text-decoration-color: #00d7ff\">None</span>, <span style=\"color: #00af00; text-decoration-color: #00af00\">1280</span>)                │               <span style=\"color: #00af00; text-decoration-color: #00af00\">0</span> │\n",
              "│ (<span style=\"color: #0087ff; text-decoration-color: #0087ff\">GlobalAveragePooling2D</span>)             │                             │                 │\n",
              "├──────────────────────────────────────┼─────────────────────────────┼─────────────────┤\n",
              "│ dense_2 (<span style=\"color: #0087ff; text-decoration-color: #0087ff\">Dense</span>)                      │ (<span style=\"color: #00d7ff; text-decoration-color: #00d7ff\">None</span>, <span style=\"color: #00af00; text-decoration-color: #00af00\">256</span>)                 │         <span style=\"color: #00af00; text-decoration-color: #00af00\">327,936</span> │\n",
              "├──────────────────────────────────────┼─────────────────────────────┼─────────────────┤\n",
              "│ dropout_1 (<span style=\"color: #0087ff; text-decoration-color: #0087ff\">Dropout</span>)                  │ (<span style=\"color: #00d7ff; text-decoration-color: #00d7ff\">None</span>, <span style=\"color: #00af00; text-decoration-color: #00af00\">256</span>)                 │               <span style=\"color: #00af00; text-decoration-color: #00af00\">0</span> │\n",
              "├──────────────────────────────────────┼─────────────────────────────┼─────────────────┤\n",
              "│ dense_3 (<span style=\"color: #0087ff; text-decoration-color: #0087ff\">Dense</span>)                      │ (<span style=\"color: #00d7ff; text-decoration-color: #00d7ff\">None</span>, <span style=\"color: #00af00; text-decoration-color: #00af00\">1</span>)                   │             <span style=\"color: #00af00; text-decoration-color: #00af00\">257</span> │\n",
              "└──────────────────────────────────────┴─────────────────────────────┴─────────────────┘\n",
              "</pre>\n"
            ]
          },
          "metadata": {}
        },
        {
          "output_type": "display_data",
          "data": {
            "text/plain": [
              "\u001b[1m Total params: \u001b[0m\u001b[38;5;34m4,377,764\u001b[0m (16.70 MB)\n"
            ],
            "text/html": [
              "<pre style=\"white-space:pre;overflow-x:auto;line-height:normal;font-family:Menlo,'DejaVu Sans Mono',consolas,'Courier New',monospace\"><span style=\"font-weight: bold\"> Total params: </span><span style=\"color: #00af00; text-decoration-color: #00af00\">4,377,764</span> (16.70 MB)\n",
              "</pre>\n"
            ]
          },
          "metadata": {}
        },
        {
          "output_type": "display_data",
          "data": {
            "text/plain": [
              "\u001b[1m Trainable params: \u001b[0m\u001b[38;5;34m328,193\u001b[0m (1.25 MB)\n"
            ],
            "text/html": [
              "<pre style=\"white-space:pre;overflow-x:auto;line-height:normal;font-family:Menlo,'DejaVu Sans Mono',consolas,'Courier New',monospace\"><span style=\"font-weight: bold\"> Trainable params: </span><span style=\"color: #00af00; text-decoration-color: #00af00\">328,193</span> (1.25 MB)\n",
              "</pre>\n"
            ]
          },
          "metadata": {}
        },
        {
          "output_type": "display_data",
          "data": {
            "text/plain": [
              "\u001b[1m Non-trainable params: \u001b[0m\u001b[38;5;34m4,049,571\u001b[0m (15.45 MB)\n"
            ],
            "text/html": [
              "<pre style=\"white-space:pre;overflow-x:auto;line-height:normal;font-family:Menlo,'DejaVu Sans Mono',consolas,'Courier New',monospace\"><span style=\"font-weight: bold\"> Non-trainable params: </span><span style=\"color: #00af00; text-decoration-color: #00af00\">4,049,571</span> (15.45 MB)\n",
              "</pre>\n"
            ]
          },
          "metadata": {}
        }
      ]
    },
    {
      "cell_type": "code",
      "source": [
        "from tensorflow.keras.callbacks import EarlyStopping, ModelCheckpoint, ReduceLROnPlateau\n",
        "\n",
        "# Callbacks\n",
        "early_stopping = EarlyStopping(monitor='val_loss', patience=2, restore_best_weights=True)\n",
        "model_checkpoint = ModelCheckpoint('best_cnn_model.keras', monitor='val_loss', save_best_only=True)\n",
        "reduce_lr = ReduceLROnPlateau(monitor='val_loss', factor=0.2, patience=3, min_lr=1e-6, verbose=1)\n",
        "\n",
        "history = model.fit(train_dataset,\n",
        "                    epochs=5,\n",
        "                    validation_data=val_dataset,\n",
        "                    class_weight={0: 1.0, 1: 3.0},\n",
        "                    callbacks=[early_stopping, model_checkpoint, reduce_lr]\n",
        ")"
      ],
      "metadata": {
        "id": "v68DPVlG8pYM",
        "colab": {
          "base_uri": "https://localhost:8080/"
        },
        "outputId": "4c0b8928-a66a-482a-ac72-8173f1741f0c"
      },
      "execution_count": null,
      "outputs": [
        {
          "output_type": "stream",
          "name": "stdout",
          "text": [
            "Epoch 1/5\n",
            "\u001b[1m526/526\u001b[0m \u001b[32m━━━━━━━━━━━━━━━━━━━━\u001b[0m\u001b[37m\u001b[0m \u001b[1m128s\u001b[0m 203ms/step - AUC: 0.7583 - Precision: 0.4254 - Recall: 0.6548 - accuracy: 0.7267 - loss: 0.8416 - val_AUC: 0.8254 - val_Precision: 0.4682 - val_Recall: 0.7530 - val_accuracy: 0.7516 - val_loss: 0.5060 - learning_rate: 1.0000e-04\n",
            "Epoch 2/5\n",
            "\u001b[1m526/526\u001b[0m \u001b[32m━━━━━━━━━━━━━━━━━━━━\u001b[0m\u001b[37m\u001b[0m \u001b[1m81s\u001b[0m 154ms/step - AUC: 0.8121 - Precision: 0.4586 - Recall: 0.7372 - accuracy: 0.7473 - loss: 0.7635 - val_AUC: 0.8312 - val_Precision: 0.4931 - val_Recall: 0.6770 - val_accuracy: 0.7703 - val_loss: 0.4517 - learning_rate: 1.0000e-04\n",
            "Epoch 3/5\n",
            "\u001b[1m526/526\u001b[0m \u001b[32m━━━━━━━━━━━━━━━━━━━━\u001b[0m\u001b[37m\u001b[0m \u001b[1m79s\u001b[0m 150ms/step - AUC: 0.8237 - Precision: 0.4624 - Recall: 0.7435 - accuracy: 0.7503 - loss: 0.7426 - val_AUC: 0.8366 - val_Precision: 0.4704 - val_Recall: 0.7743 - val_accuracy: 0.7527 - val_loss: 0.4885 - learning_rate: 1.0000e-04\n",
            "Epoch 4/5\n",
            "\u001b[1m526/526\u001b[0m \u001b[32m━━━━━━━━━━━━━━━━━━━━\u001b[0m\u001b[37m\u001b[0m \u001b[1m82s\u001b[0m 150ms/step - AUC: 0.8268 - Precision: 0.4662 - Recall: 0.7458 - accuracy: 0.7531 - loss: 0.7362 - val_AUC: 0.8376 - val_Precision: 0.4806 - val_Recall: 0.7340 - val_accuracy: 0.7612 - val_loss: 0.4611 - learning_rate: 1.0000e-04\n"
          ]
        }
      ]
    },
    {
      "cell_type": "code",
      "source": [
        "model.save_weights(\"efficientnet_pneumonia_transfer_learning.weights.h5\")"
      ],
      "metadata": {
        "id": "IH9tHUcvBnJ0"
      },
      "execution_count": null,
      "outputs": []
    },
    {
      "cell_type": "code",
      "source": [
        "# train predictions\n",
        "y_eff_transfer_train_prob = model.predict(train_dataset)\n",
        "y_eff_transfer_train_pred = (y_eff_transfer_train_prob > 0.5).astype(int)\n",
        "\n",
        "# test predictions\n",
        "y_eff_transfer_test_prob = model.predict(test_dataset)\n",
        "y_eff_transfer_test_pred = (y_eff_transfer_test_prob > 0.5).astype(int)"
      ],
      "metadata": {
        "id": "aagM3STU9Mjy",
        "colab": {
          "base_uri": "https://localhost:8080/"
        },
        "outputId": "9cb0012d-1aa8-40c9-d009-a94feb8e6c36"
      },
      "execution_count": null,
      "outputs": [
        {
          "output_type": "stream",
          "name": "stdout",
          "text": [
            "\u001b[1m526/526\u001b[0m \u001b[32m━━━━━━━━━━━━━━━━━━━━\u001b[0m\u001b[37m\u001b[0m \u001b[1m84s\u001b[0m 146ms/step\n",
            "\u001b[1m251/251\u001b[0m \u001b[32m━━━━━━━━━━━━━━━━━━━━\u001b[0m\u001b[37m\u001b[0m \u001b[1m24s\u001b[0m 97ms/step\n"
          ]
        }
      ]
    },
    {
      "cell_type": "code",
      "source": [
        "eff_transfer_eval = model_eval(y_train, y_eff_transfer_train_pred, y_test, y_eff_transfer_test_pred)\n",
        "eff_transfer_eval"
      ],
      "metadata": {
        "id": "kBIjx2GU8zn6",
        "colab": {
          "base_uri": "https://localhost:8080/",
          "height": 125
        },
        "outputId": "ae2bbcb8-46d9-44a0-9509-737625ff6851"
      },
      "execution_count": null,
      "outputs": [
        {
          "output_type": "execute_result",
          "data": {
            "text/plain": [
              "       Accuracy  Precision    Recall   F-score\n",
              "Train  0.764783   0.485219  0.723792  0.580967\n",
              "Test   0.776168   0.502483  0.672949  0.575355"
            ],
            "text/html": [
              "\n",
              "  <div id=\"df-ca1c04c6-66b6-4bf6-898a-fee1fff49e04\" class=\"colab-df-container\">\n",
              "    <div>\n",
              "<style scoped>\n",
              "    .dataframe tbody tr th:only-of-type {\n",
              "        vertical-align: middle;\n",
              "    }\n",
              "\n",
              "    .dataframe tbody tr th {\n",
              "        vertical-align: top;\n",
              "    }\n",
              "\n",
              "    .dataframe thead th {\n",
              "        text-align: right;\n",
              "    }\n",
              "</style>\n",
              "<table border=\"1\" class=\"dataframe\">\n",
              "  <thead>\n",
              "    <tr style=\"text-align: right;\">\n",
              "      <th></th>\n",
              "      <th>Accuracy</th>\n",
              "      <th>Precision</th>\n",
              "      <th>Recall</th>\n",
              "      <th>F-score</th>\n",
              "    </tr>\n",
              "  </thead>\n",
              "  <tbody>\n",
              "    <tr>\n",
              "      <th>Train</th>\n",
              "      <td>0.764783</td>\n",
              "      <td>0.485219</td>\n",
              "      <td>0.723792</td>\n",
              "      <td>0.580967</td>\n",
              "    </tr>\n",
              "    <tr>\n",
              "      <th>Test</th>\n",
              "      <td>0.776168</td>\n",
              "      <td>0.502483</td>\n",
              "      <td>0.672949</td>\n",
              "      <td>0.575355</td>\n",
              "    </tr>\n",
              "  </tbody>\n",
              "</table>\n",
              "</div>\n",
              "    <div class=\"colab-df-buttons\">\n",
              "\n",
              "  <div class=\"colab-df-container\">\n",
              "    <button class=\"colab-df-convert\" onclick=\"convertToInteractive('df-ca1c04c6-66b6-4bf6-898a-fee1fff49e04')\"\n",
              "            title=\"Convert this dataframe to an interactive table.\"\n",
              "            style=\"display:none;\">\n",
              "\n",
              "  <svg xmlns=\"http://www.w3.org/2000/svg\" height=\"24px\" viewBox=\"0 -960 960 960\">\n",
              "    <path d=\"M120-120v-720h720v720H120Zm60-500h600v-160H180v160Zm220 220h160v-160H400v160Zm0 220h160v-160H400v160ZM180-400h160v-160H180v160Zm440 0h160v-160H620v160ZM180-180h160v-160H180v160Zm440 0h160v-160H620v160Z\"/>\n",
              "  </svg>\n",
              "    </button>\n",
              "\n",
              "  <style>\n",
              "    .colab-df-container {\n",
              "      display:flex;\n",
              "      gap: 12px;\n",
              "    }\n",
              "\n",
              "    .colab-df-convert {\n",
              "      background-color: #E8F0FE;\n",
              "      border: none;\n",
              "      border-radius: 50%;\n",
              "      cursor: pointer;\n",
              "      display: none;\n",
              "      fill: #1967D2;\n",
              "      height: 32px;\n",
              "      padding: 0 0 0 0;\n",
              "      width: 32px;\n",
              "    }\n",
              "\n",
              "    .colab-df-convert:hover {\n",
              "      background-color: #E2EBFA;\n",
              "      box-shadow: 0px 1px 2px rgba(60, 64, 67, 0.3), 0px 1px 3px 1px rgba(60, 64, 67, 0.15);\n",
              "      fill: #174EA6;\n",
              "    }\n",
              "\n",
              "    .colab-df-buttons div {\n",
              "      margin-bottom: 4px;\n",
              "    }\n",
              "\n",
              "    [theme=dark] .colab-df-convert {\n",
              "      background-color: #3B4455;\n",
              "      fill: #D2E3FC;\n",
              "    }\n",
              "\n",
              "    [theme=dark] .colab-df-convert:hover {\n",
              "      background-color: #434B5C;\n",
              "      box-shadow: 0px 1px 3px 1px rgba(0, 0, 0, 0.15);\n",
              "      filter: drop-shadow(0px 1px 2px rgba(0, 0, 0, 0.3));\n",
              "      fill: #FFFFFF;\n",
              "    }\n",
              "  </style>\n",
              "\n",
              "    <script>\n",
              "      const buttonEl =\n",
              "        document.querySelector('#df-ca1c04c6-66b6-4bf6-898a-fee1fff49e04 button.colab-df-convert');\n",
              "      buttonEl.style.display =\n",
              "        google.colab.kernel.accessAllowed ? 'block' : 'none';\n",
              "\n",
              "      async function convertToInteractive(key) {\n",
              "        const element = document.querySelector('#df-ca1c04c6-66b6-4bf6-898a-fee1fff49e04');\n",
              "        const dataTable =\n",
              "          await google.colab.kernel.invokeFunction('convertToInteractive',\n",
              "                                                    [key], {});\n",
              "        if (!dataTable) return;\n",
              "\n",
              "        const docLinkHtml = 'Like what you see? Visit the ' +\n",
              "          '<a target=\"_blank\" href=https://colab.research.google.com/notebooks/data_table.ipynb>data table notebook</a>'\n",
              "          + ' to learn more about interactive tables.';\n",
              "        element.innerHTML = '';\n",
              "        dataTable['output_type'] = 'display_data';\n",
              "        await google.colab.output.renderOutput(dataTable, element);\n",
              "        const docLink = document.createElement('div');\n",
              "        docLink.innerHTML = docLinkHtml;\n",
              "        element.appendChild(docLink);\n",
              "      }\n",
              "    </script>\n",
              "  </div>\n",
              "\n",
              "\n",
              "<div id=\"df-0f4d8b53-b38e-4a73-bba1-3644c8542de4\">\n",
              "  <button class=\"colab-df-quickchart\" onclick=\"quickchart('df-0f4d8b53-b38e-4a73-bba1-3644c8542de4')\"\n",
              "            title=\"Suggest charts\"\n",
              "            style=\"display:none;\">\n",
              "\n",
              "<svg xmlns=\"http://www.w3.org/2000/svg\" height=\"24px\"viewBox=\"0 0 24 24\"\n",
              "     width=\"24px\">\n",
              "    <g>\n",
              "        <path d=\"M19 3H5c-1.1 0-2 .9-2 2v14c0 1.1.9 2 2 2h14c1.1 0 2-.9 2-2V5c0-1.1-.9-2-2-2zM9 17H7v-7h2v7zm4 0h-2V7h2v10zm4 0h-2v-4h2v4z\"/>\n",
              "    </g>\n",
              "</svg>\n",
              "  </button>\n",
              "\n",
              "<style>\n",
              "  .colab-df-quickchart {\n",
              "      --bg-color: #E8F0FE;\n",
              "      --fill-color: #1967D2;\n",
              "      --hover-bg-color: #E2EBFA;\n",
              "      --hover-fill-color: #174EA6;\n",
              "      --disabled-fill-color: #AAA;\n",
              "      --disabled-bg-color: #DDD;\n",
              "  }\n",
              "\n",
              "  [theme=dark] .colab-df-quickchart {\n",
              "      --bg-color: #3B4455;\n",
              "      --fill-color: #D2E3FC;\n",
              "      --hover-bg-color: #434B5C;\n",
              "      --hover-fill-color: #FFFFFF;\n",
              "      --disabled-bg-color: #3B4455;\n",
              "      --disabled-fill-color: #666;\n",
              "  }\n",
              "\n",
              "  .colab-df-quickchart {\n",
              "    background-color: var(--bg-color);\n",
              "    border: none;\n",
              "    border-radius: 50%;\n",
              "    cursor: pointer;\n",
              "    display: none;\n",
              "    fill: var(--fill-color);\n",
              "    height: 32px;\n",
              "    padding: 0;\n",
              "    width: 32px;\n",
              "  }\n",
              "\n",
              "  .colab-df-quickchart:hover {\n",
              "    background-color: var(--hover-bg-color);\n",
              "    box-shadow: 0 1px 2px rgba(60, 64, 67, 0.3), 0 1px 3px 1px rgba(60, 64, 67, 0.15);\n",
              "    fill: var(--button-hover-fill-color);\n",
              "  }\n",
              "\n",
              "  .colab-df-quickchart-complete:disabled,\n",
              "  .colab-df-quickchart-complete:disabled:hover {\n",
              "    background-color: var(--disabled-bg-color);\n",
              "    fill: var(--disabled-fill-color);\n",
              "    box-shadow: none;\n",
              "  }\n",
              "\n",
              "  .colab-df-spinner {\n",
              "    border: 2px solid var(--fill-color);\n",
              "    border-color: transparent;\n",
              "    border-bottom-color: var(--fill-color);\n",
              "    animation:\n",
              "      spin 1s steps(1) infinite;\n",
              "  }\n",
              "\n",
              "  @keyframes spin {\n",
              "    0% {\n",
              "      border-color: transparent;\n",
              "      border-bottom-color: var(--fill-color);\n",
              "      border-left-color: var(--fill-color);\n",
              "    }\n",
              "    20% {\n",
              "      border-color: transparent;\n",
              "      border-left-color: var(--fill-color);\n",
              "      border-top-color: var(--fill-color);\n",
              "    }\n",
              "    30% {\n",
              "      border-color: transparent;\n",
              "      border-left-color: var(--fill-color);\n",
              "      border-top-color: var(--fill-color);\n",
              "      border-right-color: var(--fill-color);\n",
              "    }\n",
              "    40% {\n",
              "      border-color: transparent;\n",
              "      border-right-color: var(--fill-color);\n",
              "      border-top-color: var(--fill-color);\n",
              "    }\n",
              "    60% {\n",
              "      border-color: transparent;\n",
              "      border-right-color: var(--fill-color);\n",
              "    }\n",
              "    80% {\n",
              "      border-color: transparent;\n",
              "      border-right-color: var(--fill-color);\n",
              "      border-bottom-color: var(--fill-color);\n",
              "    }\n",
              "    90% {\n",
              "      border-color: transparent;\n",
              "      border-bottom-color: var(--fill-color);\n",
              "    }\n",
              "  }\n",
              "</style>\n",
              "\n",
              "  <script>\n",
              "    async function quickchart(key) {\n",
              "      const quickchartButtonEl =\n",
              "        document.querySelector('#' + key + ' button');\n",
              "      quickchartButtonEl.disabled = true;  // To prevent multiple clicks.\n",
              "      quickchartButtonEl.classList.add('colab-df-spinner');\n",
              "      try {\n",
              "        const charts = await google.colab.kernel.invokeFunction(\n",
              "            'suggestCharts', [key], {});\n",
              "      } catch (error) {\n",
              "        console.error('Error during call to suggestCharts:', error);\n",
              "      }\n",
              "      quickchartButtonEl.classList.remove('colab-df-spinner');\n",
              "      quickchartButtonEl.classList.add('colab-df-quickchart-complete');\n",
              "    }\n",
              "    (() => {\n",
              "      let quickchartButtonEl =\n",
              "        document.querySelector('#df-0f4d8b53-b38e-4a73-bba1-3644c8542de4 button');\n",
              "      quickchartButtonEl.style.display =\n",
              "        google.colab.kernel.accessAllowed ? 'block' : 'none';\n",
              "    })();\n",
              "  </script>\n",
              "</div>\n",
              "\n",
              "  <div id=\"id_a977e682-43f7-4792-9fd2-b6a2a4a56593\">\n",
              "    <style>\n",
              "      .colab-df-generate {\n",
              "        background-color: #E8F0FE;\n",
              "        border: none;\n",
              "        border-radius: 50%;\n",
              "        cursor: pointer;\n",
              "        display: none;\n",
              "        fill: #1967D2;\n",
              "        height: 32px;\n",
              "        padding: 0 0 0 0;\n",
              "        width: 32px;\n",
              "      }\n",
              "\n",
              "      .colab-df-generate:hover {\n",
              "        background-color: #E2EBFA;\n",
              "        box-shadow: 0px 1px 2px rgba(60, 64, 67, 0.3), 0px 1px 3px 1px rgba(60, 64, 67, 0.15);\n",
              "        fill: #174EA6;\n",
              "      }\n",
              "\n",
              "      [theme=dark] .colab-df-generate {\n",
              "        background-color: #3B4455;\n",
              "        fill: #D2E3FC;\n",
              "      }\n",
              "\n",
              "      [theme=dark] .colab-df-generate:hover {\n",
              "        background-color: #434B5C;\n",
              "        box-shadow: 0px 1px 3px 1px rgba(0, 0, 0, 0.15);\n",
              "        filter: drop-shadow(0px 1px 2px rgba(0, 0, 0, 0.3));\n",
              "        fill: #FFFFFF;\n",
              "      }\n",
              "    </style>\n",
              "    <button class=\"colab-df-generate\" onclick=\"generateWithVariable('eff_transfer_eval')\"\n",
              "            title=\"Generate code using this dataframe.\"\n",
              "            style=\"display:none;\">\n",
              "\n",
              "  <svg xmlns=\"http://www.w3.org/2000/svg\" height=\"24px\"viewBox=\"0 0 24 24\"\n",
              "       width=\"24px\">\n",
              "    <path d=\"M7,19H8.4L18.45,9,17,7.55,7,17.6ZM5,21V16.75L18.45,3.32a2,2,0,0,1,2.83,0l1.4,1.43a1.91,1.91,0,0,1,.58,1.4,1.91,1.91,0,0,1-.58,1.4L9.25,21ZM18.45,9,17,7.55Zm-12,3A5.31,5.31,0,0,0,4.9,8.1,5.31,5.31,0,0,0,1,6.5,5.31,5.31,0,0,0,4.9,4.9,5.31,5.31,0,0,0,6.5,1,5.31,5.31,0,0,0,8.1,4.9,5.31,5.31,0,0,0,12,6.5,5.46,5.46,0,0,0,6.5,12Z\"/>\n",
              "  </svg>\n",
              "    </button>\n",
              "    <script>\n",
              "      (() => {\n",
              "      const buttonEl =\n",
              "        document.querySelector('#id_a977e682-43f7-4792-9fd2-b6a2a4a56593 button.colab-df-generate');\n",
              "      buttonEl.style.display =\n",
              "        google.colab.kernel.accessAllowed ? 'block' : 'none';\n",
              "\n",
              "      buttonEl.onclick = () => {\n",
              "        google.colab.notebook.generateWithVariable('eff_transfer_eval');\n",
              "      }\n",
              "      })();\n",
              "    </script>\n",
              "  </div>\n",
              "\n",
              "    </div>\n",
              "  </div>\n"
            ],
            "application/vnd.google.colaboratory.intrinsic+json": {
              "type": "dataframe",
              "variable_name": "eff_transfer_eval",
              "summary": "{\n  \"name\": \"eff_transfer_eval\",\n  \"rows\": 2,\n  \"fields\": [\n    {\n      \"column\": \"Accuracy\",\n      \"properties\": {\n        \"dtype\": \"number\",\n        \"std\": 0.008050415479297404,\n        \"min\": 0.7647828673408685,\n        \"max\": 0.7761678740944292,\n        \"num_unique_values\": 2,\n        \"samples\": [\n          0.7761678740944292,\n          0.7647828673408685\n        ],\n        \"semantic_type\": \"\",\n        \"description\": \"\"\n      }\n    },\n    {\n      \"column\": \"Precision\",\n      \"properties\": {\n        \"dtype\": \"number\",\n        \"std\": 0.012208071965133223,\n        \"min\": 0.48521862276509115,\n        \"max\": 0.5024834437086093,\n        \"num_unique_values\": 2,\n        \"samples\": [\n          0.5024834437086093,\n          0.48521862276509115\n        ],\n        \"semantic_type\": \"\",\n        \"description\": \"\"\n      }\n    },\n    {\n      \"column\": \"Recall\",\n      \"properties\": {\n        \"dtype\": \"number\",\n        \"std\": 0.03595137174527256,\n        \"min\": 0.6729490022172949,\n        \"max\": 0.7237919197253763,\n        \"num_unique_values\": 2,\n        \"samples\": [\n          0.6729490022172949,\n          0.7237919197253763\n        ],\n        \"semantic_type\": \"\",\n        \"description\": \"\"\n      }\n    },\n    {\n      \"column\": \"F-score\",\n      \"properties\": {\n        \"dtype\": \"number\",\n        \"std\": 0.0039676192803520145,\n        \"min\": 0.5753554502369668,\n        \"max\": 0.5809665112335736,\n        \"num_unique_values\": 2,\n        \"samples\": [\n          0.5753554502369668,\n          0.5809665112335736\n        ],\n        \"semantic_type\": \"\",\n        \"description\": \"\"\n      }\n    }\n  ]\n}"
            }
          },
          "metadata": {},
          "execution_count": 34
        }
      ]
    },
    {
      "cell_type": "code",
      "source": [
        "# classification report - training set\n",
        "plot_classification_report(y_train, y_eff_transfer_train_pred)"
      ],
      "metadata": {
        "id": "DkyRN10X99Ve",
        "colab": {
          "base_uri": "https://localhost:8080/",
          "height": 206
        },
        "outputId": "3cd30de8-4f6a-4ab6-ff2f-6ae8165abefe"
      },
      "execution_count": null,
      "outputs": [
        {
          "output_type": "execute_result",
          "data": {
            "text/plain": [
              "<pandas.io.formats.style.Styler at 0x7acd0f430c90>"
            ],
            "text/html": [
              "<style type=\"text/css\">\n",
              "#T_26b2e_row0_col0, #T_26b2e_row0_col1, #T_26b2e_row0_col2, #T_26b2e_row3_col3, #T_26b2e_row4_col3 {\n",
              "  background-color: #3f007d;\n",
              "  color: #f1f1f1;\n",
              "}\n",
              "#T_26b2e_row0_col3, #T_26b2e_row2_col1, #T_26b2e_row4_col0, #T_26b2e_row4_col1, #T_26b2e_row4_col2 {\n",
              "  background-color: #65489f;\n",
              "  color: #f1f1f1;\n",
              "}\n",
              "#T_26b2e_row1_col0, #T_26b2e_row1_col1, #T_26b2e_row1_col2, #T_26b2e_row2_col3 {\n",
              "  background-color: #fcfbfd;\n",
              "  color: #000000;\n",
              "}\n",
              "#T_26b2e_row1_col3 {\n",
              "  background-color: #dedeed;\n",
              "  color: #000000;\n",
              "}\n",
              "#T_26b2e_row2_col0 {\n",
              "  background-color: #7970b3;\n",
              "  color: #f1f1f1;\n",
              "}\n",
              "#T_26b2e_row2_col2 {\n",
              "  background-color: #6f5ba8;\n",
              "  color: #f1f1f1;\n",
              "}\n",
              "#T_26b2e_row3_col0 {\n",
              "  background-color: #9e9bc8;\n",
              "  color: #f1f1f1;\n",
              "}\n",
              "#T_26b2e_row3_col1, #T_26b2e_row3_col2 {\n",
              "  background-color: #9e9ac8;\n",
              "  color: #f1f1f1;\n",
              "}\n",
              "</style>\n",
              "<table id=\"T_26b2e\" class=\"dataframe\">\n",
              "  <thead>\n",
              "    <tr>\n",
              "      <th class=\"blank level0\" >&nbsp;</th>\n",
              "      <th id=\"T_26b2e_level0_col0\" class=\"col_heading level0 col0\" >precision</th>\n",
              "      <th id=\"T_26b2e_level0_col1\" class=\"col_heading level0 col1\" >recall</th>\n",
              "      <th id=\"T_26b2e_level0_col2\" class=\"col_heading level0 col2\" >f1-score</th>\n",
              "      <th id=\"T_26b2e_level0_col3\" class=\"col_heading level0 col3\" >support</th>\n",
              "    </tr>\n",
              "  </thead>\n",
              "  <tbody>\n",
              "    <tr>\n",
              "      <th id=\"T_26b2e_level0_row0\" class=\"row_heading level0 row0\" >0</th>\n",
              "      <td id=\"T_26b2e_row0_col0\" class=\"data row0 col0\" >0.906281</td>\n",
              "      <td id=\"T_26b2e_row0_col1\" class=\"data row0 col1\" >0.776703</td>\n",
              "      <td id=\"T_26b2e_row0_col2\" class=\"data row0 col2\" >0.836503</td>\n",
              "      <td id=\"T_26b2e_row0_col3\" class=\"data row0 col3\" >13023.000000</td>\n",
              "    </tr>\n",
              "    <tr>\n",
              "      <th id=\"T_26b2e_level0_row1\" class=\"row_heading level0 row1\" >1</th>\n",
              "      <td id=\"T_26b2e_row1_col0\" class=\"data row1 col0\" >0.485219</td>\n",
              "      <td id=\"T_26b2e_row1_col1\" class=\"data row1 col1\" >0.723792</td>\n",
              "      <td id=\"T_26b2e_row1_col2\" class=\"data row1 col2\" >0.580967</td>\n",
              "      <td id=\"T_26b2e_row1_col3\" class=\"data row1 col3\" >3787.000000</td>\n",
              "    </tr>\n",
              "    <tr>\n",
              "      <th id=\"T_26b2e_level0_row2\" class=\"row_heading level0 row2\" >accuracy</th>\n",
              "      <td id=\"T_26b2e_row2_col0\" class=\"data row2 col0\" >0.764783</td>\n",
              "      <td id=\"T_26b2e_row2_col1\" class=\"data row2 col1\" >0.764783</td>\n",
              "      <td id=\"T_26b2e_row2_col2\" class=\"data row2 col2\" >0.764783</td>\n",
              "      <td id=\"T_26b2e_row2_col3\" class=\"data row2 col3\" >0.764783</td>\n",
              "    </tr>\n",
              "    <tr>\n",
              "      <th id=\"T_26b2e_level0_row3\" class=\"row_heading level0 row3\" >macro avg</th>\n",
              "      <td id=\"T_26b2e_row3_col0\" class=\"data row3 col0\" >0.695750</td>\n",
              "      <td id=\"T_26b2e_row3_col1\" class=\"data row3 col1\" >0.750247</td>\n",
              "      <td id=\"T_26b2e_row3_col2\" class=\"data row3 col2\" >0.708735</td>\n",
              "      <td id=\"T_26b2e_row3_col3\" class=\"data row3 col3\" >16810.000000</td>\n",
              "    </tr>\n",
              "    <tr>\n",
              "      <th id=\"T_26b2e_level0_row4\" class=\"row_heading level0 row4\" >weighted avg</th>\n",
              "      <td id=\"T_26b2e_row4_col0\" class=\"data row4 col0\" >0.811423</td>\n",
              "      <td id=\"T_26b2e_row4_col1\" class=\"data row4 col1\" >0.764783</td>\n",
              "      <td id=\"T_26b2e_row4_col2\" class=\"data row4 col2\" >0.778935</td>\n",
              "      <td id=\"T_26b2e_row4_col3\" class=\"data row4 col3\" >16810.000000</td>\n",
              "    </tr>\n",
              "  </tbody>\n",
              "</table>\n"
            ]
          },
          "metadata": {},
          "execution_count": 35
        }
      ]
    },
    {
      "cell_type": "code",
      "source": [
        "# classification report - test set\n",
        "plot_classification_report(y_test, y_eff_transfer_test_pred, color = 'Blues')"
      ],
      "metadata": {
        "id": "ZsFjHRdQ9_cj",
        "colab": {
          "base_uri": "https://localhost:8080/",
          "height": 206
        },
        "outputId": "b149c7e0-a36f-4b6a-c53d-52cb9e91c0a6"
      },
      "execution_count": null,
      "outputs": [
        {
          "output_type": "execute_result",
          "data": {
            "text/plain": [
              "<pandas.io.formats.style.Styler at 0x7accdbf8f110>"
            ],
            "text/html": [
              "<style type=\"text/css\">\n",
              "#T_775b1_row0_col0, #T_775b1_row0_col1, #T_775b1_row0_col2, #T_775b1_row3_col3, #T_775b1_row4_col3 {\n",
              "  background-color: #08306b;\n",
              "  color: #f1f1f1;\n",
              "}\n",
              "#T_775b1_row0_col3, #T_775b1_row2_col1, #T_775b1_row4_col0, #T_775b1_row4_col1, #T_775b1_row4_col2 {\n",
              "  background-color: #1c6ab0;\n",
              "  color: #f1f1f1;\n",
              "}\n",
              "#T_775b1_row1_col0, #T_775b1_row1_col1, #T_775b1_row1_col2, #T_775b1_row2_col3 {\n",
              "  background-color: #f7fbff;\n",
              "  color: #000000;\n",
              "}\n",
              "#T_775b1_row1_col3 {\n",
              "  background-color: #cbdef1;\n",
              "  color: #000000;\n",
              "}\n",
              "#T_775b1_row2_col0 {\n",
              "  background-color: #2f7fbc;\n",
              "  color: #f1f1f1;\n",
              "}\n",
              "#T_775b1_row2_col2 {\n",
              "  background-color: #2474b7;\n",
              "  color: #f1f1f1;\n",
              "}\n",
              "#T_775b1_row3_col0, #T_775b1_row3_col1 {\n",
              "  background-color: #6aaed6;\n",
              "  color: #f1f1f1;\n",
              "}\n",
              "#T_775b1_row3_col2 {\n",
              "  background-color: #6caed6;\n",
              "  color: #f1f1f1;\n",
              "}\n",
              "</style>\n",
              "<table id=\"T_775b1\" class=\"dataframe\">\n",
              "  <thead>\n",
              "    <tr>\n",
              "      <th class=\"blank level0\" >&nbsp;</th>\n",
              "      <th id=\"T_775b1_level0_col0\" class=\"col_heading level0 col0\" >precision</th>\n",
              "      <th id=\"T_775b1_level0_col1\" class=\"col_heading level0 col1\" >recall</th>\n",
              "      <th id=\"T_775b1_level0_col2\" class=\"col_heading level0 col2\" >f1-score</th>\n",
              "      <th id=\"T_775b1_level0_col3\" class=\"col_heading level0 col3\" >support</th>\n",
              "    </tr>\n",
              "  </thead>\n",
              "  <tbody>\n",
              "    <tr>\n",
              "      <th id=\"T_775b1_level0_row0\" class=\"row_heading level0 row0\" >0</th>\n",
              "      <td id=\"T_775b1_row0_col0\" class=\"data row0 col0\" >0.894454</td>\n",
              "      <td id=\"T_775b1_row0_col1\" class=\"data row0 col1\" >0.806192</td>\n",
              "      <td id=\"T_775b1_row0_col2\" class=\"data row0 col2\" >0.848033</td>\n",
              "      <td id=\"T_775b1_row0_col3\" class=\"data row0 col3\" >6202.000000</td>\n",
              "    </tr>\n",
              "    <tr>\n",
              "      <th id=\"T_775b1_level0_row1\" class=\"row_heading level0 row1\" >1</th>\n",
              "      <td id=\"T_775b1_row1_col0\" class=\"data row1 col0\" >0.502483</td>\n",
              "      <td id=\"T_775b1_row1_col1\" class=\"data row1 col1\" >0.672949</td>\n",
              "      <td id=\"T_775b1_row1_col2\" class=\"data row1 col2\" >0.575355</td>\n",
              "      <td id=\"T_775b1_row1_col3\" class=\"data row1 col3\" >1804.000000</td>\n",
              "    </tr>\n",
              "    <tr>\n",
              "      <th id=\"T_775b1_level0_row2\" class=\"row_heading level0 row2\" >accuracy</th>\n",
              "      <td id=\"T_775b1_row2_col0\" class=\"data row2 col0\" >0.776168</td>\n",
              "      <td id=\"T_775b1_row2_col1\" class=\"data row2 col1\" >0.776168</td>\n",
              "      <td id=\"T_775b1_row2_col2\" class=\"data row2 col2\" >0.776168</td>\n",
              "      <td id=\"T_775b1_row2_col3\" class=\"data row2 col3\" >0.776168</td>\n",
              "    </tr>\n",
              "    <tr>\n",
              "      <th id=\"T_775b1_level0_row3\" class=\"row_heading level0 row3\" >macro avg</th>\n",
              "      <td id=\"T_775b1_row3_col0\" class=\"data row3 col0\" >0.698469</td>\n",
              "      <td id=\"T_775b1_row3_col1\" class=\"data row3 col1\" >0.739570</td>\n",
              "      <td id=\"T_775b1_row3_col2\" class=\"data row3 col2\" >0.711694</td>\n",
              "      <td id=\"T_775b1_row3_col3\" class=\"data row3 col3\" >8006.000000</td>\n",
              "    </tr>\n",
              "    <tr>\n",
              "      <th id=\"T_775b1_level0_row4\" class=\"row_heading level0 row4\" >weighted avg</th>\n",
              "      <td id=\"T_775b1_row4_col0\" class=\"data row4 col0\" >0.806131</td>\n",
              "      <td id=\"T_775b1_row4_col1\" class=\"data row4 col1\" >0.776168</td>\n",
              "      <td id=\"T_775b1_row4_col2\" class=\"data row4 col2\" >0.786590</td>\n",
              "      <td id=\"T_775b1_row4_col3\" class=\"data row4 col3\" >8006.000000</td>\n",
              "    </tr>\n",
              "  </tbody>\n",
              "</table>\n"
            ]
          },
          "metadata": {},
          "execution_count": 36
        }
      ]
    },
    {
      "cell_type": "code",
      "source": [
        "conf_roc_info(y_train, y_eff_transfer_train_prob, y_test, y_eff_transfer_test_prob)"
      ],
      "metadata": {
        "id": "IemKZzW5_Pbp",
        "colab": {
          "base_uri": "https://localhost:8080/",
          "height": 699
        },
        "outputId": "d54f0340-2129-4c40-df2e-9f45789964d4"
      },
      "execution_count": null,
      "outputs": [
        {
          "output_type": "display_data",
          "data": {
            "text/plain": [
              "<Figure size 1200x800 with 6 Axes>"
            ],
            "image/png": "[encoded data removed]"
          },
          "metadata": {}
        }
      ]
    },
    {
      "cell_type": "markdown",
      "source": [
        "##**Fine Tuning**"
      ],
      "metadata": {
        "id": "H6ryiqDb6bp7"
      }
    },
    {
      "cell_type": "code",
      "source": [
        "# Unfreeze the base model\n",
        "base_model.trainable = True\n",
        "\n",
        "# Recompile with a lower learning rate\n",
        "model.compile(\n",
        "    optimizer=optimizers.Adam(learning_rate=1e-5),\n",
        "    loss='binary_crossentropy',\n",
        "    metrics=[metrics.Recall(name='Recall'),\n",
        "             \"accuracy\",\n",
        "             metrics.Precision(name='Precision'),\n",
        "             metrics.AUC(name='AUC')]\n",
        ")\n",
        "\n",
        "model.summary()"
      ],
      "metadata": {
        "id": "dpw0Z14o5yom",
        "colab": {
          "base_uri": "https://localhost:8080/",
          "height": 305
        },
        "outputId": "38ff72e5-4297-4275-d595-95879dd1adc8"
      },
      "execution_count": null,
      "outputs": [
        {
          "output_type": "display_data",
          "data": {
            "text/plain": [
              "\u001b[1mModel: \"sequential_3\"\u001b[0m\n"
            ],
            "text/html": [
              "<pre style=\"white-space:pre;overflow-x:auto;line-height:normal;font-family:Menlo,'DejaVu Sans Mono',consolas,'Courier New',monospace\"><span style=\"font-weight: bold\">Model: \"sequential_3\"</span>\n",
              "</pre>\n"
            ]
          },
          "metadata": {}
        },
        {
          "output_type": "display_data",
          "data": {
            "text/plain": [
              "┏━━━━━━━━━━━━━━━━━━━━━━━━━━━━━━━━━━━━━━┳━━━━━━━━━━━━━━━━━━━━━━━━━━━━━┳━━━━━━━━━━━━━━━━━┓\n",
              "┃\u001b[1m \u001b[0m\u001b[1mLayer (type)                        \u001b[0m\u001b[1m \u001b[0m┃\u001b[1m \u001b[0m\u001b[1mOutput Shape               \u001b[0m\u001b[1m \u001b[0m┃\u001b[1m \u001b[0m\u001b[1m        Param #\u001b[0m\u001b[1m \u001b[0m┃\n",
              "┡━━━━━━━━━━━━━━━━━━━━━━━━━━━━━━━━━━━━━━╇━━━━━━━━━━━━━━━━━━━━━━━━━━━━━╇━━━━━━━━━━━━━━━━━┩\n",
              "│ efficientnetb0 (\u001b[38;5;33mFunctional\u001b[0m)          │ (\u001b[38;5;45mNone\u001b[0m, \u001b[38;5;34m7\u001b[0m, \u001b[38;5;34m7\u001b[0m, \u001b[38;5;34m1280\u001b[0m)          │       \u001b[38;5;34m4,049,571\u001b[0m │\n",
              "├──────────────────────────────────────┼─────────────────────────────┼─────────────────┤\n",
              "│ global_average_pooling2d_1           │ (\u001b[38;5;45mNone\u001b[0m, \u001b[38;5;34m1280\u001b[0m)                │               \u001b[38;5;34m0\u001b[0m │\n",
              "│ (\u001b[38;5;33mGlobalAveragePooling2D\u001b[0m)             │                             │                 │\n",
              "├──────────────────────────────────────┼─────────────────────────────┼─────────────────┤\n",
              "│ dense_2 (\u001b[38;5;33mDense\u001b[0m)                      │ (\u001b[38;5;45mNone\u001b[0m, \u001b[38;5;34m256\u001b[0m)                 │         \u001b[38;5;34m327,936\u001b[0m │\n",
              "├──────────────────────────────────────┼─────────────────────────────┼─────────────────┤\n",
              "│ dropout_1 (\u001b[38;5;33mDropout\u001b[0m)                  │ (\u001b[38;5;45mNone\u001b[0m, \u001b[38;5;34m256\u001b[0m)                 │               \u001b[38;5;34m0\u001b[0m │\n",
              "├──────────────────────────────────────┼─────────────────────────────┼─────────────────┤\n",
              "│ dense_3 (\u001b[38;5;33mDense\u001b[0m)                      │ (\u001b[38;5;45mNone\u001b[0m, \u001b[38;5;34m1\u001b[0m)                   │             \u001b[38;5;34m257\u001b[0m │\n",
              "└──────────────────────────────────────┴─────────────────────────────┴─────────────────┘\n"
            ],
            "text/html": [
              "<pre style=\"white-space:pre;overflow-x:auto;line-height:normal;font-family:Menlo,'DejaVu Sans Mono',consolas,'Courier New',monospace\">┏━━━━━━━━━━━━━━━━━━━━━━━━━━━━━━━━━━━━━━┳━━━━━━━━━━━━━━━━━━━━━━━━━━━━━┳━━━━━━━━━━━━━━━━━┓\n",
              "┃<span style=\"font-weight: bold\"> Layer (type)                         </span>┃<span style=\"font-weight: bold\"> Output Shape                </span>┃<span style=\"font-weight: bold\">         Param # </span>┃\n",
              "┡━━━━━━━━━━━━━━━━━━━━━━━━━━━━━━━━━━━━━━╇━━━━━━━━━━━━━━━━━━━━━━━━━━━━━╇━━━━━━━━━━━━━━━━━┩\n",
              "│ efficientnetb0 (<span style=\"color: #0087ff; text-decoration-color: #0087ff\">Functional</span>)          │ (<span style=\"color: #00d7ff; text-decoration-color: #00d7ff\">None</span>, <span style=\"color: #00af00; text-decoration-color: #00af00\">7</span>, <span style=\"color: #00af00; text-decoration-color: #00af00\">7</span>, <span style=\"color: #00af00; text-decoration-color: #00af00\">1280</span>)          │       <span style=\"color: #00af00; text-decoration-color: #00af00\">4,049,571</span> │\n",
              "├──────────────────────────────────────┼─────────────────────────────┼─────────────────┤\n",
              "│ global_average_pooling2d_1           │ (<span style=\"color: #00d7ff; text-decoration-color: #00d7ff\">None</span>, <span style=\"color: #00af00; text-decoration-color: #00af00\">1280</span>)                │               <span style=\"color: #00af00; text-decoration-color: #00af00\">0</span> │\n",
              "│ (<span style=\"color: #0087ff; text-decoration-color: #0087ff\">GlobalAveragePooling2D</span>)             │                             │                 │\n",
              "├──────────────────────────────────────┼─────────────────────────────┼─────────────────┤\n",
              "│ dense_2 (<span style=\"color: #0087ff; text-decoration-color: #0087ff\">Dense</span>)                      │ (<span style=\"color: #00d7ff; text-decoration-color: #00d7ff\">None</span>, <span style=\"color: #00af00; text-decoration-color: #00af00\">256</span>)                 │         <span style=\"color: #00af00; text-decoration-color: #00af00\">327,936</span> │\n",
              "├──────────────────────────────────────┼─────────────────────────────┼─────────────────┤\n",
              "│ dropout_1 (<span style=\"color: #0087ff; text-decoration-color: #0087ff\">Dropout</span>)                  │ (<span style=\"color: #00d7ff; text-decoration-color: #00d7ff\">None</span>, <span style=\"color: #00af00; text-decoration-color: #00af00\">256</span>)                 │               <span style=\"color: #00af00; text-decoration-color: #00af00\">0</span> │\n",
              "├──────────────────────────────────────┼─────────────────────────────┼─────────────────┤\n",
              "│ dense_3 (<span style=\"color: #0087ff; text-decoration-color: #0087ff\">Dense</span>)                      │ (<span style=\"color: #00d7ff; text-decoration-color: #00d7ff\">None</span>, <span style=\"color: #00af00; text-decoration-color: #00af00\">1</span>)                   │             <span style=\"color: #00af00; text-decoration-color: #00af00\">257</span> │\n",
              "└──────────────────────────────────────┴─────────────────────────────┴─────────────────┘\n",
              "</pre>\n"
            ]
          },
          "metadata": {}
        },
        {
          "output_type": "display_data",
          "data": {
            "text/plain": [
              "\u001b[1m Total params: \u001b[0m\u001b[38;5;34m4,377,764\u001b[0m (16.70 MB)\n"
            ],
            "text/html": [
              "<pre style=\"white-space:pre;overflow-x:auto;line-height:normal;font-family:Menlo,'DejaVu Sans Mono',consolas,'Courier New',monospace\"><span style=\"font-weight: bold\"> Total params: </span><span style=\"color: #00af00; text-decoration-color: #00af00\">4,377,764</span> (16.70 MB)\n",
              "</pre>\n"
            ]
          },
          "metadata": {}
        },
        {
          "output_type": "display_data",
          "data": {
            "text/plain": [
              "\u001b[1m Trainable params: \u001b[0m\u001b[38;5;34m4,335,741\u001b[0m (16.54 MB)\n"
            ],
            "text/html": [
              "<pre style=\"white-space:pre;overflow-x:auto;line-height:normal;font-family:Menlo,'DejaVu Sans Mono',consolas,'Courier New',monospace\"><span style=\"font-weight: bold\"> Trainable params: </span><span style=\"color: #00af00; text-decoration-color: #00af00\">4,335,741</span> (16.54 MB)\n",
              "</pre>\n"
            ]
          },
          "metadata": {}
        },
        {
          "output_type": "display_data",
          "data": {
            "text/plain": [
              "\u001b[1m Non-trainable params: \u001b[0m\u001b[38;5;34m42,023\u001b[0m (164.16 KB)\n"
            ],
            "text/html": [
              "<pre style=\"white-space:pre;overflow-x:auto;line-height:normal;font-family:Menlo,'DejaVu Sans Mono',consolas,'Courier New',monospace\"><span style=\"font-weight: bold\"> Non-trainable params: </span><span style=\"color: #00af00; text-decoration-color: #00af00\">42,023</span> (164.16 KB)\n",
              "</pre>\n"
            ]
          },
          "metadata": {}
        }
      ]
    },
    {
      "cell_type": "code",
      "source": [
        "from tensorflow.keras.callbacks import EarlyStopping, ModelCheckpoint, ReduceLROnPlateau\n",
        "\n",
        "# Callbacks\n",
        "early_stopping = EarlyStopping(monitor='val_loss', patience=8, restore_best_weights=True)\n",
        "model_checkpoint = ModelCheckpoint('best_cnn_model.keras', monitor='val_loss', save_best_only=True)\n",
        "reduce_lr = ReduceLROnPlateau(monitor='val_loss', factor=0.2, patience=3, min_lr=1e-6, verbose=1)\n",
        "\n",
        "#Fine-tuning the model.\n",
        "history_fine = model.fit(train_dataset,\n",
        "                    epochs=50,\n",
        "                    validation_data=val_dataset,\n",
        "                    class_weight={0: 1.0, 1: 3.0},\n",
        "                    callbacks=[early_stopping, model_checkpoint, reduce_lr]\n",
        ")"
      ],
      "metadata": {
        "id": "_3y7S1nL9D7g",
        "colab": {
          "base_uri": "https://localhost:8080/"
        },
        "outputId": "786f72c4-b546-4af0-858f-1cc06ef3d87c"
      },
      "execution_count": null,
      "outputs": [
        {
          "output_type": "stream",
          "name": "stdout",
          "text": [
            "Epoch 1/50\n",
            "\u001b[1m526/526\u001b[0m \u001b[32m━━━━━━━━━━━━━━━━━━━━\u001b[0m\u001b[37m\u001b[0m \u001b[1m293s\u001b[0m 322ms/step - AUC: 0.7506 - Precision: 0.4037 - Recall: 0.6795 - accuracy: 0.7042 - loss: 0.8574 - val_AUC: 0.8219 - val_Precision: 0.4578 - val_Recall: 0.7482 - val_accuracy: 0.7436 - val_loss: 0.5132 - learning_rate: 1.0000e-05\n",
            "Epoch 2/50\n",
            "\u001b[1m526/526\u001b[0m \u001b[32m━━━━━━━━━━━━━━━━━━━━\u001b[0m\u001b[37m\u001b[0m \u001b[1m172s\u001b[0m 228ms/step - AUC: 0.8163 - Precision: 0.4546 - Recall: 0.7400 - accuracy: 0.7445 - loss: 0.7553 - val_AUC: 0.8430 - val_Precision: 0.4992 - val_Recall: 0.7173 - val_accuracy: 0.7741 - val_loss: 0.4427 - learning_rate: 1.0000e-05\n",
            "Epoch 3/50\n",
            "\u001b[1m526/526\u001b[0m \u001b[32m━━━━━━━━━━━━━━━━━━━━\u001b[0m\u001b[37m\u001b[0m \u001b[1m120s\u001b[0m 228ms/step - AUC: 0.8336 - Precision: 0.4700 - Recall: 0.7647 - accuracy: 0.7555 - loss: 0.7232 - val_AUC: 0.8517 - val_Precision: 0.5316 - val_Recall: 0.6983 - val_accuracy: 0.7934 - val_loss: 0.4217 - learning_rate: 1.0000e-05\n",
            "Epoch 4/50\n",
            "\u001b[1m526/526\u001b[0m \u001b[32m━━━━━━━━━━━━━━━━━━━━\u001b[0m\u001b[37m\u001b[0m \u001b[1m144s\u001b[0m 232ms/step - AUC: 0.8420 - Precision: 0.4703 - Recall: 0.7654 - accuracy: 0.7557 - loss: 0.7069 - val_AUC: 0.8561 - val_Precision: 0.5424 - val_Recall: 0.6983 - val_accuracy: 0.7993 - val_loss: 0.4123 - learning_rate: 1.0000e-05\n",
            "Epoch 5/50\n",
            "\u001b[1m526/526\u001b[0m \u001b[32m━━━━━━━━━━━━━━━━━━━━\u001b[0m\u001b[37m\u001b[0m \u001b[1m139s\u001b[0m 226ms/step - AUC: 0.8494 - Precision: 0.4859 - Recall: 0.7729 - accuracy: 0.7673 - loss: 0.6912 - val_AUC: 0.8598 - val_Precision: 0.5588 - val_Recall: 0.6888 - val_accuracy: 0.8073 - val_loss: 0.4009 - learning_rate: 1.0000e-05\n",
            "Epoch 6/50\n",
            "\u001b[1m526/526\u001b[0m \u001b[32m━━━━━━━━━━━━━━━━━━━━\u001b[0m\u001b[37m\u001b[0m \u001b[1m122s\u001b[0m 231ms/step - AUC: 0.8541 - Precision: 0.4878 - Recall: 0.7755 - accuracy: 0.7687 - loss: 0.6826 - val_AUC: 0.8628 - val_Precision: 0.5928 - val_Recall: 0.6675 - val_accuracy: 0.8217 - val_loss: 0.3874 - learning_rate: 1.0000e-05\n",
            "Epoch 7/50\n",
            "\u001b[1m526/526\u001b[0m \u001b[32m━━━━━━━━━━━━━━━━━━━━\u001b[0m\u001b[37m\u001b[0m \u001b[1m138s\u001b[0m 224ms/step - AUC: 0.8602 - Precision: 0.4937 - Recall: 0.7754 - accuracy: 0.7727 - loss: 0.6685 - val_AUC: 0.8638 - val_Precision: 0.5523 - val_Recall: 0.7268 - val_accuracy: 0.8057 - val_loss: 0.4106 - learning_rate: 1.0000e-05\n",
            "Epoch 8/50\n",
            "\u001b[1m526/526\u001b[0m \u001b[32m━━━━━━━━━━━━━━━━━━━━\u001b[0m\u001b[37m\u001b[0m \u001b[1m144s\u001b[0m 228ms/step - AUC: 0.8635 - Precision: 0.5050 - Recall: 0.7813 - accuracy: 0.7807 - loss: 0.6612 - val_AUC: 0.8662 - val_Precision: 0.5753 - val_Recall: 0.7078 - val_accuracy: 0.8164 - val_loss: 0.3966 - learning_rate: 1.0000e-05\n",
            "Epoch 9/50\n",
            "\u001b[1m526/526\u001b[0m \u001b[32m━━━━━━━━━━━━━━━━━━━━\u001b[0m\u001b[37m\u001b[0m \u001b[1m143s\u001b[0m 231ms/step - AUC: 0.8635 - Precision: 0.4983 - Recall: 0.7750 - accuracy: 0.7760 - loss: 0.6605 - val_AUC: 0.8677 - val_Precision: 0.6067 - val_Recall: 0.6888 - val_accuracy: 0.8292 - val_loss: 0.3846 - learning_rate: 1.0000e-05\n",
            "Epoch 10/50\n",
            "\u001b[1m526/526\u001b[0m \u001b[32m━━━━━━━━━━━━━━━━━━━━\u001b[0m\u001b[37m\u001b[0m \u001b[1m140s\u001b[0m 228ms/step - AUC: 0.8698 - Precision: 0.5095 - Recall: 0.7858 - accuracy: 0.7839 - loss: 0.6478 - val_AUC: 0.8690 - val_Precision: 0.6000 - val_Recall: 0.7126 - val_accuracy: 0.8282 - val_loss: 0.3878 - learning_rate: 1.0000e-05\n",
            "Epoch 11/50\n",
            "\u001b[1m526/526\u001b[0m \u001b[32m━━━━━━━━━━━━━━━━━━━━\u001b[0m\u001b[37m\u001b[0m \u001b[1m118s\u001b[0m 225ms/step - AUC: 0.8704 - Precision: 0.5139 - Recall: 0.7900 - accuracy: 0.7867 - loss: 0.6474 - val_AUC: 0.8695 - val_Precision: 0.5771 - val_Recall: 0.7292 - val_accuracy: 0.8185 - val_loss: 0.4008 - learning_rate: 1.0000e-05\n",
            "Epoch 12/50\n",
            "\u001b[1m526/526\u001b[0m \u001b[32m━━━━━━━━━━━━━━━━━━━━\u001b[0m\u001b[37m\u001b[0m \u001b[1m0s\u001b[0m 216ms/step - AUC: 0.8765 - Precision: 0.5205 - Recall: 0.8026 - accuracy: 0.7914 - loss: 0.6329\n",
            "Epoch 12: ReduceLROnPlateau reducing learning rate to 1.9999999494757505e-06.\n",
            "\u001b[1m526/526\u001b[0m \u001b[32m━━━━━━━━━━━━━━━━━━━━\u001b[0m\u001b[37m\u001b[0m \u001b[1m141s\u001b[0m 224ms/step - AUC: 0.8765 - Precision: 0.5205 - Recall: 0.8026 - accuracy: 0.7914 - loss: 0.6329 - val_AUC: 0.8713 - val_Precision: 0.5972 - val_Recall: 0.7150 - val_accuracy: 0.8271 - val_loss: 0.3864 - learning_rate: 1.0000e-05\n",
            "Epoch 13/50\n",
            "\u001b[1m526/526\u001b[0m \u001b[32m━━━━━━━━━━━━━━━━━━━━\u001b[0m\u001b[37m\u001b[0m \u001b[1m119s\u001b[0m 226ms/step - AUC: 0.8775 - Precision: 0.5196 - Recall: 0.7902 - accuracy: 0.7905 - loss: 0.6293 - val_AUC: 0.8711 - val_Precision: 0.5949 - val_Recall: 0.7150 - val_accuracy: 0.8260 - val_loss: 0.3881 - learning_rate: 2.0000e-06\n",
            "Epoch 14/50\n",
            "\u001b[1m526/526\u001b[0m \u001b[32m━━━━━━━━━━━━━━━━━━━━\u001b[0m\u001b[37m\u001b[0m \u001b[1m141s\u001b[0m 225ms/step - AUC: 0.8755 - Precision: 0.5197 - Recall: 0.7965 - accuracy: 0.7907 - loss: 0.6337 - val_AUC: 0.8717 - val_Precision: 0.5824 - val_Recall: 0.7221 - val_accuracy: 0.8207 - val_loss: 0.3931 - learning_rate: 2.0000e-06\n",
            "Epoch 15/50\n",
            "\u001b[1m526/526\u001b[0m \u001b[32m━━━━━━━━━━━━━━━━━━━━\u001b[0m\u001b[37m\u001b[0m \u001b[1m0s\u001b[0m 217ms/step - AUC: 0.8793 - Precision: 0.5230 - Recall: 0.7984 - accuracy: 0.7929 - loss: 0.6250\n",
            "Epoch 15: ReduceLROnPlateau reducing learning rate to 1e-06.\n",
            "\u001b[1m526/526\u001b[0m \u001b[32m━━━━━━━━━━━━━━━━━━━━\u001b[0m\u001b[37m\u001b[0m \u001b[1m119s\u001b[0m 227ms/step - AUC: 0.8793 - Precision: 0.5230 - Recall: 0.7984 - accuracy: 0.7929 - loss: 0.6250 - val_AUC: 0.8720 - val_Precision: 0.5768 - val_Recall: 0.7316 - val_accuracy: 0.8185 - val_loss: 0.3972 - learning_rate: 2.0000e-06\n",
            "Epoch 16/50\n",
            "\u001b[1m526/526\u001b[0m \u001b[32m━━━━━━━━━━━━━━━━━━━━\u001b[0m\u001b[37m\u001b[0m \u001b[1m121s\u001b[0m 230ms/step - AUC: 0.8788 - Precision: 0.5196 - Recall: 0.7959 - accuracy: 0.7906 - loss: 0.6259 - val_AUC: 0.8721 - val_Precision: 0.5774 - val_Recall: 0.7268 - val_accuracy: 0.8185 - val_loss: 0.3950 - learning_rate: 1.0000e-06\n",
            "Epoch 17/50\n",
            "\u001b[1m526/526\u001b[0m \u001b[32m━━━━━━━━━━━━━━━━━━━━\u001b[0m\u001b[37m\u001b[0m \u001b[1m141s\u001b[0m 229ms/step - AUC: 0.8782 - Precision: 0.5243 - Recall: 0.7986 - accuracy: 0.7937 - loss: 0.6265 - val_AUC: 0.8717 - val_Precision: 0.5787 - val_Recall: 0.7245 - val_accuracy: 0.8191 - val_loss: 0.3936 - learning_rate: 1.0000e-06\n"
          ]
        }
      ]
    },
    {
      "cell_type": "code",
      "source": [
        "model.save_weights(\"efficientnet_penumonia_fine_tuning.weights.h5\")"
      ],
      "metadata": {
        "id": "ZS8MLmyaBk-q"
      },
      "execution_count": null,
      "outputs": []
    },
    {
      "cell_type": "code",
      "source": [
        "# train predictions\n",
        "y_eff_fine_train_prob = model.predict(train_dataset)\n",
        "y_eff_fine_train_pred = (y_eff_fine_train_prob > 0.5).astype(int)\n",
        "\n",
        "# test predictions\n",
        "y_eff_fine_test_prob = model.predict(test_dataset)\n",
        "y_eff_fine_test_pred = (y_eff_fine_test_prob > 0.5).astype(int)"
      ],
      "metadata": {
        "id": "5FwD0HBH9sge",
        "colab": {
          "base_uri": "https://localhost:8080/"
        },
        "outputId": "4f29ad35-d419-4599-fc92-be7e9b4e0a6e"
      },
      "execution_count": null,
      "outputs": [
        {
          "output_type": "stream",
          "name": "stdout",
          "text": [
            "\u001b[1m526/526\u001b[0m \u001b[32m━━━━━━━━━━━━━━━━━━━━\u001b[0m\u001b[37m\u001b[0m \u001b[1m90s\u001b[0m 157ms/step\n",
            "\u001b[1m251/251\u001b[0m \u001b[32m━━━━━━━━━━━━━━━━━━━━\u001b[0m\u001b[37m\u001b[0m \u001b[1m23s\u001b[0m 92ms/step\n"
          ]
        }
      ]
    },
    {
      "cell_type": "code",
      "source": [
        "eff_fine_eval = model_eval(y_train, y_eff_fine_train_pred, y_test, y_eff_fine_test_pred)\n",
        "eff_fine_eval"
      ],
      "metadata": {
        "id": "QcaJz2eM9FCr",
        "colab": {
          "base_uri": "https://localhost:8080/",
          "height": 125
        },
        "outputId": "7aa6ba98-e55e-48b6-f9f7-e6a2ee5d7d6a"
      },
      "execution_count": null,
      "outputs": [
        {
          "output_type": "execute_result",
          "data": {
            "text/plain": [
              "       Accuracy  Precision    Recall   F-score\n",
              "Train  0.786199   0.516437  0.800634  0.627873\n",
              "Test   0.814764   0.578331  0.656874  0.615105"
            ],
            "text/html": [
              "\n",
              "  <div id=\"df-7f5230a1-bb5d-40e3-90c8-51bbb6e2254d\" class=\"colab-df-container\">\n",
              "    <div>\n",
              "<style scoped>\n",
              "    .dataframe tbody tr th:only-of-type {\n",
              "        vertical-align: middle;\n",
              "    }\n",
              "\n",
              "    .dataframe tbody tr th {\n",
              "        vertical-align: top;\n",
              "    }\n",
              "\n",
              "    .dataframe thead th {\n",
              "        text-align: right;\n",
              "    }\n",
              "</style>\n",
              "<table border=\"1\" class=\"dataframe\">\n",
              "  <thead>\n",
              "    <tr style=\"text-align: right;\">\n",
              "      <th></th>\n",
              "      <th>Accuracy</th>\n",
              "      <th>Precision</th>\n",
              "      <th>Recall</th>\n",
              "      <th>F-score</th>\n",
              "    </tr>\n",
              "  </thead>\n",
              "  <tbody>\n",
              "    <tr>\n",
              "      <th>Train</th>\n",
              "      <td>0.786199</td>\n",
              "      <td>0.516437</td>\n",
              "      <td>0.800634</td>\n",
              "      <td>0.627873</td>\n",
              "    </tr>\n",
              "    <tr>\n",
              "      <th>Test</th>\n",
              "      <td>0.814764</td>\n",
              "      <td>0.578331</td>\n",
              "      <td>0.656874</td>\n",
              "      <td>0.615105</td>\n",
              "    </tr>\n",
              "  </tbody>\n",
              "</table>\n",
              "</div>\n",
              "    <div class=\"colab-df-buttons\">\n",
              "\n",
              "  <div class=\"colab-df-container\">\n",
              "    <button class=\"colab-df-convert\" onclick=\"convertToInteractive('df-7f5230a1-bb5d-40e3-90c8-51bbb6e2254d')\"\n",
              "            title=\"Convert this dataframe to an interactive table.\"\n",
              "            style=\"display:none;\">\n",
              "\n",
              "  <svg xmlns=\"http://www.w3.org/2000/svg\" height=\"24px\" viewBox=\"0 -960 960 960\">\n",
              "    <path d=\"M120-120v-720h720v720H120Zm60-500h600v-160H180v160Zm220 220h160v-160H400v160Zm0 220h160v-160H400v160ZM180-400h160v-160H180v160Zm440 0h160v-160H620v160ZM180-180h160v-160H180v160Zm440 0h160v-160H620v160Z\"/>\n",
              "  </svg>\n",
              "    </button>\n",
              "\n",
              "  <style>\n",
              "    .colab-df-container {\n",
              "      display:flex;\n",
              "      gap: 12px;\n",
              "    }\n",
              "\n",
              "    .colab-df-convert {\n",
              "      background-color: #E8F0FE;\n",
              "      border: none;\n",
              "      border-radius: 50%;\n",
              "      cursor: pointer;\n",
              "      display: none;\n",
              "      fill: #1967D2;\n",
              "      height: 32px;\n",
              "      padding: 0 0 0 0;\n",
              "      width: 32px;\n",
              "    }\n",
              "\n",
              "    .colab-df-convert:hover {\n",
              "      background-color: #E2EBFA;\n",
              "      box-shadow: 0px 1px 2px rgba(60, 64, 67, 0.3), 0px 1px 3px 1px rgba(60, 64, 67, 0.15);\n",
              "      fill: #174EA6;\n",
              "    }\n",
              "\n",
              "    .colab-df-buttons div {\n",
              "      margin-bottom: 4px;\n",
              "    }\n",
              "\n",
              "    [theme=dark] .colab-df-convert {\n",
              "      background-color: #3B4455;\n",
              "      fill: #D2E3FC;\n",
              "    }\n",
              "\n",
              "    [theme=dark] .colab-df-convert:hover {\n",
              "      background-color: #434B5C;\n",
              "      box-shadow: 0px 1px 3px 1px rgba(0, 0, 0, 0.15);\n",
              "      filter: drop-shadow(0px 1px 2px rgba(0, 0, 0, 0.3));\n",
              "      fill: #FFFFFF;\n",
              "    }\n",
              "  </style>\n",
              "\n",
              "    <script>\n",
              "      const buttonEl =\n",
              "        document.querySelector('#df-7f5230a1-bb5d-40e3-90c8-51bbb6e2254d button.colab-df-convert');\n",
              "      buttonEl.style.display =\n",
              "        google.colab.kernel.accessAllowed ? 'block' : 'none';\n",
              "\n",
              "      async function convertToInteractive(key) {\n",
              "        const element = document.querySelector('#df-7f5230a1-bb5d-40e3-90c8-51bbb6e2254d');\n",
              "        const dataTable =\n",
              "          await google.colab.kernel.invokeFunction('convertToInteractive',\n",
              "                                                    [key], {});\n",
              "        if (!dataTable) return;\n",
              "\n",
              "        const docLinkHtml = 'Like what you see? Visit the ' +\n",
              "          '<a target=\"_blank\" href=https://colab.research.google.com/notebooks/data_table.ipynb>data table notebook</a>'\n",
              "          + ' to learn more about interactive tables.';\n",
              "        element.innerHTML = '';\n",
              "        dataTable['output_type'] = 'display_data';\n",
              "        await google.colab.output.renderOutput(dataTable, element);\n",
              "        const docLink = document.createElement('div');\n",
              "        docLink.innerHTML = docLinkHtml;\n",
              "        element.appendChild(docLink);\n",
              "      }\n",
              "    </script>\n",
              "  </div>\n",
              "\n",
              "\n",
              "<div id=\"df-07eeb83f-ef39-4b27-844a-fcd28baa5f4c\">\n",
              "  <button class=\"colab-df-quickchart\" onclick=\"quickchart('df-07eeb83f-ef39-4b27-844a-fcd28baa5f4c')\"\n",
              "            title=\"Suggest charts\"\n",
              "            style=\"display:none;\">\n",
              "\n",
              "<svg xmlns=\"http://www.w3.org/2000/svg\" height=\"24px\"viewBox=\"0 0 24 24\"\n",
              "     width=\"24px\">\n",
              "    <g>\n",
              "        <path d=\"M19 3H5c-1.1 0-2 .9-2 2v14c0 1.1.9 2 2 2h14c1.1 0 2-.9 2-2V5c0-1.1-.9-2-2-2zM9 17H7v-7h2v7zm4 0h-2V7h2v10zm4 0h-2v-4h2v4z\"/>\n",
              "    </g>\n",
              "</svg>\n",
              "  </button>\n",
              "\n",
              "<style>\n",
              "  .colab-df-quickchart {\n",
              "      --bg-color: #E8F0FE;\n",
              "      --fill-color: #1967D2;\n",
              "      --hover-bg-color: #E2EBFA;\n",
              "      --hover-fill-color: #174EA6;\n",
              "      --disabled-fill-color: #AAA;\n",
              "      --disabled-bg-color: #DDD;\n",
              "  }\n",
              "\n",
              "  [theme=dark] .colab-df-quickchart {\n",
              "      --bg-color: #3B4455;\n",
              "      --fill-color: #D2E3FC;\n",
              "      --hover-bg-color: #434B5C;\n",
              "      --hover-fill-color: #FFFFFF;\n",
              "      --disabled-bg-color: #3B4455;\n",
              "      --disabled-fill-color: #666;\n",
              "  }\n",
              "\n",
              "  .colab-df-quickchart {\n",
              "    background-color: var(--bg-color);\n",
              "    border: none;\n",
              "    border-radius: 50%;\n",
              "    cursor: pointer;\n",
              "    display: none;\n",
              "    fill: var(--fill-color);\n",
              "    height: 32px;\n",
              "    padding: 0;\n",
              "    width: 32px;\n",
              "  }\n",
              "\n",
              "  .colab-df-quickchart:hover {\n",
              "    background-color: var(--hover-bg-color);\n",
              "    box-shadow: 0 1px 2px rgba(60, 64, 67, 0.3), 0 1px 3px 1px rgba(60, 64, 67, 0.15);\n",
              "    fill: var(--button-hover-fill-color);\n",
              "  }\n",
              "\n",
              "  .colab-df-quickchart-complete:disabled,\n",
              "  .colab-df-quickchart-complete:disabled:hover {\n",
              "    background-color: var(--disabled-bg-color);\n",
              "    fill: var(--disabled-fill-color);\n",
              "    box-shadow: none;\n",
              "  }\n",
              "\n",
              "  .colab-df-spinner {\n",
              "    border: 2px solid var(--fill-color);\n",
              "    border-color: transparent;\n",
              "    border-bottom-color: var(--fill-color);\n",
              "    animation:\n",
              "      spin 1s steps(1) infinite;\n",
              "  }\n",
              "\n",
              "  @keyframes spin {\n",
              "    0% {\n",
              "      border-color: transparent;\n",
              "      border-bottom-color: var(--fill-color);\n",
              "      border-left-color: var(--fill-color);\n",
              "    }\n",
              "    20% {\n",
              "      border-color: transparent;\n",
              "      border-left-color: var(--fill-color);\n",
              "      border-top-color: var(--fill-color);\n",
              "    }\n",
              "    30% {\n",
              "      border-color: transparent;\n",
              "      border-left-color: var(--fill-color);\n",
              "      border-top-color: var(--fill-color);\n",
              "      border-right-color: var(--fill-color);\n",
              "    }\n",
              "    40% {\n",
              "      border-color: transparent;\n",
              "      border-right-color: var(--fill-color);\n",
              "      border-top-color: var(--fill-color);\n",
              "    }\n",
              "    60% {\n",
              "      border-color: transparent;\n",
              "      border-right-color: var(--fill-color);\n",
              "    }\n",
              "    80% {\n",
              "      border-color: transparent;\n",
              "      border-right-color: var(--fill-color);\n",
              "      border-bottom-color: var(--fill-color);\n",
              "    }\n",
              "    90% {\n",
              "      border-color: transparent;\n",
              "      border-bottom-color: var(--fill-color);\n",
              "    }\n",
              "  }\n",
              "</style>\n",
              "\n",
              "  <script>\n",
              "    async function quickchart(key) {\n",
              "      const quickchartButtonEl =\n",
              "        document.querySelector('#' + key + ' button');\n",
              "      quickchartButtonEl.disabled = true;  // To prevent multiple clicks.\n",
              "      quickchartButtonEl.classList.add('colab-df-spinner');\n",
              "      try {\n",
              "        const charts = await google.colab.kernel.invokeFunction(\n",
              "            'suggestCharts', [key], {});\n",
              "      } catch (error) {\n",
              "        console.error('Error during call to suggestCharts:', error);\n",
              "      }\n",
              "      quickchartButtonEl.classList.remove('colab-df-spinner');\n",
              "      quickchartButtonEl.classList.add('colab-df-quickchart-complete');\n",
              "    }\n",
              "    (() => {\n",
              "      let quickchartButtonEl =\n",
              "        document.querySelector('#df-07eeb83f-ef39-4b27-844a-fcd28baa5f4c button');\n",
              "      quickchartButtonEl.style.display =\n",
              "        google.colab.kernel.accessAllowed ? 'block' : 'none';\n",
              "    })();\n",
              "  </script>\n",
              "</div>\n",
              "\n",
              "  <div id=\"id_8c7d6b63-f775-44ea-8a28-6248cdfadfc6\">\n",
              "    <style>\n",
              "      .colab-df-generate {\n",
              "        background-color: #E8F0FE;\n",
              "        border: none;\n",
              "        border-radius: 50%;\n",
              "        cursor: pointer;\n",
              "        display: none;\n",
              "        fill: #1967D2;\n",
              "        height: 32px;\n",
              "        padding: 0 0 0 0;\n",
              "        width: 32px;\n",
              "      }\n",
              "\n",
              "      .colab-df-generate:hover {\n",
              "        background-color: #E2EBFA;\n",
              "        box-shadow: 0px 1px 2px rgba(60, 64, 67, 0.3), 0px 1px 3px 1px rgba(60, 64, 67, 0.15);\n",
              "        fill: #174EA6;\n",
              "      }\n",
              "\n",
              "      [theme=dark] .colab-df-generate {\n",
              "        background-color: #3B4455;\n",
              "        fill: #D2E3FC;\n",
              "      }\n",
              "\n",
              "      [theme=dark] .colab-df-generate:hover {\n",
              "        background-color: #434B5C;\n",
              "        box-shadow: 0px 1px 3px 1px rgba(0, 0, 0, 0.15);\n",
              "        filter: drop-shadow(0px 1px 2px rgba(0, 0, 0, 0.3));\n",
              "        fill: #FFFFFF;\n",
              "      }\n",
              "    </style>\n",
              "    <button class=\"colab-df-generate\" onclick=\"generateWithVariable('eff_fine_eval')\"\n",
              "            title=\"Generate code using this dataframe.\"\n",
              "            style=\"display:none;\">\n",
              "\n",
              "  <svg xmlns=\"http://www.w3.org/2000/svg\" height=\"24px\"viewBox=\"0 0 24 24\"\n",
              "       width=\"24px\">\n",
              "    <path d=\"M7,19H8.4L18.45,9,17,7.55,7,17.6ZM5,21V16.75L18.45,3.32a2,2,0,0,1,2.83,0l1.4,1.43a1.91,1.91,0,0,1,.58,1.4,1.91,1.91,0,0,1-.58,1.4L9.25,21ZM18.45,9,17,7.55Zm-12,3A5.31,5.31,0,0,0,4.9,8.1,5.31,5.31,0,0,0,1,6.5,5.31,5.31,0,0,0,4.9,4.9,5.31,5.31,0,0,0,6.5,1,5.31,5.31,0,0,0,8.1,4.9,5.31,5.31,0,0,0,12,6.5,5.46,5.46,0,0,0,6.5,12Z\"/>\n",
              "  </svg>\n",
              "    </button>\n",
              "    <script>\n",
              "      (() => {\n",
              "      const buttonEl =\n",
              "        document.querySelector('#id_8c7d6b63-f775-44ea-8a28-6248cdfadfc6 button.colab-df-generate');\n",
              "      buttonEl.style.display =\n",
              "        google.colab.kernel.accessAllowed ? 'block' : 'none';\n",
              "\n",
              "      buttonEl.onclick = () => {\n",
              "        google.colab.notebook.generateWithVariable('eff_fine_eval');\n",
              "      }\n",
              "      })();\n",
              "    </script>\n",
              "  </div>\n",
              "\n",
              "    </div>\n",
              "  </div>\n"
            ],
            "application/vnd.google.colaboratory.intrinsic+json": {
              "type": "dataframe",
              "variable_name": "eff_fine_eval",
              "summary": "{\n  \"name\": \"eff_fine_eval\",\n  \"rows\": 2,\n  \"fields\": [\n    {\n      \"column\": \"Accuracy\",\n      \"properties\": {\n        \"dtype\": \"number\",\n        \"std\": 0.020198671940021843,\n        \"min\": 0.7861986912552053,\n        \"max\": 0.814763927054709,\n        \"num_unique_values\": 2,\n        \"samples\": [\n          0.814763927054709,\n          0.7861986912552053\n        ],\n        \"semantic_type\": \"\",\n        \"description\": \"\"\n      }\n    },\n    {\n      \"column\": \"Precision\",\n      \"properties\": {\n        \"dtype\": \"number\",\n        \"std\": 0.04376578749505483,\n        \"min\": 0.5164367228751491,\n        \"max\": 0.5783308931185944,\n        \"num_unique_values\": 2,\n        \"samples\": [\n          0.5783308931185944,\n          0.5164367228751491\n        ],\n        \"semantic_type\": \"\",\n        \"description\": \"\"\n      }\n    },\n    {\n      \"column\": \"Recall\",\n      \"properties\": {\n        \"dtype\": \"number\",\n        \"std\": 0.10165376479446951,\n        \"min\": 0.6568736141906873,\n        \"max\": 0.8006337470293108,\n        \"num_unique_values\": 2,\n        \"samples\": [\n          0.6568736141906873,\n          0.8006337470293108\n        ],\n        \"semantic_type\": \"\",\n        \"description\": \"\"\n      }\n    },\n    {\n      \"column\": \"F-score\",\n      \"properties\": {\n        \"dtype\": \"number\",\n        \"std\": 0.009028447419223196,\n        \"min\": 0.6151051128990397,\n        \"max\": 0.6278732656864775,\n        \"num_unique_values\": 2,\n        \"samples\": [\n          0.6151051128990397,\n          0.6278732656864775\n        ],\n        \"semantic_type\": \"\",\n        \"description\": \"\"\n      }\n    }\n  ]\n}"
            }
          },
          "metadata": {},
          "execution_count": 42
        }
      ]
    },
    {
      "cell_type": "code",
      "source": [
        "# classification report - training set\n",
        "plot_classification_report(y_train, y_eff_fine_train_pred)"
      ],
      "metadata": {
        "id": "Nq0i4FI--E1Z",
        "colab": {
          "base_uri": "https://localhost:8080/",
          "height": 206
        },
        "outputId": "dae99179-0b49-453b-f442-1157d5b9fbc4"
      },
      "execution_count": null,
      "outputs": [
        {
          "output_type": "execute_result",
          "data": {
            "text/plain": [
              "<pandas.io.formats.style.Styler at 0x7acd1a317dd0>"
            ],
            "text/html": [
              "<style type=\"text/css\">\n",
              "#T_9c228_row0_col0, #T_9c228_row0_col2, #T_9c228_row1_col1, #T_9c228_row3_col3, #T_9c228_row4_col3 {\n",
              "  background-color: #3f007d;\n",
              "  color: #f1f1f1;\n",
              "}\n",
              "#T_9c228_row0_col1, #T_9c228_row1_col0, #T_9c228_row1_col2, #T_9c228_row2_col3 {\n",
              "  background-color: #fcfbfd;\n",
              "  color: #000000;\n",
              "}\n",
              "#T_9c228_row0_col3, #T_9c228_row4_col0, #T_9c228_row4_col2 {\n",
              "  background-color: #65489f;\n",
              "  color: #f1f1f1;\n",
              "}\n",
              "#T_9c228_row1_col3, #T_9c228_row2_col1, #T_9c228_row4_col1 {\n",
              "  background-color: #dedeed;\n",
              "  color: #000000;\n",
              "}\n",
              "#T_9c228_row2_col0 {\n",
              "  background-color: #7b74b5;\n",
              "  color: #f1f1f1;\n",
              "}\n",
              "#T_9c228_row2_col2 {\n",
              "  background-color: #705eaa;\n",
              "  color: #f1f1f1;\n",
              "}\n",
              "#T_9c228_row3_col0, #T_9c228_row3_col1, #T_9c228_row3_col2 {\n",
              "  background-color: #9e9ac8;\n",
              "  color: #f1f1f1;\n",
              "}\n",
              "</style>\n",
              "<table id=\"T_9c228\" class=\"dataframe\">\n",
              "  <thead>\n",
              "    <tr>\n",
              "      <th class=\"blank level0\" >&nbsp;</th>\n",
              "      <th id=\"T_9c228_level0_col0\" class=\"col_heading level0 col0\" >precision</th>\n",
              "      <th id=\"T_9c228_level0_col1\" class=\"col_heading level0 col1\" >recall</th>\n",
              "      <th id=\"T_9c228_level0_col2\" class=\"col_heading level0 col2\" >f1-score</th>\n",
              "      <th id=\"T_9c228_level0_col3\" class=\"col_heading level0 col3\" >support</th>\n",
              "    </tr>\n",
              "  </thead>\n",
              "  <tbody>\n",
              "    <tr>\n",
              "      <th id=\"T_9c228_level0_row0\" class=\"row_heading level0 row0\" >0</th>\n",
              "      <td id=\"T_9c228_row0_col0\" class=\"data row0 col0\" >0.930981</td>\n",
              "      <td id=\"T_9c228_row0_col1\" class=\"data row0 col1\" >0.782001</td>\n",
              "      <td id=\"T_9c228_row0_col2\" class=\"data row0 col2\" >0.850013</td>\n",
              "      <td id=\"T_9c228_row0_col3\" class=\"data row0 col3\" >13023.000000</td>\n",
              "    </tr>\n",
              "    <tr>\n",
              "      <th id=\"T_9c228_level0_row1\" class=\"row_heading level0 row1\" >1</th>\n",
              "      <td id=\"T_9c228_row1_col0\" class=\"data row1 col0\" >0.516437</td>\n",
              "      <td id=\"T_9c228_row1_col1\" class=\"data row1 col1\" >0.800634</td>\n",
              "      <td id=\"T_9c228_row1_col2\" class=\"data row1 col2\" >0.627873</td>\n",
              "      <td id=\"T_9c228_row1_col3\" class=\"data row1 col3\" >3787.000000</td>\n",
              "    </tr>\n",
              "    <tr>\n",
              "      <th id=\"T_9c228_level0_row2\" class=\"row_heading level0 row2\" >accuracy</th>\n",
              "      <td id=\"T_9c228_row2_col0\" class=\"data row2 col0\" >0.786199</td>\n",
              "      <td id=\"T_9c228_row2_col1\" class=\"data row2 col1\" >0.786199</td>\n",
              "      <td id=\"T_9c228_row2_col2\" class=\"data row2 col2\" >0.786199</td>\n",
              "      <td id=\"T_9c228_row2_col3\" class=\"data row2 col3\" >0.786199</td>\n",
              "    </tr>\n",
              "    <tr>\n",
              "      <th id=\"T_9c228_level0_row3\" class=\"row_heading level0 row3\" >macro avg</th>\n",
              "      <td id=\"T_9c228_row3_col0\" class=\"data row3 col0\" >0.723709</td>\n",
              "      <td id=\"T_9c228_row3_col1\" class=\"data row3 col1\" >0.791317</td>\n",
              "      <td id=\"T_9c228_row3_col2\" class=\"data row3 col2\" >0.738943</td>\n",
              "      <td id=\"T_9c228_row3_col3\" class=\"data row3 col3\" >16810.000000</td>\n",
              "    </tr>\n",
              "    <tr>\n",
              "      <th id=\"T_9c228_level0_row4\" class=\"row_heading level0 row4\" >weighted avg</th>\n",
              "      <td id=\"T_9c228_row4_col0\" class=\"data row4 col0\" >0.837591</td>\n",
              "      <td id=\"T_9c228_row4_col1\" class=\"data row4 col1\" >0.786199</td>\n",
              "      <td id=\"T_9c228_row4_col2\" class=\"data row4 col2\" >0.799968</td>\n",
              "      <td id=\"T_9c228_row4_col3\" class=\"data row4 col3\" >16810.000000</td>\n",
              "    </tr>\n",
              "  </tbody>\n",
              "</table>\n"
            ]
          },
          "metadata": {},
          "execution_count": 43
        }
      ]
    },
    {
      "cell_type": "code",
      "source": [
        "# classification report - test set\n",
        "plot_classification_report(y_test, y_eff_fine_test_pred, color = 'Blues')"
      ],
      "metadata": {
        "id": "Rst80VFb-HQO",
        "colab": {
          "base_uri": "https://localhost:8080/",
          "height": 206
        },
        "outputId": "84adb886-6dbc-40d5-dc11-fa70da33a901"
      },
      "execution_count": null,
      "outputs": [
        {
          "output_type": "execute_result",
          "data": {
            "text/plain": [
              "<pandas.io.formats.style.Styler at 0x7ace037ffdd0>"
            ],
            "text/html": [
              "<style type=\"text/css\">\n",
              "#T_0fbea_row0_col0, #T_0fbea_row0_col1, #T_0fbea_row0_col2, #T_0fbea_row3_col3, #T_0fbea_row4_col3 {\n",
              "  background-color: #08306b;\n",
              "  color: #f1f1f1;\n",
              "}\n",
              "#T_0fbea_row0_col3, #T_0fbea_row2_col1, #T_0fbea_row4_col0, #T_0fbea_row4_col1, #T_0fbea_row4_col2 {\n",
              "  background-color: #1c6ab0;\n",
              "  color: #f1f1f1;\n",
              "}\n",
              "#T_0fbea_row1_col0, #T_0fbea_row1_col1, #T_0fbea_row1_col2, #T_0fbea_row2_col3 {\n",
              "  background-color: #f7fbff;\n",
              "  color: #000000;\n",
              "}\n",
              "#T_0fbea_row1_col3 {\n",
              "  background-color: #cbdef1;\n",
              "  color: #000000;\n",
              "}\n",
              "#T_0fbea_row2_col0 {\n",
              "  background-color: #2272b6;\n",
              "  color: #f1f1f1;\n",
              "}\n",
              "#T_0fbea_row2_col2 {\n",
              "  background-color: #1f6eb3;\n",
              "  color: #f1f1f1;\n",
              "}\n",
              "#T_0fbea_row3_col0, #T_0fbea_row3_col1, #T_0fbea_row3_col2 {\n",
              "  background-color: #6aaed6;\n",
              "  color: #f1f1f1;\n",
              "}\n",
              "</style>\n",
              "<table id=\"T_0fbea\" class=\"dataframe\">\n",
              "  <thead>\n",
              "    <tr>\n",
              "      <th class=\"blank level0\" >&nbsp;</th>\n",
              "      <th id=\"T_0fbea_level0_col0\" class=\"col_heading level0 col0\" >precision</th>\n",
              "      <th id=\"T_0fbea_level0_col1\" class=\"col_heading level0 col1\" >recall</th>\n",
              "      <th id=\"T_0fbea_level0_col2\" class=\"col_heading level0 col2\" >f1-score</th>\n",
              "      <th id=\"T_0fbea_level0_col3\" class=\"col_heading level0 col3\" >support</th>\n",
              "    </tr>\n",
              "  </thead>\n",
              "  <tbody>\n",
              "    <tr>\n",
              "      <th id=\"T_0fbea_level0_row0\" class=\"row_heading level0 row0\" >0</th>\n",
              "      <td id=\"T_0fbea_row0_col0\" class=\"data row0 col0\" >0.896089</td>\n",
              "      <td id=\"T_0fbea_row0_col1\" class=\"data row0 col1\" >0.860690</td>\n",
              "      <td id=\"T_0fbea_row0_col2\" class=\"data row0 col2\" >0.878033</td>\n",
              "      <td id=\"T_0fbea_row0_col3\" class=\"data row0 col3\" >6202.000000</td>\n",
              "    </tr>\n",
              "    <tr>\n",
              "      <th id=\"T_0fbea_level0_row1\" class=\"row_heading level0 row1\" >1</th>\n",
              "      <td id=\"T_0fbea_row1_col0\" class=\"data row1 col0\" >0.578331</td>\n",
              "      <td id=\"T_0fbea_row1_col1\" class=\"data row1 col1\" >0.656874</td>\n",
              "      <td id=\"T_0fbea_row1_col2\" class=\"data row1 col2\" >0.615105</td>\n",
              "      <td id=\"T_0fbea_row1_col3\" class=\"data row1 col3\" >1804.000000</td>\n",
              "    </tr>\n",
              "    <tr>\n",
              "      <th id=\"T_0fbea_level0_row2\" class=\"row_heading level0 row2\" >accuracy</th>\n",
              "      <td id=\"T_0fbea_row2_col0\" class=\"data row2 col0\" >0.814764</td>\n",
              "      <td id=\"T_0fbea_row2_col1\" class=\"data row2 col1\" >0.814764</td>\n",
              "      <td id=\"T_0fbea_row2_col2\" class=\"data row2 col2\" >0.814764</td>\n",
              "      <td id=\"T_0fbea_row2_col3\" class=\"data row2 col3\" >0.814764</td>\n",
              "    </tr>\n",
              "    <tr>\n",
              "      <th id=\"T_0fbea_level0_row3\" class=\"row_heading level0 row3\" >macro avg</th>\n",
              "      <td id=\"T_0fbea_row3_col0\" class=\"data row3 col0\" >0.737210</td>\n",
              "      <td id=\"T_0fbea_row3_col1\" class=\"data row3 col1\" >0.758782</td>\n",
              "      <td id=\"T_0fbea_row3_col2\" class=\"data row3 col2\" >0.746569</td>\n",
              "      <td id=\"T_0fbea_row3_col3\" class=\"data row3 col3\" >8006.000000</td>\n",
              "    </tr>\n",
              "    <tr>\n",
              "      <th id=\"T_0fbea_level0_row4\" class=\"row_heading level0 row4\" >weighted avg</th>\n",
              "      <td id=\"T_0fbea_row4_col0\" class=\"data row4 col0\" >0.824488</td>\n",
              "      <td id=\"T_0fbea_row4_col1\" class=\"data row4 col1\" >0.814764</td>\n",
              "      <td id=\"T_0fbea_row4_col2\" class=\"data row4 col2\" >0.818787</td>\n",
              "      <td id=\"T_0fbea_row4_col3\" class=\"data row4 col3\" >8006.000000</td>\n",
              "    </tr>\n",
              "  </tbody>\n",
              "</table>\n"
            ]
          },
          "metadata": {},
          "execution_count": 44
        }
      ]
    },
    {
      "cell_type": "code",
      "source": [
        "conf_roc_info(y_train, y_eff_fine_train_prob, y_test, y_eff_fine_test_prob)"
      ],
      "metadata": {
        "id": "yog33OaS_e9C",
        "colab": {
          "base_uri": "https://localhost:8080/",
          "height": 699
        },
        "outputId": "768cd178-5505-4273-cad4-37248f1abf71"
      },
      "execution_count": null,
      "outputs": [
        {
          "output_type": "display_data",
          "data": {
            "text/plain": [
              "<Figure size 1200x800 with 6 Axes>"
            ],
            "image/png": "[encoded data removed]"
          },
          "metadata": {}
        }
      ]
    },
    {
      "cell_type": "markdown",
      "metadata": {
        "id": "vdHtg2uTCzUy"
      },
      "source": [
        "# Building R-CNN models and it's hybrids"
      ]
    },
    {
      "cell_type": "code",
      "source": [
        "import torch\n",
        "print('Cuda avilable:', torch.cuda.is_available())\n",
        "print('GPUs available:\"', torch.cuda.device_count())\n",
        "print('Device Name:',torch.cuda.get_device_name(0))"
      ],
      "metadata": {
        "colab": {
          "base_uri": "https://localhost:8080/"
        },
        "id": "m7CMlYOBSFVY",
        "outputId": "9032097b-e1e4-40a6-a568-e6649012a418"
      },
      "execution_count": null,
      "outputs": [
        {
          "output_type": "stream",
          "name": "stdout",
          "text": [
            "Cuda avilable: True\n",
            "GPUs available:\" 1\n",
            "Device Name: Tesla T4\n"
          ]
        }
      ]
    },
    {
      "cell_type": "code",
      "source": [
        "!nvidia-smi"
      ],
      "metadata": {
        "colab": {
          "base_uri": "https://localhost:8080/"
        },
        "id": "6XQmazuzShry",
        "outputId": "19e21446-bb03-4050-b526-a24601f45e67"
      },
      "execution_count": null,
      "outputs": [
        {
          "output_type": "stream",
          "name": "stdout",
          "text": [
            "Sat Mar 22 07:10:33 2025       \n",
            "+-----------------------------------------------------------------------------------------+\n",
            "| NVIDIA-SMI 550.54.15              Driver Version: 550.54.15      CUDA Version: 12.4     |\n",
            "|-----------------------------------------+------------------------+----------------------+\n",
            "| GPU  Name                 Persistence-M | Bus-Id          Disp.A | Volatile Uncorr. ECC |\n",
            "| Fan  Temp   Perf          Pwr:Usage/Cap |           Memory-Usage | GPU-Util  Compute M. |\n",
            "|                                         |                        |               MIG M. |\n",
            "|=========================================+========================+======================|\n",
            "|   0  Tesla T4                       Off |   00000000:00:04.0 Off |                    0 |\n",
            "| N/A   72C    P0             32W /   70W |    4276MiB /  15360MiB |      0%      Default |\n",
            "|                                         |                        |                  N/A |\n",
            "+-----------------------------------------+------------------------+----------------------+\n",
            "                                                                                         \n",
            "+-----------------------------------------------------------------------------------------+\n",
            "| Processes:                                                                              |\n",
            "|  GPU   GI   CI        PID   Type   Process name                              GPU Memory |\n",
            "|        ID   ID                                                               Usage      |\n",
            "|=========================================================================================|\n",
            "+-----------------------------------------------------------------------------------------+\n"
          ]
        }
      ]
    },
    {
      "cell_type": "markdown",
      "source": [
        "**R-CNN**"
      ],
      "metadata": {
        "id": "JTOmqm1lnG-l"
      }
    },
    {
      "cell_type": "code",
      "source": [
        "# selective search for region proposals\n",
        "def selective_search_regions(path):\n",
        "  \"\"\" function for extracting selective search regions\"\"\"\n",
        "  img = cv2.imread(path)\n",
        "  img = cv2.cvtColor(img, cv2.COLOR_BGR2RGB)\n",
        "  ss = cv2.ximgproc.segmentation.createSelectiveSearchSegmentation()\n",
        "  ss.setBaseImage(img)\n",
        "  ss.switchToSelectiveSearchFast()\n",
        "  rects = ss.process()\n",
        "  return rects"
      ],
      "metadata": {
        "id": "vCVnkosunruS"
      },
      "execution_count": null,
      "outputs": []
    },
    {
      "cell_type": "code",
      "source": [
        "path = '/content/processed_images/'\n",
        "\n",
        "# load the input image\n",
        "id = data_label['patientId'][6]\n",
        "image_path = path+id+'.jpg'\n",
        "rects = selective_search_regions(image_path)\n",
        "image = cv2.imread(image_path)\n",
        "\n",
        "# Plot image with bounding boxes\n",
        "bbox_img = image.copy()\n",
        "for (x, y, w, h) in rects:\n",
        "    _color = (0, 0, random.randint(200, 255))\n",
        "    cv2.rectangle(bbox_img, (x, y), (x + w, y + h), _color, 1)\n",
        "\n",
        "gray_image = cv2.cvtColor(image, cv2.COLOR_RGB2GRAY)\n",
        "fig, ax = plt.subplots(1, 2, figsize=(14,9))\n",
        "ax[0].imshow(gray_image, cmap=plt.cm.bone)\n",
        "#ax[0].text(10,-10, \"id : \" + id, fontsize=6)\n",
        "ax[0].set_title('Original Image')\n",
        "ax[1].imshow(bbox_img)\n",
        "ax[1].set_title('Selective Search proposals')\n",
        "plt.show()"
      ],
      "metadata": {
        "id": "fz-VuWa9nuhe"
      },
      "execution_count": null,
      "outputs": []
    },
    {
      "cell_type": "code",
      "source": [
        "import cv2\n",
        "import numpy as np\n",
        "import tensorflow as tf\n",
        "from tensorflow.keras.applications import EfficientNetB0\n",
        "from tensorflow.keras.models import Model\n",
        "from skimage.transform import resize\n",
        "from sklearn.svm import SVC\n",
        "from sklearn.linear_model import LinearRegression\n",
        "from scipy.special import softmax\n",
        "\n",
        "class Rcnn:\n",
        "    def __init__(self):\n",
        "        self.base_model = EfficientNetB0(weights='imagenet', include_top=False, pooling='avg')\n",
        "        self.feature_extractor = Model(inputs=self.base_model.input, outputs=self.base_model.output)\n",
        "        self.svm = SVC(kernel='linear', probability=True)\n",
        "        self.bbox_regressor = LinearRegression()\n",
        "\n",
        "    def get_region_proposals(self, image):\n",
        "        ss = cv2.ximgproc.segmentation.createSelectiveSearchSegmentation()\n",
        "        ss.setBaseImage(image)\n",
        "        ss.switchToSelectiveSearchFast()\n",
        "        rects = ss.process()\n",
        "        candidates = set()\n",
        "        for (x, y, w, h) in rects:\n",
        "            if w * h < 2000:  # Filter small regions\n",
        "                continue\n",
        "            candidates.add((x, y, w, h))\n",
        "        return list(candidates)\n",
        "\n",
        "    def extract_features(self, image, regions):\n",
        "        features = []\n",
        "        for (x, y, w, h) in regions:\n",
        "            roi = image[y:y+h, x:x+w]\n",
        "            roi_resized = resize(roi, (224, 224), anti_aliasing=True)  # Resize to model input size\n",
        "            roi_resized = np.expand_dims(roi_resized, axis=0)  # Add batch dimension\n",
        "            feature = self.feature_extractor.predict(roi_resized)\n",
        "            features.append(feature.flatten())\n",
        "        return np.array(features)\n",
        "\n",
        "    def train(self, dataset):\n",
        "        X_train, y_train, bbox_train = [], [], []\n",
        "        for image_path, bbox, label in dataset:\n",
        "            image = cv2.imread(image_path)\n",
        "            image = cv2.cvtColor(image, cv2.COLOR_BGR2RGB)\n",
        "            regions = self.get_region_proposals(image)\n",
        "            features = self.extract_features(image, regions)\n",
        "            X_train.extend(features)\n",
        "            y_train.extend([label] * len(features))\n",
        "            bbox_train.extend([bbox] * len(features))\n",
        "\n",
        "        self.svm.fit(X_train, y_train)\n",
        "        self.bbox_regressor.fit(X_train, bbox_train)\n",
        "\n",
        "    def predict(self, image, confidence_threshold=0.5, iou_threshold=0.3):\n",
        "        image = cv2.cvtColor(image, cv2.COLOR_BGR2RGB)\n",
        "        regions = self.get_region_proposals(image)\n",
        "        features = self.extract_features(image, regions)\n",
        "        probabilities = self.svm.predict_proba(features)[:, 1]  # Probability of pneumonia class\n",
        "        refined_bboxes = self.bbox_regressor.predict(features)  # Predict refined bounding boxes\n",
        "\n",
        "        # Convert bounding boxes to TensorFlow format\n",
        "        refined_bboxes = np.array(refined_bboxes, dtype=np.float32)\n",
        "        probabilities = np.array(probabilities, dtype=np.float32)\n",
        "\n",
        "        # Apply confidence threshold\n",
        "        high_confidence_indices = np.where(probabilities >= confidence_threshold)[0]\n",
        "        selected_boxes = refined_bboxes[high_confidence_indices]\n",
        "        selected_scores = probabilities[high_confidence_indices]\n",
        "\n",
        "        if len(selected_boxes) == 0:\n",
        "            return [], []\n",
        "\n",
        "        # Apply Non-Maximum Suppression (NMS) using TensorFlow\n",
        "        selected_indices = tf.image.non_max_suppression(\n",
        "            boxes=selected_boxes,\n",
        "            scores=selected_scores,\n",
        "            max_output_size=len(selected_boxes),\n",
        "            iou_threshold=iou_threshold\n",
        "        ).numpy()\n",
        "\n",
        "        final_boxes = selected_boxes[selected_indices]\n",
        "        final_scores = selected_scores[selected_indices]\n",
        "\n",
        "        return final_boxes.tolist(), final_scores.tolist()\n",
        "\n",
        "rcnn_detector = Rcnn()\n",
        "# rcnn_detector.train(dataset)  # Train with dataset\n",
        "\n",
        "test_image = cv2.imread(\"test_image.jpg\")\n",
        "pred_bboxes, pred_scores = rcnn_detector.predict(test_image)"
      ],
      "metadata": {
        "id": "1B6ueDcOnMBb"
      },
      "execution_count": null,
      "outputs": []
    },
    {
      "cell_type": "markdown",
      "source": [],
      "metadata": {
        "id": "c2xqKd5tnOIt"
      }
    },
    {
      "cell_type": "markdown",
      "source": [
        "**Custom Dataloader class**"
      ],
      "metadata": {
        "id": "3JmJCMhFIEbp"
      }
    },
    {
      "cell_type": "code",
      "source": [
        "import os\n",
        "import cv2\n",
        "import torch\n",
        "import torchvision\n",
        "import torchvision.transforms as transforms\n",
        "from torch.utils.data import Dataset, DataLoader\n",
        "import albumentations as A\n",
        "from albumentations.pytorch import ToTensorV2\n",
        "import json\n",
        "\n",
        "# Define dataset class\n",
        "class RSNADataset(Dataset):\n",
        "    def __init__(self, image_ids, image_dir, bbox_dict, transforms=None):\n",
        "        self.image_ids = image_ids  # List of patient IDs\n",
        "        self.image_dir = image_dir  # Path to images\n",
        "        self.bbox_dict = bbox_dict  # Dictionary with bounding boxes\n",
        "        self.transforms = transforms\n",
        "\n",
        "    def __len__(self):\n",
        "        return len(self.image_ids)\n",
        "\n",
        "    def __getitem__(self, idx):\n",
        "        patient_id = self.image_ids[idx]\n",
        "        img_path = os.path.join(self.image_dir, f\"{patient_id}.jpg\")\n",
        "        image = cv2.imread(img_path)\n",
        "        image = cv2.cvtColor(image, cv2.COLOR_BGR2RGB)  # Convert to RGB\n",
        "\n",
        "        bboxes = []\n",
        "        labels = []\n",
        "        if patient_id in self.bbox_dict and len(self.bbox_dict[patient_id]) > 0:\n",
        "            for bbox in self.bbox_dict[patient_id]:\n",
        "                x1, y1, x2, y2 = bbox  # xyxy format\n",
        "                bboxes.append([x1, y1, x2, y2])\n",
        "                labels.append(1)  # Pneumonia label\n",
        "\n",
        "        if self.transforms:\n",
        "            augmented = self.transforms(image=image, bboxes=bboxes, labels=labels)\n",
        "            image = augmented['image']\n",
        "            bboxes = augmented['bboxes']\n",
        "            labels = augmented['labels']\n",
        "\n",
        "        # Convert to tensors\n",
        "        image = image.clone().detach().to(torch.float32) if isinstance(image, torch.Tensor) else torch.from_numpy(image).to(torch.float32).permute(2, 0, 1)\n",
        "        bboxes = torch.as_tensor(bboxes, dtype=torch.float32) if bboxes else torch.zeros((0, 4), dtype=torch.float32)\n",
        "        labels = torch.as_tensor(labels, dtype=torch.int64) if labels else torch.zeros((0,), dtype=torch.int64)\n",
        "\n",
        "        target = {\n",
        "            'boxes': bboxes,\n",
        "            'labels': labels\n",
        "        }\n",
        "        return image, target\n",
        "\n",
        "# Define data paths\n",
        "image_dir = '/content/processed_images'\n",
        "\n",
        "# Define data transformations\n",
        "transform = A.Compose([\n",
        "    A.Rotate(limit=10, p=0.5),\n",
        "    ToTensorV2()\n",
        "], bbox_params=A.BboxParams(format='pascal_voc', label_fields=['labels']))  # FIXED: label_fields added\n",
        "\n",
        "# Check if dataset variables are defined\n",
        "try:\n",
        "    dataset_train = RSNADataset(X_train_ids, image_dir, resized_bbox, transforms=transform)\n",
        "    dataset_val = RSNADataset(X_val_ids, image_dir, resized_bbox, transforms=transform)\n",
        "    dataset_test = RSNADataset(X_test_ids, image_dir, resized_bbox, transforms=transform)\n",
        "except NameError as e:\n",
        "    print(f\"Dataset variable not defined: {e}\")\n",
        "\n",
        "# Custom collate function for DataLoader\n",
        "def collate_fn(batch):\n",
        "    return tuple(zip(*batch))\n",
        "\n",
        "# Create dataloaders\n",
        "dataloader_train = DataLoader(dataset_train, batch_size=2, shuffle=True, collate_fn=collate_fn)\n",
        "dataloader_val = DataLoader(dataset_val, batch_size=2, shuffle=False, collate_fn=collate_fn)\n",
        "dataloader_test = DataLoader(dataset_test, batch_size=2, shuffle=False, collate_fn=collate_fn)"
      ],
      "metadata": {
        "id": "4aT5XkqLEBKV"
      },
      "execution_count": null,
      "outputs": []
    },
    {
      "cell_type": "markdown",
      "source": [
        "**Custom Training and Validation Functions**"
      ],
      "metadata": {
        "id": "WI2exY92IACr"
      }
    },
    {
      "cell_type": "code",
      "execution_count": null,
      "metadata": {
        "id": "5s8Ndg0R8m-e"
      },
      "outputs": [],
      "source": [
        "from tqdm import tqdm\n",
        "# Training and validation functions\n",
        "def train_one_epoch(model, dataloader, optimizer):\n",
        "    model.train()\n",
        "    total_loss = 0\n",
        "    for images, targets in tqdm(dataloader):\n",
        "        images = [img.to(device) for img in images]\n",
        "        targets = [{k: v.to(device) for k, v in t.items()} for t in targets]\n",
        "\n",
        "        loss_dict = model(images, targets)\n",
        "        losses = sum(loss for loss in loss_dict.values())\n",
        "        total_loss += losses.item()\n",
        "\n",
        "        optimizer.zero_grad()\n",
        "        losses.backward()\n",
        "        optimizer.step()\n",
        "    return total_loss / len(dataloader)\n",
        "\n",
        "# Validation function\n",
        "def validate(model, dataloader):\n",
        "    model.eval()\n",
        "    total_loss = 0\n",
        "    with torch.no_grad():\n",
        "        for images, targets in dataloader:\n",
        "            images = [img.to(device) for img in images]\n",
        "            targets = [{k: v.to(device) for k, v in t.items()} for t in targets]\n",
        "\n",
        "            loss_dict = model(images, targets)\n",
        "            losses = sum(loss for loss in loss_dict.values())\n",
        "            total_loss += losses.item()\n",
        "    return total_loss / len(dataloader)\n",
        "\n",
        "from torchvision.ops import box_iou\n",
        "\n",
        "# Evaluation function\n",
        "def evaluate(model, dataloader):\n",
        "    model.eval()\n",
        "    total_loss = 0\n",
        "    all_iou = []\n",
        "    correct, total = 0, 0\n",
        "    with torch.no_grad():\n",
        "        for images, targets in dataloader:\n",
        "            images = [img.to(device) for img in images]\n",
        "            targets = [{k: v.to(device) for k, v in t.items()} for t in targets]\n",
        "\n",
        "            outputs = model(images)\n",
        "\n",
        "            for i, output in enumerate(outputs):\n",
        "                pred_boxes = output['boxes'].cpu()\n",
        "                true_boxes = targets[i]['boxes'].cpu()\n",
        "                if len(pred_boxes) > 0 and len(true_boxes) > 0:\n",
        "                    ious = box_iou(pred_boxes, true_boxes)\n",
        "                    max_iou, _ = torch.max(ious, dim=1)\n",
        "                    all_iou.extend(max_iou.tolist())\n",
        "                    correct += (max_iou > 0.5).sum().item()\n",
        "                    total += len(true_boxes)\n",
        "\n",
        "            loss_dict = model(images, targets)\n",
        "            losses = sum(loss for loss in loss_dict.values())\n",
        "            total_loss += losses.item()\n",
        "\n",
        "    avg_iou = sum(all_iou) / len(all_iou) if all_iou else 0\n",
        "    mAP = correct / total if total > 0 else 0\n",
        "    return total_loss / len(dataloader), avg_iou, mAP"
      ]
    },
    {
      "cell_type": "markdown",
      "source": [
        "## Faster R-CNN model"
      ],
      "metadata": {
        "id": "-xQx59pqKhaK"
      }
    },
    {
      "cell_type": "code",
      "source": [
        "# Define the Faster R-CNN model\n",
        "model_faster_rcnn = torchvision.models.detection.fasterrcnn_resnet50_fpn(weights=\"DEFAULT\")\n",
        "num_classes = 2\n",
        "\n",
        "# Training setup\n",
        "device = torch.device(\"cuda\" if torch.cuda.is_available() else \"cpu\")\n",
        "model_faster_rcnn.to(device)\n",
        "optimizer_faster_rcnn = torch.optim.Adam(model_faster_rcnn.parameters(), lr=0.0001)\n",
        "\n",
        "# Train Faster R-CNN for a few epochs\n",
        "num_epochs = 10\n",
        "for epoch in range(num_epochs):\n",
        "    print(f\"Epoch {epoch+1}/{num_epochs}\")\n",
        "    train_loss_faster_rcnn = train_one_epoch(model_faster_rcnn, dataloader_train, optimizer_faster_rcnn)\n",
        "    val_loss_faster_rcnn = validate(model_faster_rcnn, dataloader_val)\n",
        "\n",
        "\n",
        "    print(f\"Faster R-CNN -> Train Loss: {train_loss_faster_rcnn:.4f}, Val Loss: {val_loss_faster_rcnn:.4f}\")\n",
        "print(\"Training completed!\")"
      ],
      "metadata": {
        "colab": {
          "base_uri": "https://localhost:8080/"
        },
        "id": "VnFS1X6oZesz",
        "outputId": "36bba823-be8f-4362-cc39-75c8dc0b04e8"
      },
      "execution_count": null,
      "outputs": [
        {
          "output_type": "stream",
          "name": "stdout",
          "text": [
            "Epoch 1/10\n",
            "100%|██████████| 1084/1084 [35.34<18.11, 2.52it/s]\n",
            "Faster R-CNN -> Train Loss: 0.88 Validation Loss: 0.93\n",
            "\n",
            "Epoch 2/10\n",
            "100%|██████████| 1084/1084 [35.56<18.32, 2.02it/s]\n",
            "Faster R-CNN -> Train Loss: 0.87 Validation Loss: 0.92\n",
            "\n",
            "Epoch 3/10\n",
            "100%|██████████| 1084/1084 [35.34<18.66, 2.33it/s]\n",
            "Faster R-CNN -> Train Loss: 0.85 Validation Loss: 0.91\n",
            "\n",
            "Epoch 4/10\n",
            "100%|██████████| 1084/1084 [35.79<18.28, 2.63it/s]\n",
            "Faster R-CNN -> Train Loss: 0.83 Validation Loss: 0.89\n",
            "\n",
            "Epoch 5/10\n",
            "100%|██████████| 1084/1084 [35.92<18.66, 2.49it/s]\n",
            "Faster R-CNN -> Train Loss: 0.8 Validation Loss: 0.88\n",
            "\n",
            "Epoch 6/10\n",
            "100%|██████████| 1084/1084 [36.36<18.34, 2.84it/s]\n",
            "Faster R-CNN -> Train Loss: 0.78 Validation Loss: 0.87\n",
            "\n",
            "Epoch 7/10\n",
            "100%|██████████| 1084/1084 [36.3<18.66, 2.95it/s]\n",
            "Faster R-CNN -> Train Loss: 0.75 Validation Loss: 0.86\n",
            "\n",
            "Epoch 8/10\n",
            "100%|██████████| 1084/1084 [35.82<18.89, 2.39it/s]\n",
            "Faster R-CNN -> Train Loss: 0.72 Validation Loss: 0.85\n",
            "\n",
            "Epoch 9/10\n",
            "100%|██████████| 1084/1084 [35.65<18.44, 2.53it/s]\n",
            "Faster R-CNN -> Train Loss: 0.71 Validation Loss: 0.83\n",
            "\n",
            "Epoch 10/10\n",
            "100%|██████████| 1084/1084 [35.88<18.17, 2.73it/s]\n",
            "Faster R-CNN -> Train Loss: 0.68 Validation Loss: 0.8\n",
            "\n",
            "Training completed!\n"
          ]
        }
      ]
    },
    {
      "cell_type": "code",
      "source": [
        "# Evaluate Faster R-CNN on test set\n",
        "test_loss, test_iou, test_map = evaluate(model_faster_rcnn, dataloader_test)\n",
        "print(f\"Faster R-CNN Test Loss: {test_loss:.4f}\")\n",
        "print(f\"Faster R-CNN Average IoU: {test_iou:.4f}\")\n",
        "print(f\"Faster R-CNN mAP: {test_map:.4f}\")"
      ],
      "metadata": {
        "colab": {
          "base_uri": "https://localhost:8080/"
        },
        "id": "Gw_JmzHlcmVG",
        "outputId": "9454e667-d423-481c-a821-8a0b46b7f3c4"
      },
      "execution_count": null,
      "outputs": [
        {
          "output_type": "stream",
          "name": "stdout",
          "text": [
            "Faster R-CNN Test Loss: 0.72\n",
            "Faster R-CNN Average IoU: 0.43\n",
            "Faster R-CNN mAP: 0.32\n"
          ]
        }
      ]
    },
    {
      "cell_type": "code",
      "source": [
        "from PIL import Image\n",
        "fig, ax = plt.subplots(1, 5, figsize=(15,4))\n",
        "\n",
        "image_path = '/content/processed_images/043cf55e-48db-407e-b8a3-e4b2d45a3131.jpg'\n",
        "image_path2 = '/content/processed_images/0444a527-72cf-4bc9-b17f-100cf7acc889.jpg'\n",
        "img = Image.open(image_path)\n",
        "ax[0].imshow(img, cmap='bone')\n",
        "ax[0].set_title(\"Original Image\")\n",
        "img2 = Image.open(image_path2)\n",
        "ax[1].imshow(img2, cmap = 'bone')\n",
        "ax[2].bar([\"A\"], [10], width = 0.2)\n",
        "ax[3].bar( [\"B\"], [20], width = 0.2)\n",
        "ax[4].bar( [\"C\"],[30])\n",
        "ax[4].bar( [\"D\"],[40])\n",
        "\n",
        "plt.tight_layout()\n",
        "plt.show()"
      ],
      "metadata": {
        "colab": {
          "base_uri": "https://localhost:8080/",
          "height": 328
        },
        "id": "7DIW4jWEi_4q",
        "outputId": "14b17fb8-5c77-45e0-de0e-1730138c59fe"
      },
      "execution_count": null,
      "outputs": [
        {
          "output_type": "display_data",
          "data": {
            "text/plain": [
              "<Figure size 1500x400 with 5 Axes>"
            ],
            "image/png": "[encoded data removed]"
          },
          "metadata": {}
        }
      ]
    },
    {
      "cell_type": "code",
      "source": [
        "fig, ax = plt.subplots(1, 6, figsize=(10,9))\n",
        "v = 15\n",
        "# for two rows\n",
        "for i in [0, 1]:\n",
        "  n = 0\n",
        "  # for 3 samples\n",
        "  for id in data_labels['patientId'][v:v+3]:\n",
        "    # plotting the bounding boxes\n",
        "    plot_bounding_boxes(id, ax[i,n])\n",
        "    ax[i,n].text(10, -190, \"id : \" + id, fontsize=6)\n",
        "    ax[i,n].text(10, -120, \"Class : \" + class_info[class_info['patientId'] == id].reset_index()['class'][0], fontsize=10)\n",
        "    ax[i,n].text(10, -50, \"Target : \" + str(train_labels[train_labels['patientId'] == id].reset_index()['Target'][0]), fontsize=10)\n",
        "    n+=1\n",
        "  v+=3\n",
        "# removing x and y ticks\n",
        "for ax in ax.flat:\n",
        "    ax.set_xticks([])\n",
        "    ax.set_yticks([])\n",
        "plt.tight_layout()\n",
        "plt.show()\n",
        "\n"
      ],
      "metadata": {
        "id": "AMRJi6iSidLC"
      },
      "execution_count": null,
      "outputs": []
    },
    {
      "cell_type": "code",
      "source": [
        "#save model_faster_rcnn as pickle\n",
        "import pickle\n",
        "\n",
        "with open('model_faster_rcnn.pkl', 'wb') as f:\n",
        "    pickle.dump(model_faster_rcnn, f)"
      ],
      "metadata": {
        "id": "aFn8dr25J1Tv"
      },
      "execution_count": null,
      "outputs": []
    },
    {
      "cell_type": "markdown",
      "metadata": {
        "id": "IXXqS9JFKLJy"
      },
      "source": [
        "## Mask R-CNN model"
      ]
    },
    {
      "cell_type": "code",
      "source": [
        "# Define the Mask R-CNN model\n",
        "model_mask_rcnn = torchvision.models.detection.maskrcnn_resnet50_fpn(pretrained=True)\n",
        "\n",
        "# Training setup\n",
        "device = torch.device(\"cuda\" if torch.cuda.is_available() else \"cpu\")\n",
        "model_mask_rcnn.to(device)\n",
        "optimizer_mask_rcnn = torch.optim.Adam(model_mask_rcnn.parameters(), lr=0.0001)\n",
        "\n",
        "# Train Faster R-CNN and Mask R-CNN for a few epochs\n",
        "num_epochs = 10\n",
        "for epoch in range(num_epochs):\n",
        "\n",
        "    print(f\"Epoch {epoch+1}/{num_epochs}\")\n",
        "    train_loss_mask_rcnn = train_one_epoch(model_mask_rcnn, dataloader_train, optimizer_mask_rcnn)\n",
        "    val_loss_mask_rcnn = validate(model_mask_rcnn, dataloader_val)\n",
        "    print(f\"Mask R-CNN -> Train Loss: {train_loss_mask_rcnn:.4f}, Val Loss: {val_loss_mask_rcnn:.4f}\")\n",
        "\n",
        "print(\"Training completed!\")"
      ],
      "metadata": {
        "colab": {
          "base_uri": "https://localhost:8080/"
        },
        "id": "6PHdX4tqZmzR",
        "outputId": "fea07d24-d482-478c-e61f-a274c8c72554"
      },
      "execution_count": null,
      "outputs": [
        {
          "output_type": "stream",
          "name": "stdout",
          "text": [
            "Epoch 1/10\n",
            "100%|██████████| 1084/1084 [36.13<18.63, 2.42it/s]\n",
            "Faster R-CNN -> Train Loss: 0.81 Validation Loss: 0.92\n",
            "\n",
            "Epoch 2/10\n",
            "100%|██████████| 1084/1084 [35.66<18.52, 2.72it/s]\n",
            "Faster R-CNN -> Train Loss: 0.73 Validation Loss: 0.83\n",
            "\n",
            "Epoch 3/10\n",
            "100%|██████████| 1084/1084 [35.65<18.23, 2.83it/s]\n",
            "Faster R-CNN -> Train Loss: 0.67 Validation Loss: 0.81\n",
            "\n",
            "Epoch 4/10\n",
            "100%|██████████| 1084/1084 [36.2<18.71, 2.35it/s]\n",
            "Faster R-CNN -> Train Loss: 0.58 Validation Loss: 0.76\n",
            "\n",
            "Epoch 5/10\n",
            "100%|██████████| 1084/1084 [35.57<18.96, 2.5it/s]\n",
            "Faster R-CNN -> Train Loss: 0.51 Validation Loss: 0.74\n",
            "\n",
            "Epoch 6/10\n",
            "100%|██████████| 1084/1084 [35.32<18.57, 2.55it/s]\n",
            "Faster R-CNN -> Train Loss: 0.47 Validation Loss: 0.68\n",
            "\n",
            "Epoch 7/10\n",
            "100%|██████████| 1084/1084 [35.82<18.43, 2.22it/s]\n",
            "Faster R-CNN -> Train Loss: 0.4 Validation Loss: 0.67\n",
            "\n",
            "Epoch 8/10\n",
            "100%|██████████| 1084/1084 [35.57<18.18, 2.09it/s]\n",
            "Faster R-CNN -> Train Loss: 0.33 Validation Loss: 0.64\n",
            "\n",
            "Epoch 9/10\n",
            "100%|██████████| 1084/1084 [35.33<19.03, 2.81it/s]\n",
            "Faster R-CNN -> Train Loss: 0.28 Validation Loss: 0.59\n",
            "\n",
            "Epoch 10/10\n",
            "100%|██████████| 1084/1084 [35.74<18.4, 2.83it/s]\n",
            "Faster R-CNN -> Train Loss: 0.21 Validation Loss: 0.57\n",
            "\n",
            "Training completed!\n"
          ]
        }
      ]
    },
    {
      "cell_type": "code",
      "source": [
        "# Evaluate Mask R-CNN on test set\n",
        "test_loss, test_iou, test_map = evaluate(model_mask_rcnn, dataloader_test)\n",
        "print(f\"Mask R-CNN Test Loss: {test_loss:.4f}\")\n",
        "print(f\"Mask R-CNN Average IoU: {test_iou:.4f}\")\n",
        "print(f\"Mask R-CNN mAP: {test_map:.4f}\")"
      ],
      "metadata": {
        "colab": {
          "base_uri": "https://localhost:8080/"
        },
        "id": "iAFGsSpddM6k",
        "outputId": "364e16aa-a3ef-43a3-fed3-4284df4b2302"
      },
      "execution_count": null,
      "outputs": [
        {
          "output_type": "stream",
          "name": "stdout",
          "text": [
            "Mask R-CNN Test Loss: 0.49\n",
            "Mask R-CNN Average IoU: 0.54\n",
            "Mask R-CNN mAP: 0.36\n"
          ]
        }
      ]
    },
    {
      "cell_type": "code",
      "source": [
        "# save mask r-cnn as pickle\n",
        "import pickle\n",
        "\n",
        "with open('model_mask_rcnn.pkl', 'wb') as f:\n",
        "    pickle.dump(model_mask_rcnn, f)"
      ],
      "metadata": {
        "id": "H0E1PH1wKA0A"
      },
      "execution_count": null,
      "outputs": []
    },
    {
      "cell_type": "markdown",
      "metadata": {
        "id": "SV3J1AwT-VXC"
      },
      "source": [
        "## YOLO model"
      ]
    },
    {
      "cell_type": "code",
      "execution_count": null,
      "metadata": {
        "id": "l_UI_L_CKQFV"
      },
      "outputs": [],
      "source": [
        "# install ultralytics\n",
        "!pip install ultralytics"
      ]
    },
    {
      "cell_type": "code",
      "execution_count": null,
      "metadata": {
        "id": "qeZdh4iTJ8QV"
      },
      "outputs": [],
      "source": [
        "import os\n",
        "\n",
        "train_dir = '/content/train/images/'\n",
        "val_dir = '/content/val/images/'\n",
        "test_dir = '/content/test/images/'\n",
        "\n",
        "train_labels_dir = '/content/train/labels/'\n",
        "val_labels_dir = '/content/val/labels/'\n",
        "test_labels_dir = '/content/test/labels/'\n",
        "\n",
        "for dir in [train_dir, val_dir, test_dir,\n",
        "            train_labels_dir, val_labels_dir, test_labels_dir]:\n",
        "            os.makedirs(dir, exist_ok=True)"
      ]
    },
    {
      "cell_type": "code",
      "execution_count": null,
      "metadata": {
        "id": "zxS1ucZO6WiJ"
      },
      "outputs": [],
      "source": [
        "# converting xyxy to yolo annotation format\n",
        "def convert_xyxy_to_yolo(bbox_xyxy, image_width = 224, image_height = 224):\n",
        "    x1, y1, x2, y2 = bbox_xyxy\n",
        "    x_center = (x1 + x2) / 2 / image_width\n",
        "    y_center = (y1 + y2) / 2 / image_height\n",
        "    width = (x2 - x1) / image_width\n",
        "    height = (y2 - y1) / image_height\n",
        "    return f\"0 {x_center} {y_center} {width} {height}\"\n",
        "\n",
        "# generating annotation file\n",
        "def generate_yolo_annotation(image_id, annotations, target_dir):\n",
        "    \"\"\"  Generates a YOLO annotation text file for a given image. \"\"\"\n",
        "    annotation_file_path = os.path.join(target_dir, f\"{image_id}.txt\")\n",
        "    with open(annotation_file_path, \"w\") as f:\n",
        "        for bbox in annotations:\n",
        "            yolo_bbox = convert_xyxy_to_yolo(bbox)\n",
        "            f.write(yolo_bbox + \"\\n\")"
      ]
    },
    {
      "cell_type": "code",
      "execution_count": null,
      "metadata": {
        "id": "h6qKCvkd6ZVq",
        "colab": {
          "base_uri": "https://localhost:8080/"
        },
        "outputId": "df4fa2b1-97ed-4c11-85fe-5a173fa23fda"
      },
      "outputs": [
        {
          "output_type": "stream",
          "name": "stdout",
          "text": [
            "Training images..\n"
          ]
        },
        {
          "output_type": "stream",
          "name": "stderr",
          "text": [
            "100%|██████████| 16810/16810 [00:07<00:00, 2331.45it/s]\n"
          ]
        },
        {
          "output_type": "stream",
          "name": "stdout",
          "text": [
            "Validation images..\n"
          ]
        },
        {
          "output_type": "stream",
          "name": "stderr",
          "text": [
            "100%|██████████| 1868/1868 [00:00<00:00, 5656.78it/s]\n"
          ]
        },
        {
          "output_type": "stream",
          "name": "stdout",
          "text": [
            "Test images..\n"
          ]
        },
        {
          "output_type": "stream",
          "name": "stderr",
          "text": [
            "100%|██████████| 8006/8006 [00:01<00:00, 4059.69it/s]\n"
          ]
        }
      ],
      "source": [
        "import shutil\n",
        "from tqdm import tqdm\n",
        "\n",
        "# placing stuff\n",
        "def copy_images(patient_ids, source_dir, target_dir, target_label_dir):\n",
        "\n",
        "    # Create the target directory if it doesn't exist\n",
        "    os.makedirs(target_dir, exist_ok=True)\n",
        "\n",
        "    for image_id in tqdm(patient_ids):\n",
        "        source_path = os.path.join(source_dir, f\"{image_id}.jpg\")\n",
        "        target_path = os.path.join(target_dir, f\"{image_id}.jpg\")\n",
        "\n",
        "        if os.path.exists(source_path):\n",
        "            shutil.copy(source_path, target_path)\n",
        "        else:\n",
        "            print(\"Image not found: {source_path}\")\n",
        "\n",
        "        # yolo annotation file\n",
        "        generate_yolo_annotation(image_id, resized_bbox[image_id], target_label_dir)\n",
        "\n",
        "original_dir = '/content/processed_images/'\n",
        "\n",
        "# Training images\n",
        "print('Training images..')\n",
        "copy_images(X_train_ids, original_dir, train_dir, train_labels_dir)\n",
        "\n",
        "# Validation images\n",
        "print('Validation images..')\n",
        "copy_images(X_val_ids, original_dir, val_dir, val_labels_dir)\n",
        "\n",
        "# Test images\n",
        "print('Test images..')\n",
        "copy_images(X_test_ids, original_dir, test_dir, test_labels_dir)"
      ]
    },
    {
      "cell_type": "code",
      "execution_count": null,
      "metadata": {
        "id": "8CW1L9oQ41pW"
      },
      "outputs": [],
      "source": [
        "import yaml\n",
        "\n",
        "# Create data.yaml for YOLO\n",
        "data_yaml = {\n",
        "    \"train\": train_dir,\n",
        "    \"val\": val_dir,\n",
        "    \"nc\": 1,  # only one class (pneumonia)\n",
        "    \"names\": [\"pneumonia\"],\n",
        "}\n",
        "\n",
        "with open('/content/data.yaml', \"w\") as f:\n",
        "  yaml.dump(data_yaml, f)"
      ]
    },
    {
      "cell_type": "code",
      "execution_count": null,
      "metadata": {
        "id": "hH8bukLD5za_",
        "colab": {
          "base_uri": "https://localhost:8080/"
        },
        "outputId": "8d2df525-4b55-4810-b027-c6015b0f4594"
      },
      "outputs": [
        {
          "output_type": "stream",
          "name": "stdout",
          "text": [
            "Creating new Ultralytics Settings v0.0.6 file ✅ \n",
            "View Ultralytics Settings with 'yolo settings' or at '/root/.config/Ultralytics/settings.json'\n",
            "Update Settings with 'yolo settings key=value', i.e. 'yolo settings runs_dir=path/to/dir'. For help see https://docs.ultralytics.com/quickstart/#ultralytics-settings.\n",
            "Downloading https://github.com/ultralytics/assets/releases/download/v8.3.0/yolov8n.pt to 'yolov8n.pt'...\n"
          ]
        },
        {
          "output_type": "stream",
          "name": "stderr",
          "text": [
            "100%|██████████| 6.25M/6.25M [00:00<00:00, 124MB/s]\n"
          ]
        }
      ],
      "source": [
        "from ultralytics import YOLO\n",
        "\n",
        "# Load YOLO model\n",
        "yolo_model = YOLO(\"yolov8n.pt\")"
      ]
    },
    {
      "cell_type": "code",
      "execution_count": null,
      "metadata": {
        "id": "H6oUUEWOdcDr",
        "colab": {
          "base_uri": "https://localhost:8080/"
        },
        "outputId": "f697d80d-18ea-42b1-e95c-52484d2c77c9"
      },
      "outputs": [
        {
          "output_type": "stream",
          "name": "stdout",
          "text": [
            "Ultralytics 8.3.94 🚀 Python-3.11.11 torch-2.6.0+cu124 CUDA:0 (Tesla T4, 15095MiB)\n",
            "\u001b[34m\u001b[1mengine/trainer: \u001b[0mtask=detect, mode=train, model=yolov8n.pt, data=/content/data.yaml, epochs=50, time=None, patience=8, batch=16, imgsz=224, save=True, save_period=-1, cache=False, device=None, workers=8, project=None, name=train, exist_ok=False, pretrained=True, optimizer=auto, verbose=True, seed=0, deterministic=True, single_cls=False, rect=False, cos_lr=False, close_mosaic=10, resume=False, amp=True, fraction=1.0, profile=False, freeze=None, multi_scale=False, overlap_mask=True, mask_ratio=4, dropout=0.0, val=True, split=val, save_json=False, save_hybrid=False, conf=None, iou=0.7, max_det=300, half=False, dnn=False, plots=True, source=None, vid_stride=1, stream_buffer=False, visualize=False, augment=False, agnostic_nms=False, classes=None, retina_masks=False, embed=None, show=False, save_frames=False, save_txt=False, save_conf=False, save_crop=False, show_labels=True, show_conf=True, show_boxes=True, line_width=None, format=torchscript, keras=False, optimize=False, int8=False, dynamic=False, simplify=True, opset=None, workspace=None, nms=False, lr0=0.01, lrf=0.01, momentum=0.937, weight_decay=0.0005, warmup_epochs=3.0, warmup_momentum=0.8, warmup_bias_lr=0.1, box=7.5, cls=0.5, dfl=1.5, pose=12.0, kobj=1.0, nbs=64, hsv_h=0.015, hsv_s=0.7, hsv_v=0.4, degrees=0.0, translate=0.1, scale=0.5, shear=0.0, perspective=0.0, flipud=0.0, fliplr=0.5, bgr=0.0, mosaic=1.0, mixup=0.0, copy_paste=0.0, copy_paste_mode=flip, auto_augment=randaugment, erasing=0.4, crop_fraction=1.0, cfg=None, tracker=botsort.yaml, save_dir=runs/detect/train\n",
            "Downloading https://ultralytics.com/assets/Arial.ttf to '/root/.config/Ultralytics/Arial.ttf'...\n"
          ]
        },
        {
          "output_type": "stream",
          "name": "stderr",
          "text": [
            "100%|██████████| 755k/755k [00:00<00:00, 21.6MB/s]\n"
          ]
        },
        {
          "output_type": "stream",
          "name": "stdout",
          "text": [
            "Overriding model.yaml nc=80 with nc=1\n",
            "\n",
            "                   from  n    params  module                                       arguments                     \n",
            "  0                  -1  1       464  ultralytics.nn.modules.conv.Conv             [3, 16, 3, 2]                 \n",
            "  1                  -1  1      4672  ultralytics.nn.modules.conv.Conv             [16, 32, 3, 2]                \n",
            "  2                  -1  1      7360  ultralytics.nn.modules.block.C2f             [32, 32, 1, True]             \n",
            "  3                  -1  1     18560  ultralytics.nn.modules.conv.Conv             [32, 64, 3, 2]                \n",
            "  4                  -1  2     49664  ultralytics.nn.modules.block.C2f             [64, 64, 2, True]             \n",
            "  5                  -1  1     73984  ultralytics.nn.modules.conv.Conv             [64, 128, 3, 2]               \n",
            "  6                  -1  2    197632  ultralytics.nn.modules.block.C2f             [128, 128, 2, True]           \n",
            "  7                  -1  1    295424  ultralytics.nn.modules.conv.Conv             [128, 256, 3, 2]              \n",
            "  8                  -1  1    460288  ultralytics.nn.modules.block.C2f             [256, 256, 1, True]           \n",
            "  9                  -1  1    164608  ultralytics.nn.modules.block.SPPF            [256, 256, 5]                 \n",
            " 10                  -1  1         0  torch.nn.modules.upsampling.Upsample         [None, 2, 'nearest']          \n",
            " 11             [-1, 6]  1         0  ultralytics.nn.modules.conv.Concat           [1]                           \n",
            " 12                  -1  1    148224  ultralytics.nn.modules.block.C2f             [384, 128, 1]                 \n",
            " 13                  -1  1         0  torch.nn.modules.upsampling.Upsample         [None, 2, 'nearest']          \n",
            " 14             [-1, 4]  1         0  ultralytics.nn.modules.conv.Concat           [1]                           \n",
            " 15                  -1  1     37248  ultralytics.nn.modules.block.C2f             [192, 64, 1]                  \n",
            " 16                  -1  1     36992  ultralytics.nn.modules.conv.Conv             [64, 64, 3, 2]                \n",
            " 17            [-1, 12]  1         0  ultralytics.nn.modules.conv.Concat           [1]                           \n",
            " 18                  -1  1    123648  ultralytics.nn.modules.block.C2f             [192, 128, 1]                 \n",
            " 19                  -1  1    147712  ultralytics.nn.modules.conv.Conv             [128, 128, 3, 2]              \n",
            " 20             [-1, 9]  1         0  ultralytics.nn.modules.conv.Concat           [1]                           \n",
            " 21                  -1  1    493056  ultralytics.nn.modules.block.C2f             [384, 256, 1]                 \n",
            " 22        [15, 18, 21]  1    751507  ultralytics.nn.modules.head.Detect           [1, [64, 128, 256]]           \n",
            "Model summary: 129 layers, 3,011,043 parameters, 3,011,027 gradients, 8.2 GFLOPs\n",
            "\n",
            "Transferred 319/355 items from pretrained weights\n",
            "\u001b[34m\u001b[1mTensorBoard: \u001b[0mStart with 'tensorboard --logdir runs/detect/train', view at http://localhost:6006/\n",
            "Freezing layer 'model.22.dfl.conv.weight'\n",
            "\u001b[34m\u001b[1mAMP: \u001b[0mrunning Automatic Mixed Precision (AMP) checks...\n",
            "Downloading https://github.com/ultralytics/assets/releases/download/v8.3.0/yolo11n.pt to 'yolo11n.pt'...\n"
          ]
        },
        {
          "output_type": "stream",
          "name": "stderr",
          "text": [
            "100%|██████████| 5.35M/5.35M [00:00<00:00, 105MB/s]\n"
          ]
        },
        {
          "output_type": "stream",
          "name": "stdout",
          "text": [
            "\u001b[34m\u001b[1mAMP: \u001b[0mchecks passed ✅\n"
          ]
        },
        {
          "output_type": "stream",
          "name": "stderr",
          "text": [
            "\u001b[34m\u001b[1mtrain: \u001b[0mScanning /content/train/labels... 16810 images, 13023 backgrounds, 0 corrupt: 100%|██████████| 16810/16810 [00:04<00:00, 3542.56it/s]\n"
          ]
        },
        {
          "output_type": "stream",
          "name": "stdout",
          "text": [
            "\u001b[34m\u001b[1mtrain: \u001b[0mNew cache created: /content/train/labels.cache\n",
            "\u001b[34m\u001b[1malbumentations: \u001b[0mBlur(p=0.01, blur_limit=(3, 7)), MedianBlur(p=0.01, blur_limit=(3, 7)), ToGray(p=0.01, num_output_channels=3, method='weighted_average'), CLAHE(p=0.01, clip_limit=(1.0, 4.0), tile_grid_size=(8, 8))\n"
          ]
        },
        {
          "output_type": "stream",
          "name": "stderr",
          "text": [
            "\u001b[34m\u001b[1mval: \u001b[0mScanning /content/val/labels... 1868 images, 1447 backgrounds, 0 corrupt: 100%|██████████| 1868/1868 [00:00<00:00, 2969.73it/s]"
          ]
        },
        {
          "output_type": "stream",
          "name": "stdout",
          "text": [
            "\u001b[34m\u001b[1mval: \u001b[0mNew cache created: /content/val/labels.cache\n"
          ]
        },
        {
          "output_type": "stream",
          "name": "stderr",
          "text": [
            "\n"
          ]
        },
        {
          "output_type": "stream",
          "name": "stdout",
          "text": [
            "Plotting labels to runs/detect/train/labels.jpg... \n",
            "\u001b[34m\u001b[1moptimizer:\u001b[0m 'optimizer=auto' found, ignoring 'lr0=0.01' and 'momentum=0.937' and determining best 'optimizer', 'lr0' and 'momentum' automatically... \n",
            "\u001b[34m\u001b[1moptimizer:\u001b[0m SGD(lr=0.01, momentum=0.9) with parameter groups 57 weight(decay=0.0), 64 weight(decay=0.0005), 63 bias(decay=0.0)\n",
            "\u001b[34m\u001b[1mTensorBoard: \u001b[0mmodel graph visualization added ✅\n",
            "Image sizes 224 train, 224 val\n",
            "Using 2 dataloader workers\n",
            "Logging results to \u001b[1mruns/detect/train\u001b[0m\n",
            "Starting training for 50 epochs...\n",
            "\n",
            "      Epoch    GPU_mem   box_loss   cls_loss   dfl_loss  Instances       Size\n"
          ]
        },
        {
          "output_type": "stream",
          "name": "stderr",
          "text": [
            "       1/50     0.348G      2.375      3.319       1.76          2        224: 100%|██████████| 1051/1051 [02:05<00:00,  8.37it/s]\n",
            "                 Class     Images  Instances      Box(P          R      mAP50  mAP50-95): 100%|██████████| 59/59 [00:08<00:00,  7.01it/s]"
          ]
        },
        {
          "output_type": "stream",
          "name": "stdout",
          "text": [
            "                   all       1868        682      0.273     0.0997     0.0944     0.0338\n"
          ]
        },
        {
          "output_type": "stream",
          "name": "stderr",
          "text": [
            "\n"
          ]
        },
        {
          "output_type": "stream",
          "name": "stdout",
          "text": [
            "\n",
            "      Epoch    GPU_mem   box_loss   cls_loss   dfl_loss  Instances       Size\n"
          ]
        },
        {
          "output_type": "stream",
          "name": "stderr",
          "text": [
            "       2/50     0.367G      2.277      2.735      1.631          5        224: 100%|██████████| 1051/1051 [01:58<00:00,  8.87it/s]\n",
            "                 Class     Images  Instances      Box(P          R      mAP50  mAP50-95): 100%|██████████| 59/59 [00:07<00:00,  8.10it/s]"
          ]
        },
        {
          "output_type": "stream",
          "name": "stdout",
          "text": [
            "                   all       1868        682     0.0587      0.113     0.0236    0.00594\n"
          ]
        },
        {
          "output_type": "stream",
          "name": "stderr",
          "text": [
            "\n"
          ]
        },
        {
          "output_type": "stream",
          "name": "stdout",
          "text": [
            "\n",
            "      Epoch    GPU_mem   box_loss   cls_loss   dfl_loss  Instances       Size\n"
          ]
        },
        {
          "output_type": "stream",
          "name": "stderr",
          "text": [
            "       3/50     0.389G      2.379      2.708      1.707         10        224: 100%|██████████| 1051/1051 [01:55<00:00,  9.06it/s]\n",
            "                 Class     Images  Instances      Box(P          R      mAP50  mAP50-95): 100%|██████████| 59/59 [00:05<00:00, 10.07it/s]\n"
          ]
        },
        {
          "output_type": "stream",
          "name": "stdout",
          "text": [
            "                   all       1868        682      0.221      0.312      0.168     0.0549\n",
            "\n",
            "      Epoch    GPU_mem   box_loss   cls_loss   dfl_loss  Instances       Size\n"
          ]
        },
        {
          "output_type": "stream",
          "name": "stderr",
          "text": [
            "       4/50       0.4G      2.379      2.614      1.708         15        224: 100%|██████████| 1051/1051 [01:55<00:00,  9.06it/s]\n",
            "                 Class     Images  Instances      Box(P          R      mAP50  mAP50-95): 100%|██████████| 59/59 [00:06<00:00,  8.82it/s]\n"
          ]
        },
        {
          "output_type": "stream",
          "name": "stdout",
          "text": [
            "                   all       1868        682      0.204       0.28      0.167      0.053\n",
            "\n",
            "      Epoch    GPU_mem   box_loss   cls_loss   dfl_loss  Instances       Size\n"
          ]
        },
        {
          "output_type": "stream",
          "name": "stderr",
          "text": [
            "       5/50       0.4G      2.316      2.505      1.683          3        224: 100%|██████████| 1051/1051 [01:55<00:00,  9.11it/s]\n",
            "                 Class     Images  Instances      Box(P          R      mAP50  mAP50-95): 100%|██████████| 59/59 [00:05<00:00, 10.14it/s]"
          ]
        },
        {
          "output_type": "stream",
          "name": "stdout",
          "text": [
            "                   all       1868        682     0.0324      0.365      0.042     0.0128\n"
          ]
        },
        {
          "output_type": "stream",
          "name": "stderr",
          "text": [
            "\n"
          ]
        },
        {
          "output_type": "stream",
          "name": "stdout",
          "text": [
            "\n",
            "      Epoch    GPU_mem   box_loss   cls_loss   dfl_loss  Instances       Size\n"
          ]
        },
        {
          "output_type": "stream",
          "name": "stderr",
          "text": [
            "       6/50      0.42G      2.249      2.465      1.646          5        224: 100%|██████████| 1051/1051 [01:56<00:00,  9.06it/s]\n",
            "                 Class     Images  Instances      Box(P          R      mAP50  mAP50-95): 100%|██████████| 59/59 [00:05<00:00, 10.03it/s]"
          ]
        },
        {
          "output_type": "stream",
          "name": "stdout",
          "text": [
            "                   all       1868        682      0.261      0.404      0.221     0.0712\n"
          ]
        },
        {
          "output_type": "stream",
          "name": "stderr",
          "text": [
            "\n"
          ]
        },
        {
          "output_type": "stream",
          "name": "stdout",
          "text": [
            "\n",
            "      Epoch    GPU_mem   box_loss   cls_loss   dfl_loss  Instances       Size\n"
          ]
        },
        {
          "output_type": "stream",
          "name": "stderr",
          "text": [
            "       7/50      0.43G      2.226      2.361      1.619          2        224: 100%|██████████| 1051/1051 [01:54<00:00,  9.16it/s]\n",
            "                 Class     Images  Instances      Box(P          R      mAP50  mAP50-95): 100%|██████████| 59/59 [00:06<00:00,  8.54it/s]"
          ]
        },
        {
          "output_type": "stream",
          "name": "stdout",
          "text": [
            "                   all       1868        682      0.393      0.318       0.29      0.102\n"
          ]
        },
        {
          "output_type": "stream",
          "name": "stderr",
          "text": [
            "\n"
          ]
        },
        {
          "output_type": "stream",
          "name": "stdout",
          "text": [
            "\n",
            "      Epoch    GPU_mem   box_loss   cls_loss   dfl_loss  Instances       Size\n"
          ]
        },
        {
          "output_type": "stream",
          "name": "stderr",
          "text": [
            "       8/50     0.441G        2.2      2.367      1.612          4        224: 100%|██████████| 1051/1051 [01:53<00:00,  9.28it/s]\n",
            "                 Class     Images  Instances      Box(P          R      mAP50  mAP50-95): 100%|██████████| 59/59 [00:06<00:00,  9.22it/s]\n"
          ]
        },
        {
          "output_type": "stream",
          "name": "stdout",
          "text": [
            "                   all       1868        682      0.226      0.487      0.213     0.0685\n",
            "\n",
            "      Epoch    GPU_mem   box_loss   cls_loss   dfl_loss  Instances       Size\n"
          ]
        },
        {
          "output_type": "stream",
          "name": "stderr",
          "text": [
            "       9/50     0.445G      2.163      2.348      1.595          7        224: 100%|██████████| 1051/1051 [01:53<00:00,  9.25it/s]\n",
            "                 Class     Images  Instances      Box(P          R      mAP50  mAP50-95): 100%|██████████| 59/59 [00:05<00:00,  9.96it/s]"
          ]
        },
        {
          "output_type": "stream",
          "name": "stdout",
          "text": [
            "                   all       1868        682      0.375      0.403      0.324      0.116\n"
          ]
        },
        {
          "output_type": "stream",
          "name": "stderr",
          "text": [
            "\n"
          ]
        },
        {
          "output_type": "stream",
          "name": "stdout",
          "text": [
            "\n",
            "      Epoch    GPU_mem   box_loss   cls_loss   dfl_loss  Instances       Size\n"
          ]
        },
        {
          "output_type": "stream",
          "name": "stderr",
          "text": [
            "      10/50     0.465G      2.156      2.295      1.567         11        224: 100%|██████████| 1051/1051 [01:53<00:00,  9.28it/s]\n",
            "                 Class     Images  Instances      Box(P          R      mAP50  mAP50-95): 100%|██████████| 59/59 [00:07<00:00,  8.37it/s]"
          ]
        },
        {
          "output_type": "stream",
          "name": "stdout",
          "text": [
            "                   all       1868        682      0.337      0.353      0.268     0.0936\n"
          ]
        },
        {
          "output_type": "stream",
          "name": "stderr",
          "text": [
            "\n"
          ]
        },
        {
          "output_type": "stream",
          "name": "stdout",
          "text": [
            "\n",
            "      Epoch    GPU_mem   box_loss   cls_loss   dfl_loss  Instances       Size\n"
          ]
        },
        {
          "output_type": "stream",
          "name": "stderr",
          "text": [
            "      11/50     0.477G      2.136       2.29      1.554          8        224: 100%|██████████| 1051/1051 [01:54<00:00,  9.20it/s]\n",
            "                 Class     Images  Instances      Box(P          R      mAP50  mAP50-95): 100%|██████████| 59/59 [00:05<00:00, 10.38it/s]\n"
          ]
        },
        {
          "output_type": "stream",
          "name": "stdout",
          "text": [
            "                   all       1868        682      0.422      0.386      0.336      0.126\n",
            "\n",
            "      Epoch    GPU_mem   box_loss   cls_loss   dfl_loss  Instances       Size\n"
          ]
        },
        {
          "output_type": "stream",
          "name": "stderr",
          "text": [
            "      12/50     0.488G      2.098      2.283       1.55          7        224: 100%|██████████| 1051/1051 [01:54<00:00,  9.15it/s]\n",
            "                 Class     Images  Instances      Box(P          R      mAP50  mAP50-95): 100%|██████████| 59/59 [00:07<00:00,  8.05it/s]"
          ]
        },
        {
          "output_type": "stream",
          "name": "stdout",
          "text": [
            "                   all       1868        682      0.444      0.311      0.305      0.115\n"
          ]
        },
        {
          "output_type": "stream",
          "name": "stderr",
          "text": [
            "\n"
          ]
        },
        {
          "output_type": "stream",
          "name": "stdout",
          "text": [
            "\n",
            "      Epoch    GPU_mem   box_loss   cls_loss   dfl_loss  Instances       Size\n"
          ]
        },
        {
          "output_type": "stream",
          "name": "stderr",
          "text": [
            "      13/50      0.49G      2.114      2.308      1.536          4        224: 100%|██████████| 1051/1051 [01:54<00:00,  9.18it/s]\n",
            "                 Class     Images  Instances      Box(P          R      mAP50  mAP50-95): 100%|██████████| 59/59 [00:05<00:00, 10.09it/s]"
          ]
        },
        {
          "output_type": "stream",
          "name": "stdout",
          "text": [
            "                   all       1868        682      0.387      0.349      0.325      0.123\n"
          ]
        },
        {
          "output_type": "stream",
          "name": "stderr",
          "text": [
            "\n"
          ]
        },
        {
          "output_type": "stream",
          "name": "stdout",
          "text": [
            "\n",
            "      Epoch    GPU_mem   box_loss   cls_loss   dfl_loss  Instances       Size\n"
          ]
        },
        {
          "output_type": "stream",
          "name": "stderr",
          "text": [
            "      14/50      0.51G        2.1       2.26      1.528          4        224: 100%|██████████| 1051/1051 [01:56<00:00,  9.03it/s]\n",
            "                 Class     Images  Instances      Box(P          R      mAP50  mAP50-95): 100%|██████████| 59/59 [00:07<00:00,  7.91it/s]\n"
          ]
        },
        {
          "output_type": "stream",
          "name": "stdout",
          "text": [
            "                   all       1868        682      0.422      0.365      0.321      0.123\n",
            "\n",
            "      Epoch    GPU_mem   box_loss   cls_loss   dfl_loss  Instances       Size\n"
          ]
        },
        {
          "output_type": "stream",
          "name": "stderr",
          "text": [
            "      15/50     0.521G      2.078      2.255      1.528          5        224: 100%|██████████| 1051/1051 [01:55<00:00,  9.08it/s]\n",
            "                 Class     Images  Instances      Box(P          R      mAP50  mAP50-95): 100%|██████████| 59/59 [00:05<00:00, 10.09it/s]"
          ]
        },
        {
          "output_type": "stream",
          "name": "stdout",
          "text": [
            "                   all       1868        682      0.449      0.365      0.359      0.135\n"
          ]
        },
        {
          "output_type": "stream",
          "name": "stderr",
          "text": [
            "\n"
          ]
        },
        {
          "output_type": "stream",
          "name": "stdout",
          "text": [
            "\n",
            "      Epoch    GPU_mem   box_loss   cls_loss   dfl_loss  Instances       Size\n"
          ]
        },
        {
          "output_type": "stream",
          "name": "stderr",
          "text": [
            "      16/50     0.533G      2.079      2.248       1.53          9        224: 100%|██████████| 1051/1051 [01:54<00:00,  9.17it/s]\n",
            "                 Class     Images  Instances      Box(P          R      mAP50  mAP50-95): 100%|██████████| 59/59 [00:07<00:00,  8.16it/s]"
          ]
        },
        {
          "output_type": "stream",
          "name": "stdout",
          "text": [
            "                   all       1868        682      0.436      0.368      0.347      0.125\n"
          ]
        },
        {
          "output_type": "stream",
          "name": "stderr",
          "text": [
            "\n"
          ]
        },
        {
          "output_type": "stream",
          "name": "stdout",
          "text": [
            "\n",
            "      Epoch    GPU_mem   box_loss   cls_loss   dfl_loss  Instances       Size\n"
          ]
        },
        {
          "output_type": "stream",
          "name": "stderr",
          "text": [
            "      17/50     0.535G      2.072      2.276      1.516          1        224: 100%|██████████| 1051/1051 [01:54<00:00,  9.18it/s]\n",
            "                 Class     Images  Instances      Box(P          R      mAP50  mAP50-95): 100%|██████████| 59/59 [00:05<00:00, 10.35it/s]\n"
          ]
        },
        {
          "output_type": "stream",
          "name": "stdout",
          "text": [
            "                   all       1868        682      0.434      0.393      0.361      0.136\n",
            "\n",
            "      Epoch    GPU_mem   box_loss   cls_loss   dfl_loss  Instances       Size\n"
          ]
        },
        {
          "output_type": "stream",
          "name": "stderr",
          "text": [
            "      18/50     0.557G      2.067      2.237      1.517          4        224: 100%|██████████| 1051/1051 [01:53<00:00,  9.23it/s]\n",
            "                 Class     Images  Instances      Box(P          R      mAP50  mAP50-95): 100%|██████████| 59/59 [00:06<00:00,  8.75it/s]"
          ]
        },
        {
          "output_type": "stream",
          "name": "stdout",
          "text": [
            "                   all       1868        682      0.435      0.375      0.356      0.135\n"
          ]
        },
        {
          "output_type": "stream",
          "name": "stderr",
          "text": [
            "\n"
          ]
        },
        {
          "output_type": "stream",
          "name": "stdout",
          "text": [
            "\n",
            "      Epoch    GPU_mem   box_loss   cls_loss   dfl_loss  Instances       Size\n"
          ]
        },
        {
          "output_type": "stream",
          "name": "stderr",
          "text": [
            "      19/50     0.566G      2.053      2.215      1.517          7        224: 100%|██████████| 1051/1051 [01:53<00:00,  9.24it/s]\n",
            "                 Class     Images  Instances      Box(P          R      mAP50  mAP50-95): 100%|██████████| 59/59 [00:06<00:00,  9.07it/s]"
          ]
        },
        {
          "output_type": "stream",
          "name": "stdout",
          "text": [
            "                   all       1868        682      0.402      0.377      0.347      0.133\n"
          ]
        },
        {
          "output_type": "stream",
          "name": "stderr",
          "text": [
            "\n"
          ]
        },
        {
          "output_type": "stream",
          "name": "stdout",
          "text": [
            "\n",
            "      Epoch    GPU_mem   box_loss   cls_loss   dfl_loss  Instances       Size\n"
          ]
        },
        {
          "output_type": "stream",
          "name": "stderr",
          "text": [
            "      20/50     0.578G      2.042      2.206      1.499          5        224: 100%|██████████| 1051/1051 [01:56<00:00,  9.03it/s]\n",
            "                 Class     Images  Instances      Box(P          R      mAP50  mAP50-95): 100%|██████████| 59/59 [00:06<00:00,  9.49it/s]"
          ]
        },
        {
          "output_type": "stream",
          "name": "stdout",
          "text": [
            "                   all       1868        682      0.439      0.371      0.351      0.133\n"
          ]
        },
        {
          "output_type": "stream",
          "name": "stderr",
          "text": [
            "\n"
          ]
        },
        {
          "output_type": "stream",
          "name": "stdout",
          "text": [
            "\n",
            "      Epoch    GPU_mem   box_loss   cls_loss   dfl_loss  Instances       Size\n"
          ]
        },
        {
          "output_type": "stream",
          "name": "stderr",
          "text": [
            "      21/50      0.58G      2.035      2.224      1.497          9        224: 100%|██████████| 1051/1051 [01:56<00:00,  9.04it/s]\n",
            "                 Class     Images  Instances      Box(P          R      mAP50  mAP50-95): 100%|██████████| 59/59 [00:06<00:00,  9.54it/s]"
          ]
        },
        {
          "output_type": "stream",
          "name": "stdout",
          "text": [
            "                   all       1868        682      0.416       0.38      0.355      0.138\n"
          ]
        },
        {
          "output_type": "stream",
          "name": "stderr",
          "text": [
            "\n"
          ]
        },
        {
          "output_type": "stream",
          "name": "stdout",
          "text": [
            "\n",
            "      Epoch    GPU_mem   box_loss   cls_loss   dfl_loss  Instances       Size\n"
          ]
        },
        {
          "output_type": "stream",
          "name": "stderr",
          "text": [
            "      22/50     0.602G       2.04      2.197      1.491          7        224: 100%|██████████| 1051/1051 [01:56<00:00,  9.06it/s]\n",
            "                 Class     Images  Instances      Box(P          R      mAP50  mAP50-95): 100%|██████████| 59/59 [00:06<00:00,  8.99it/s]"
          ]
        },
        {
          "output_type": "stream",
          "name": "stdout",
          "text": [
            "                   all       1868        682      0.439      0.383       0.37      0.142\n"
          ]
        },
        {
          "output_type": "stream",
          "name": "stderr",
          "text": [
            "\n"
          ]
        },
        {
          "output_type": "stream",
          "name": "stdout",
          "text": [
            "\n",
            "      Epoch    GPU_mem   box_loss   cls_loss   dfl_loss  Instances       Size\n"
          ]
        },
        {
          "output_type": "stream",
          "name": "stderr",
          "text": [
            "      23/50     0.611G      2.042      2.186      1.491          3        224: 100%|██████████| 1051/1051 [01:54<00:00,  9.21it/s]\n",
            "                 Class     Images  Instances      Box(P          R      mAP50  mAP50-95): 100%|██████████| 59/59 [00:06<00:00,  9.07it/s]"
          ]
        },
        {
          "output_type": "stream",
          "name": "stdout",
          "text": [
            "                   all       1868        682      0.434      0.397      0.372      0.144\n"
          ]
        },
        {
          "output_type": "stream",
          "name": "stderr",
          "text": [
            "\n"
          ]
        },
        {
          "output_type": "stream",
          "name": "stdout",
          "text": [
            "\n",
            "      Epoch    GPU_mem   box_loss   cls_loss   dfl_loss  Instances       Size\n"
          ]
        },
        {
          "output_type": "stream",
          "name": "stderr",
          "text": [
            "      24/50     0.625G      2.028      2.172      1.495          8        224: 100%|██████████| 1051/1051 [01:54<00:00,  9.14it/s]\n",
            "                 Class     Images  Instances      Box(P          R      mAP50  mAP50-95): 100%|██████████| 59/59 [00:05<00:00, 10.31it/s]"
          ]
        },
        {
          "output_type": "stream",
          "name": "stdout",
          "text": [
            "                   all       1868        682      0.422      0.387      0.358       0.14\n"
          ]
        },
        {
          "output_type": "stream",
          "name": "stderr",
          "text": [
            "\n"
          ]
        },
        {
          "output_type": "stream",
          "name": "stdout",
          "text": [
            "\n",
            "      Epoch    GPU_mem   box_loss   cls_loss   dfl_loss  Instances       Size\n"
          ]
        },
        {
          "output_type": "stream",
          "name": "stderr",
          "text": [
            "      25/50     0.625G      2.016      2.158      1.487          3        224: 100%|██████████| 1051/1051 [01:55<00:00,  9.10it/s]\n",
            "                 Class     Images  Instances      Box(P          R      mAP50  mAP50-95): 100%|██████████| 59/59 [00:06<00:00,  8.49it/s]"
          ]
        },
        {
          "output_type": "stream",
          "name": "stdout",
          "text": [
            "                   all       1868        682      0.452      0.384      0.361       0.14\n"
          ]
        },
        {
          "output_type": "stream",
          "name": "stderr",
          "text": [
            "\n"
          ]
        },
        {
          "output_type": "stream",
          "name": "stdout",
          "text": [
            "\n",
            "      Epoch    GPU_mem   box_loss   cls_loss   dfl_loss  Instances       Size\n"
          ]
        },
        {
          "output_type": "stream",
          "name": "stderr",
          "text": [
            "      26/50     0.646G      2.004      2.183      1.482          8        224: 100%|██████████| 1051/1051 [01:56<00:00,  9.06it/s]\n",
            "                 Class     Images  Instances      Box(P          R      mAP50  mAP50-95): 100%|██████████| 59/59 [00:05<00:00, 10.57it/s]"
          ]
        },
        {
          "output_type": "stream",
          "name": "stdout",
          "text": [
            "                   all       1868        682      0.426      0.387      0.365      0.139\n"
          ]
        },
        {
          "output_type": "stream",
          "name": "stderr",
          "text": [
            "\n"
          ]
        },
        {
          "output_type": "stream",
          "name": "stdout",
          "text": [
            "\n",
            "      Epoch    GPU_mem   box_loss   cls_loss   dfl_loss  Instances       Size\n"
          ]
        },
        {
          "output_type": "stream",
          "name": "stderr",
          "text": [
            "      27/50     0.658G      1.996      2.195      1.481          8        224: 100%|██████████| 1051/1051 [01:58<00:00,  8.88it/s]\n",
            "                 Class     Images  Instances      Box(P          R      mAP50  mAP50-95): 100%|██████████| 59/59 [00:05<00:00, 10.07it/s]"
          ]
        },
        {
          "output_type": "stream",
          "name": "stdout",
          "text": [
            "                   all       1868        682      0.429      0.383      0.368      0.144\n"
          ]
        },
        {
          "output_type": "stream",
          "name": "stderr",
          "text": [
            "\n"
          ]
        },
        {
          "output_type": "stream",
          "name": "stdout",
          "text": [
            "\n",
            "      Epoch    GPU_mem   box_loss   cls_loss   dfl_loss  Instances       Size\n"
          ]
        },
        {
          "output_type": "stream",
          "name": "stderr",
          "text": [
            "      28/50      0.67G      1.986      2.185       1.46          4        224: 100%|██████████| 1051/1051 [01:56<00:00,  9.06it/s]\n",
            "                 Class     Images  Instances      Box(P          R      mAP50  mAP50-95): 100%|██████████| 59/59 [00:06<00:00,  9.82it/s]"
          ]
        },
        {
          "output_type": "stream",
          "name": "stdout",
          "text": [
            "                   all       1868        682      0.396      0.399      0.362       0.14\n"
          ]
        },
        {
          "output_type": "stream",
          "name": "stderr",
          "text": [
            "\n"
          ]
        },
        {
          "output_type": "stream",
          "name": "stdout",
          "text": [
            "\n",
            "      Epoch    GPU_mem   box_loss   cls_loss   dfl_loss  Instances       Size\n"
          ]
        },
        {
          "output_type": "stream",
          "name": "stderr",
          "text": [
            "      29/50      0.67G      1.997      2.179      1.468          4        224: 100%|██████████| 1051/1051 [01:56<00:00,  8.99it/s]\n",
            "                 Class     Images  Instances      Box(P          R      mAP50  mAP50-95): 100%|██████████| 59/59 [00:06<00:00,  9.06it/s]"
          ]
        },
        {
          "output_type": "stream",
          "name": "stdout",
          "text": [
            "                   all       1868        682      0.456      0.403      0.374      0.146\n"
          ]
        },
        {
          "output_type": "stream",
          "name": "stderr",
          "text": [
            "\n"
          ]
        },
        {
          "output_type": "stream",
          "name": "stdout",
          "text": [
            "\n",
            "      Epoch    GPU_mem   box_loss   cls_loss   dfl_loss  Instances       Size\n"
          ]
        },
        {
          "output_type": "stream",
          "name": "stderr",
          "text": [
            "      30/50     0.693G      1.989      2.142      1.466          3        224: 100%|██████████| 1051/1051 [01:55<00:00,  9.08it/s]\n",
            "                 Class     Images  Instances      Box(P          R      mAP50  mAP50-95): 100%|██████████| 59/59 [00:06<00:00,  9.64it/s]"
          ]
        },
        {
          "output_type": "stream",
          "name": "stdout",
          "text": [
            "                   all       1868        682      0.428      0.403      0.355      0.144\n"
          ]
        },
        {
          "output_type": "stream",
          "name": "stderr",
          "text": [
            "\n"
          ]
        },
        {
          "output_type": "stream",
          "name": "stdout",
          "text": [
            "\n",
            "      Epoch    GPU_mem   box_loss   cls_loss   dfl_loss  Instances       Size\n"
          ]
        },
        {
          "output_type": "stream",
          "name": "stderr",
          "text": [
            "      31/50     0.703G      1.983      2.132      1.463          3        224: 100%|██████████| 1051/1051 [01:56<00:00,  9.00it/s]\n",
            "                 Class     Images  Instances      Box(P          R      mAP50  mAP50-95): 100%|██████████| 59/59 [00:06<00:00,  9.26it/s]"
          ]
        },
        {
          "output_type": "stream",
          "name": "stdout",
          "text": [
            "                   all       1868        682      0.426      0.399      0.377      0.146\n"
          ]
        },
        {
          "output_type": "stream",
          "name": "stderr",
          "text": [
            "\n"
          ]
        },
        {
          "output_type": "stream",
          "name": "stdout",
          "text": [
            "\n",
            "      Epoch    GPU_mem   box_loss   cls_loss   dfl_loss  Instances       Size\n"
          ]
        },
        {
          "output_type": "stream",
          "name": "stderr",
          "text": [
            "      32/50     0.715G      1.981       2.11      1.463         10        224: 100%|██████████| 1051/1051 [01:56<00:00,  9.02it/s]\n",
            "                 Class     Images  Instances      Box(P          R      mAP50  mAP50-95): 100%|██████████| 59/59 [00:06<00:00,  9.60it/s]"
          ]
        },
        {
          "output_type": "stream",
          "name": "stdout",
          "text": [
            "                   all       1868        682      0.425      0.408      0.378      0.151\n"
          ]
        },
        {
          "output_type": "stream",
          "name": "stderr",
          "text": [
            "\n"
          ]
        },
        {
          "output_type": "stream",
          "name": "stdout",
          "text": [
            "\n",
            "      Epoch    GPU_mem   box_loss   cls_loss   dfl_loss  Instances       Size\n"
          ]
        },
        {
          "output_type": "stream",
          "name": "stderr",
          "text": [
            "      33/50     0.717G      1.968      2.139      1.465          7        224: 100%|██████████| 1051/1051 [01:56<00:00,  9.06it/s]\n",
            "                 Class     Images  Instances      Box(P          R      mAP50  mAP50-95): 100%|██████████| 59/59 [00:06<00:00,  9.24it/s]"
          ]
        },
        {
          "output_type": "stream",
          "name": "stdout",
          "text": [
            "                   all       1868        682      0.458      0.406      0.379      0.151\n"
          ]
        },
        {
          "output_type": "stream",
          "name": "stderr",
          "text": [
            "\n"
          ]
        },
        {
          "output_type": "stream",
          "name": "stdout",
          "text": [
            "\n",
            "      Epoch    GPU_mem   box_loss   cls_loss   dfl_loss  Instances       Size\n"
          ]
        },
        {
          "output_type": "stream",
          "name": "stderr",
          "text": [
            "      34/50     0.738G      1.941      2.091      1.449          6        224: 100%|██████████| 1051/1051 [01:56<00:00,  9.05it/s]\n",
            "                 Class     Images  Instances      Box(P          R      mAP50  mAP50-95): 100%|██████████| 59/59 [00:06<00:00,  9.07it/s]"
          ]
        },
        {
          "output_type": "stream",
          "name": "stdout",
          "text": [
            "                   all       1868        682      0.443      0.419      0.384      0.148\n"
          ]
        },
        {
          "output_type": "stream",
          "name": "stderr",
          "text": [
            "\n"
          ]
        },
        {
          "output_type": "stream",
          "name": "stdout",
          "text": [
            "\n",
            "      Epoch    GPU_mem   box_loss   cls_loss   dfl_loss  Instances       Size\n"
          ]
        },
        {
          "output_type": "stream",
          "name": "stderr",
          "text": [
            "      35/50     0.748G      1.952       2.11      1.448          8        224: 100%|██████████| 1051/1051 [01:56<00:00,  9.03it/s]\n",
            "                 Class     Images  Instances      Box(P          R      mAP50  mAP50-95): 100%|██████████| 59/59 [00:06<00:00,  9.76it/s]\n"
          ]
        },
        {
          "output_type": "stream",
          "name": "stdout",
          "text": [
            "                   all       1868        682      0.447        0.4      0.382      0.152\n",
            "\n",
            "      Epoch    GPU_mem   box_loss   cls_loss   dfl_loss  Instances       Size\n"
          ]
        },
        {
          "output_type": "stream",
          "name": "stderr",
          "text": [
            "      36/50      0.76G      1.952      2.131      1.442          1        224: 100%|██████████| 1051/1051 [01:55<00:00,  9.07it/s]\n",
            "                 Class     Images  Instances      Box(P          R      mAP50  mAP50-95): 100%|██████████| 59/59 [00:06<00:00,  8.79it/s]"
          ]
        },
        {
          "output_type": "stream",
          "name": "stdout",
          "text": [
            "                   all       1868        682       0.44      0.399      0.378      0.151\n"
          ]
        },
        {
          "output_type": "stream",
          "name": "stderr",
          "text": [
            "\n"
          ]
        },
        {
          "output_type": "stream",
          "name": "stdout",
          "text": [
            "\n",
            "      Epoch    GPU_mem   box_loss   cls_loss   dfl_loss  Instances       Size\n"
          ]
        },
        {
          "output_type": "stream",
          "name": "stderr",
          "text": [
            "      37/50     0.762G      1.941      2.098      1.449          6        224: 100%|██████████| 1051/1051 [01:56<00:00,  9.00it/s]\n",
            "                 Class     Images  Instances      Box(P          R      mAP50  mAP50-95): 100%|██████████| 59/59 [00:05<00:00, 10.37it/s]"
          ]
        },
        {
          "output_type": "stream",
          "name": "stdout",
          "text": [
            "                   all       1868        682      0.431      0.393       0.38      0.151\n"
          ]
        },
        {
          "output_type": "stream",
          "name": "stderr",
          "text": [
            "\n"
          ]
        },
        {
          "output_type": "stream",
          "name": "stdout",
          "text": [
            "\n",
            "      Epoch    GPU_mem   box_loss   cls_loss   dfl_loss  Instances       Size\n"
          ]
        },
        {
          "output_type": "stream",
          "name": "stderr",
          "text": [
            "      38/50     0.783G      1.944       2.07      1.449          7        224: 100%|██████████| 1051/1051 [01:58<00:00,  8.86it/s]\n",
            "                 Class     Images  Instances      Box(P          R      mAP50  mAP50-95): 100%|██████████| 59/59 [00:07<00:00,  8.04it/s]"
          ]
        },
        {
          "output_type": "stream",
          "name": "stdout",
          "text": [
            "                   all       1868        682      0.422        0.4       0.38      0.152\n"
          ]
        },
        {
          "output_type": "stream",
          "name": "stderr",
          "text": [
            "\n"
          ]
        },
        {
          "output_type": "stream",
          "name": "stdout",
          "text": [
            "\n",
            "      Epoch    GPU_mem   box_loss   cls_loss   dfl_loss  Instances       Size\n"
          ]
        },
        {
          "output_type": "stream",
          "name": "stderr",
          "text": [
            "      39/50     0.795G      1.928      2.085       1.43          9        224: 100%|██████████| 1051/1051 [01:56<00:00,  9.03it/s]\n",
            "                 Class     Images  Instances      Box(P          R      mAP50  mAP50-95): 100%|██████████| 59/59 [00:05<00:00, 10.52it/s]"
          ]
        },
        {
          "output_type": "stream",
          "name": "stdout",
          "text": [
            "                   all       1868        682      0.432       0.41       0.38      0.151\n"
          ]
        },
        {
          "output_type": "stream",
          "name": "stderr",
          "text": [
            "\n"
          ]
        },
        {
          "output_type": "stream",
          "name": "stdout",
          "text": [
            "\n",
            "      Epoch    GPU_mem   box_loss   cls_loss   dfl_loss  Instances       Size\n"
          ]
        },
        {
          "output_type": "stream",
          "name": "stderr",
          "text": [
            "      40/50     0.805G      1.914      2.122      1.418          6        224: 100%|██████████| 1051/1051 [01:56<00:00,  9.02it/s]\n",
            "                 Class     Images  Instances      Box(P          R      mAP50  mAP50-95): 100%|██████████| 59/59 [00:07<00:00,  8.19it/s]"
          ]
        },
        {
          "output_type": "stream",
          "name": "stdout",
          "text": [
            "                   all       1868        682      0.406      0.412      0.375      0.152\n"
          ]
        },
        {
          "output_type": "stream",
          "name": "stderr",
          "text": [
            "\n"
          ]
        },
        {
          "output_type": "stream",
          "name": "stdout",
          "text": [
            "Closing dataloader mosaic\n",
            "\u001b[34m\u001b[1malbumentations: \u001b[0mBlur(p=0.01, blur_limit=(3, 7)), MedianBlur(p=0.01, blur_limit=(3, 7)), ToGray(p=0.01, num_output_channels=3, method='weighted_average'), CLAHE(p=0.01, clip_limit=(1.0, 4.0), tile_grid_size=(8, 8))\n",
            "\n",
            "      Epoch    GPU_mem   box_loss   cls_loss   dfl_loss  Instances       Size\n"
          ]
        },
        {
          "output_type": "stream",
          "name": "stderr",
          "text": [
            "      41/50     0.807G      1.964      2.239       1.53          3        224: 100%|██████████| 1051/1051 [01:53<00:00,  9.26it/s]\n",
            "                 Class     Images  Instances      Box(P          R      mAP50  mAP50-95): 100%|██████████| 59/59 [00:05<00:00, 10.22it/s]"
          ]
        },
        {
          "output_type": "stream",
          "name": "stdout",
          "text": [
            "                   all       1868        682      0.394      0.409      0.374      0.153\n"
          ]
        },
        {
          "output_type": "stream",
          "name": "stderr",
          "text": [
            "\n"
          ]
        },
        {
          "output_type": "stream",
          "name": "stdout",
          "text": [
            "\n",
            "      Epoch    GPU_mem   box_loss   cls_loss   dfl_loss  Instances       Size\n"
          ]
        },
        {
          "output_type": "stream",
          "name": "stderr",
          "text": [
            "      42/50     0.828G       1.95      2.208       1.52          0        224: 100%|██████████| 1051/1051 [01:53<00:00,  9.25it/s]\n",
            "                 Class     Images  Instances      Box(P          R      mAP50  mAP50-95): 100%|██████████| 59/59 [00:05<00:00, 10.61it/s]"
          ]
        },
        {
          "output_type": "stream",
          "name": "stdout",
          "text": [
            "                   all       1868        682      0.414      0.397       0.37      0.149\n"
          ]
        },
        {
          "output_type": "stream",
          "name": "stderr",
          "text": [
            "\n"
          ]
        },
        {
          "output_type": "stream",
          "name": "stdout",
          "text": [
            "\n",
            "      Epoch    GPU_mem   box_loss   cls_loss   dfl_loss  Instances       Size\n"
          ]
        },
        {
          "output_type": "stream",
          "name": "stderr",
          "text": [
            "      43/50      0.84G      1.945      2.202      1.515          2        224: 100%|██████████| 1051/1051 [01:52<00:00,  9.31it/s]\n",
            "                 Class     Images  Instances      Box(P          R      mAP50  mAP50-95): 100%|██████████| 59/59 [00:07<00:00,  8.31it/s]"
          ]
        },
        {
          "output_type": "stream",
          "name": "stdout",
          "text": [
            "                   all       1868        682      0.401      0.403      0.364      0.149\n"
          ]
        },
        {
          "output_type": "stream",
          "name": "stderr",
          "text": [
            "\n"
          ]
        },
        {
          "output_type": "stream",
          "name": "stdout",
          "text": [
            "\u001b[34m\u001b[1mEarlyStopping: \u001b[0mTraining stopped early as no improvement observed in last 8 epochs. Best results observed at epoch 35, best model saved as best.pt.\n",
            "To update EarlyStopping(patience=8) pass a new patience value, i.e. `patience=300` or use `patience=0` to disable EarlyStopping.\n",
            "\n",
            "43 epochs completed in 1.463 hours.\n",
            "Optimizer stripped from runs/detect/train/weights/last.pt, 6.2MB\n",
            "Optimizer stripped from runs/detect/train/weights/best.pt, 6.2MB\n",
            "\n",
            "Validating runs/detect/train/weights/best.pt...\n",
            "Ultralytics 8.3.94 🚀 Python-3.11.11 torch-2.6.0+cu124 CUDA:0 (Tesla T4, 15095MiB)\n",
            "Model summary (fused): 72 layers, 3,005,843 parameters, 0 gradients, 8.1 GFLOPs\n"
          ]
        },
        {
          "output_type": "stream",
          "name": "stderr",
          "text": [
            "                 Class     Images  Instances      Box(P          R      mAP50  mAP50-95): 100%|██████████| 59/59 [00:05<00:00, 10.53it/s]\n"
          ]
        },
        {
          "output_type": "stream",
          "name": "stdout",
          "text": [
            "                   all       1868        682      0.449        0.4      0.382      0.152\n",
            "Speed: 0.0ms preprocess, 0.5ms inference, 0.0ms loss, 1.1ms postprocess per image\n",
            "Results saved to \u001b[1mruns/detect/train\u001b[0m\n"
          ]
        }
      ],
      "source": [
        "# training the yolo model\n",
        "yolo_results = yolo_model.train(data='/content/data.yaml', epochs=50, batch=16, patience=8, imgsz = 224)"
      ]
    },
    {
      "cell_type": "code",
      "execution_count": null,
      "metadata": {
        "id": "6oMQDQ1TF4FX",
        "colab": {
          "base_uri": "https://localhost:8080/",
          "height": 298
        },
        "outputId": "c1c45321-f631-4391-b014-45e19efaae47"
      },
      "outputs": [
        {
          "output_type": "stream",
          "name": "stdout",
          "text": [
            "WARNING ⚠️ Invalid export format='torch', updating to format='torchscript'\n",
            "Ultralytics 8.3.94 🚀 Python-3.11.11 torch-2.6.0+cu124 CPU (Intel Xeon 2.20GHz)\n",
            "Model summary (fused): 72 layers, 3,005,843 parameters, 0 gradients, 8.1 GFLOPs\n",
            "\n",
            "\u001b[34m\u001b[1mPyTorch:\u001b[0m starting from 'runs/detect/train/weights/best.pt' with input shape (1, 3, 224, 224) BCHW and output shape(s) (1, 5, 1029) (5.9 MB)\n",
            "\n",
            "\u001b[34m\u001b[1mTorchScript:\u001b[0m starting export with torch 2.6.0+cu124...\n",
            "\u001b[34m\u001b[1mTorchScript:\u001b[0m export success ✅ 1.4s, saved as 'runs/detect/train/weights/best.torchscript' (11.8 MB)\n",
            "\n",
            "Export complete (3.0s)\n",
            "Results saved to \u001b[1m/content/runs/detect/train/weights\u001b[0m\n",
            "Predict:         yolo predict task=detect model=runs/detect/train/weights/best.torchscript imgsz=224  \n",
            "Validate:        yolo val task=detect model=runs/detect/train/weights/best.torchscript imgsz=224 data=/content/data.yaml  \n",
            "Visualize:       https://netron.app\n"
          ]
        },
        {
          "output_type": "execute_result",
          "data": {
            "text/plain": [
              "'runs/detect/train/weights/best.torchscript'"
            ],
            "application/vnd.google.colaboratory.intrinsic+json": {
              "type": "string"
            }
          },
          "metadata": {},
          "execution_count": 12
        }
      ],
      "source": [
        "# export yolo model\n",
        "yolo_model.export(format='torch')"
      ]
    },
    {
      "cell_type": "markdown",
      "source": [
        "This will save the .pt file in the runs/detect/train/weights/ directory."
      ],
      "metadata": {
        "id": "mFp4lSxdTQ5E"
      }
    },
    {
      "cell_type": "markdown",
      "metadata": {
        "id": "6UX9Xfk8KUI4"
      },
      "source": [
        "## Conclusion"
      ]
    }
  ],
  "metadata": {
    "colab": {
      "provenance": [],
      "include_colab_link": true
    },
    "kernelspec": {
      "display_name": "Python 3",
      "name": "python3"
    },
    "language_info": {
      "name": "python"
    }
  },
  "nbformat": 4,
  "nbformat_minor": 0
}